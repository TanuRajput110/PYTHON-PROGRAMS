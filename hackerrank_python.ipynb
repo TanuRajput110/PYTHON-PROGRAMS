{
  "nbformat": 4,
  "nbformat_minor": 0,
  "metadata": {
    "colab": {
      "provenance": [],
      "collapsed_sections": [],
      "authorship_tag": "ABX9TyOIrPgP71yk+4J9grlHCG2/",
      "include_colab_link": true
    },
    "kernelspec": {
      "name": "python3",
      "display_name": "Python 3"
    },
    "language_info": {
      "name": "python"
    }
  },
  "cells": [
    {
      "cell_type": "markdown",
      "metadata": {
        "id": "view-in-github",
        "colab_type": "text"
      },
      "source": [
        "<a href=\"https://colab.research.google.com/github/TanuRajput110/PYTHON-PROGRAMS/blob/main/hackerrank_python.ipynb\" target=\"_parent\"><img src=\"https://colab.research.google.com/assets/colab-badge.svg\" alt=\"Open In Colab\"/></a>"
      ]
    },
    {
      "cell_type": "markdown",
      "source": [
        "#**Introduction**"
      ],
      "metadata": {
        "id": "Z9rUJ9ppfI4j"
      }
    },
    {
      "cell_type": "markdown",
      "source": [
        "##python if-else\n",
        "\n",
        "\n",
        "**Task**\n",
        "Given an integer, , perform the following conditional actions:\n",
        "\n",
        "If n is odd, print Weird\n",
        "\n",
        "If n is even and in the inclusive range of **2** to **5**, print Not Weird\n",
        "\n",
        "If n is even and in the inclusive range of **6** to **20**, print Weird\n",
        "\n",
        "If n is even and greater than **20**, print Not Weird\n",
        "\n",
        "**Input Format**\n",
        "\n",
        "A single line containing a positive integer, .\n",
        "\n",
        "\n",
        "**Output Format**\n",
        "\n",
        "Print Weird if the number is weird. Otherwise, print Not Weird."
      ],
      "metadata": {
        "id": "0P_eb7CbWrPt"
      }
    },
    {
      "cell_type": "code",
      "source": [
        "#python if-else\n",
        "num=int(input(\"enter a number:--\"))\n",
        "if num<0:\n",
        "  print(\"enter a positive number.\")\n",
        "else:\n",
        "  if num%2==0:\n",
        "    if num>=2 & num<=5:\n",
        "       print(\"number is not weird\")\n",
        "    if num>=6 & num<=20:\n",
        "       print(\"number is weird\") \n",
        "    if num>20:\n",
        "       print(\"number is not weird\")\n",
        "  else:\n",
        "     print(\"number is  weird\")        "
      ],
      "metadata": {
        "colab": {
          "base_uri": "https://localhost:8080/"
        },
        "id": "mx-IyiuUWfCu",
        "outputId": "4b146f62-0b04-47ab-94c4-97ee228e1c8f"
      },
      "execution_count": 10,
      "outputs": [
        {
          "output_type": "stream",
          "name": "stdout",
          "text": [
            "enter a number:--34\n",
            "number is not weird\n",
            "number is weird\n",
            "number is not weird\n"
          ]
        }
      ]
    },
    {
      "cell_type": "code",
      "source": [
        "n = int(input().strip())  #The strip() method removes any leading (spaces at the beginning) and trailing (spaces at the end) characters (space is the default leading character to remove)\n",
        "\n",
        "if (n%2!=0) or (n>=6 and n<=20):\n",
        "    print(\"Weird\")\n",
        "else:\n",
        "    print(\"Not Weird\")"
      ],
      "metadata": {
        "colab": {
          "base_uri": "https://localhost:8080/"
        },
        "id": "zEWYt9PMZklK",
        "outputId": "e6959fbd-78f4-4353-c22c-ada22e1169dd"
      },
      "execution_count": 9,
      "outputs": [
        {
          "output_type": "stream",
          "name": "stdout",
          "text": [
            "22\n",
            "Not Weird\n"
          ]
        }
      ]
    },
    {
      "cell_type": "markdown",
      "source": [
        "##Airthmetic operator\n",
        "\n",
        "**Task**\n",
        "\n",
        "The provided code stub reads two integers from STDIN,  a and  b. Add code to print three lines where:\n",
        "\n",
        "The first line contains the sum of the two numbers.\n",
        "\n",
        "The second line contains the difference of the two numbers (first - second).\n",
        "\n",
        "The third line contains the product of the two numbers."
      ],
      "metadata": {
        "id": "Va1T4vZAaOux"
      }
    },
    {
      "cell_type": "code",
      "source": [
        "a,b=int(input()),int(input())\n",
        "sum=a+b\n",
        "diff=a-b\n",
        "mul=a*b\n",
        "print(f\"sum:{sum}\\nsubtraction:{diff}\\nmultiplication:{mul}\")"
      ],
      "metadata": {
        "colab": {
          "base_uri": "https://localhost:8080/"
        },
        "id": "iiTcsANWaj70",
        "outputId": "289d3c86-56d7-4075-a41a-b4feaa855bec"
      },
      "execution_count": 20,
      "outputs": [
        {
          "output_type": "stream",
          "name": "stdout",
          "text": [
            "8\n",
            "7\n",
            "sum:15\n",
            "subtraction:1\n",
            "multiplication:56\n"
          ]
        }
      ]
    },
    {
      "cell_type": "markdown",
      "source": [
        "**Task**\n",
        "\n",
        "The provided code stub reads and integer **n** , from STDIN. For all non-negative integers   **i<n** , print i**2 ."
      ],
      "metadata": {
        "id": "LSaFHAfhdIhv"
      }
    },
    {
      "cell_type": "code",
      "source": [
        "n=int(input())\n",
        "for i in range(n):\n",
        "  print(i**2)"
      ],
      "metadata": {
        "colab": {
          "base_uri": "https://localhost:8080/"
        },
        "id": "gucS1pX8cZGb",
        "outputId": "6265b1ff-2b21-4d15-8512-f1b6d4617939"
      },
      "execution_count": 21,
      "outputs": [
        {
          "output_type": "stream",
          "name": "stdout",
          "text": [
            "6\n",
            "0\n",
            "1\n",
            "4\n",
            "9\n",
            "16\n",
            "25\n"
          ]
        }
      ]
    },
    {
      "cell_type": "markdown",
      "source": [
        "**Task**\n",
        "\n",
        "Given a year, determine whether it is a leap year. If it is a leap year, return the Boolean True, otherwise return False.\n",
        "\n",
        "Note that the code stub provided reads from STDIN and passes arguments to the is_leap function. It is only necessary to complete the is_leap function."
      ],
      "metadata": {
        "id": "3IpLG9vZeExd"
      }
    },
    {
      "cell_type": "code",
      "source": [
        "def is_leap(year):\n",
        "  if year%4 or (year%100 & year%400):\n",
        "    print(\"it is leap year\")\n",
        "  else:\n",
        "    print(\"not a leap year\")  \n",
        "is_leap(2017)    "
      ],
      "metadata": {
        "colab": {
          "base_uri": "https://localhost:8080/"
        },
        "id": "guZmNzvVeNfE",
        "outputId": "87be2c73-a4e6-4014-a734-17b98a73730b"
      },
      "execution_count": 22,
      "outputs": [
        {
          "output_type": "stream",
          "name": "stdout",
          "text": [
            "it is leap year\n"
          ]
        }
      ]
    },
    {
      "cell_type": "markdown",
      "source": [
        "#**Basic data Type**"
      ],
      "metadata": {
        "id": "-xJT9neRfccp"
      }
    },
    {
      "cell_type": "markdown",
      "source": [
        "Consider a list (list = []). You can perform the following commands:\n",
        "\n",
        "insert i e: Insert integer  at position .\n",
        "\n",
        "print: Print the list.\n",
        "\n",
        "remove e: Delete the first occurrence of integer .\n",
        "\n",
        "append e: Insert integer  at the end of the list.\n",
        "\n",
        "sort: Sort the list.\n",
        "\n",
        "pop: Pop the last element from the list.\n",
        "\n",
        "reverse: Reverse the list.\n",
        "\n",
        "Initialize your list and read in the value of n followed by n lines of commands where each command will be  of the 7 types listed above. Iterate through each command in order and perform the corresponding operation on your list."
      ],
      "metadata": {
        "id": "v-9LYYehfxV3"
      }
    },
    {
      "cell_type": "code",
      "source": [
        "list=[]\n",
        "list.insert(0,5)\n",
        "list.insert(1,10)\n",
        "list.insert(0,6)\n",
        "print(list)\n",
        "list.remove(6)\n",
        "list.append(9)\n",
        "list.append(1)\n",
        "list.sort()\n",
        "print(list)\n",
        "list.pop()\n",
        "list.reverse()\n",
        "print(list)\n"
      ],
      "metadata": {
        "colab": {
          "base_uri": "https://localhost:8080/"
        },
        "id": "UWSs0Xpzfg4A",
        "outputId": "6bfb908b-8894-4641-e236-7870d4ebaa8c"
      },
      "execution_count": 25,
      "outputs": [
        {
          "output_type": "stream",
          "name": "stdout",
          "text": [
            "[6, 5, 10]\n",
            "[1, 5, 9, 10]\n",
            "[9, 5, 1]\n"
          ]
        }
      ]
    },
    {
      "cell_type": "markdown",
      "source": [
        "**Task**\n",
        "\n",
        "Given an integer n , and n space-separated integers as input, create a tuple, t , of those n integers. Then compute and print the result of hash(t)\n",
        "\n",
        "**Input Format**\n",
        "\n",
        "The first line contains an integer,n , denoting the number of elements in the tuple.\n",
        "\n",
        "The second line contains n space-separated integers describing the elements in tuple t."
      ],
      "metadata": {
        "id": "p1j_I81HjpJA"
      }
    },
    {
      "cell_type": "code",
      "source": [
        "n=int(input())\n",
        "a=tuple(map(int,input().split()))\n",
        "print(hash(a))"
      ],
      "metadata": {
        "colab": {
          "base_uri": "https://localhost:8080/"
        },
        "id": "pp4_yY3Oj0IA",
        "outputId": "6265fb2c-7054-469c-f103-02bb7d9c3946"
      },
      "execution_count": 29,
      "outputs": [
        {
          "output_type": "stream",
          "name": "stdout",
          "text": [
            "5\n",
            "3 4 7 4 3 2 2\n",
            "-4778982817557348234\n"
          ]
        }
      ]
    },
    {
      "cell_type": "markdown",
      "source": [
        "##List comprehension"
      ],
      "metadata": {
        "id": "kmwHXLVrmG1F"
      }
    },
    {
      "cell_type": "code",
      "source": [
        "lst=[int(input())+1 for i in range(4)]\n",
        "print([[x,y,z] for x in range(lst[0]) for y in range(lst[1]) for z in range(lst[2]) if x+y+z!=lst[3]-1])5\n"
      ],
      "metadata": {
        "colab": {
          "base_uri": "https://localhost:8080/"
        },
        "id": "ptU2vzqpm-mC",
        "outputId": "9c64dbf7-7dd9-48f4-fb20-77b774c67dee"
      },
      "execution_count": 34,
      "outputs": [
        {
          "output_type": "stream",
          "name": "stdout",
          "text": [
            "5\n",
            "4\n",
            "2\n",
            "3\n",
            "[[0, 0, 0], [0, 0, 1], [0, 0, 2], [0, 1, 0], [0, 1, 1], [0, 2, 0], [0, 2, 2], [0, 3, 1], [0, 3, 2], [0, 4, 0], [0, 4, 1], [0, 4, 2], [1, 0, 0], [1, 0, 1], [1, 1, 0], [1, 1, 2], [1, 2, 1], [1, 2, 2], [1, 3, 0], [1, 3, 1], [1, 3, 2], [1, 4, 0], [1, 4, 1], [1, 4, 2], [2, 0, 0], [2, 0, 2], [2, 1, 1], [2, 1, 2], [2, 2, 0], [2, 2, 1], [2, 2, 2], [2, 3, 0], [2, 3, 1], [2, 3, 2], [2, 4, 0], [2, 4, 1], [2, 4, 2], [3, 0, 1], [3, 0, 2], [3, 1, 0], [3, 1, 1], [3, 1, 2], [3, 2, 0], [3, 2, 1], [3, 2, 2], [3, 3, 0], [3, 3, 1], [3, 3, 2], [3, 4, 0], [3, 4, 1], [3, 4, 2], [4, 0, 0], [4, 0, 1], [4, 0, 2], [4, 1, 0], [4, 1, 1], [4, 1, 2], [4, 2, 0], [4, 2, 1], [4, 2, 2], [4, 3, 0], [4, 3, 1], [4, 3, 2], [4, 4, 0], [4, 4, 1], [4, 4, 2], [5, 0, 0], [5, 0, 1], [5, 0, 2], [5, 1, 0], [5, 1, 1], [5, 1, 2], [5, 2, 0], [5, 2, 1], [5, 2, 2], [5, 3, 0], [5, 3, 1], [5, 3, 2], [5, 4, 0], [5, 4, 1], [5, 4, 2]]\n"
          ]
        }
      ]
    }
  ]
}