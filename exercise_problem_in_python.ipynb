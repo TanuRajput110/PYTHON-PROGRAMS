{
  "nbformat": 4,
  "nbformat_minor": 0,
  "metadata": {
    "colab": {
      "name": "200 exercise problem in  python.ipynb",
      "provenance": [],
      "collapsed_sections": [],
      "authorship_tag": "ABX9TyN4AtaL70mSDMFt74UxZV46",
      "include_colab_link": true
    },
    "kernelspec": {
      "name": "python3",
      "display_name": "Python 3"
    },
    "language_info": {
      "name": "python"
    }
  },
  "cells": [
    {
      "cell_type": "markdown",
      "metadata": {
        "id": "view-in-github",
        "colab_type": "text"
      },
      "source": [
        "<a href=\"https://colab.research.google.com/github/TanuRajput110/PYTHON-PROGRAMS/blob/main/exercise_problem_in_python.ipynb\" target=\"_parent\"><img src=\"https://colab.research.google.com/assets/colab-badge.svg\" alt=\"Open In Colab\"/></a>"
      ]
    },
    {
      "cell_type": "markdown",
      "source": [
        "**1.Write a Python program which takes two digits m (row) and n (column) as input and generates a two-dimensional array.**"
      ],
      "metadata": {
        "id": "qNonrN9j6LUA"
      }
    },
    {
      "cell_type": "code",
      "execution_count": 1,
      "metadata": {
        "colab": {
          "base_uri": "https://localhost:8080/"
        },
        "id": "o7Y6_y7W2C2d",
        "outputId": "d5a876fe-8dbc-4239-b349-4ba5a5f09587"
      },
      "outputs": [
        {
          "output_type": "stream",
          "name": "stdout",
          "text": [
            "enter the row count----3\n",
            "enter the column count----4\n",
            "[[0, 0, 0, 0], [0, 1, 2, 3], [0, 2, 4, 6]]\n"
          ]
        }
      ],
      "source": [
        " \n",
        "# The element value in the i-th row and j-th column of the array should be i*j.\n",
        "# Note :\n",
        "# i = 0,1.., m-1 \n",
        "# j = 0,1, n-1.\n",
        "# Input\n",
        "# Input number of rows: 3                                                                                       \n",
        "# Input number of columns: 4  \n",
        "# Output\n",
        "# [[0, 0, 0, 0], [0, 1, 2, 3], [0, 2, 4, 6]] \n",
        "m=int(input(\"enter the row count----\"))\n",
        "n=int(input(\"enter the column count----\"))\n",
        "arr = [[i*j for i in range(n)] for j in range(m)]\n",
        "print(arr)\n"
      ]
    },
    {
      "cell_type": "code",
      "source": [
        "row_num = int(input(\"Input number of rows: \"))\n",
        "col_num = int(input(\"Input number of columns: \"))\n",
        "multi_list = [[0 for col in range(col_num)] for row in range(row_num)]\n",
        "for row in range(row_num):\n",
        "    for col in range(col_num):\n",
        "        multi_list[row][col]= row*col\n",
        "print(multi_list)"
      ],
      "metadata": {
        "colab": {
          "base_uri": "https://localhost:8080/"
        },
        "id": "uCgeVMdx4PsA",
        "outputId": "5e7fd28a-1031-4354-ea55-13b28a25e2e8"
      },
      "execution_count": 2,
      "outputs": [
        {
          "output_type": "stream",
          "name": "stdout",
          "text": [
            "Input number of rows: 3\n",
            "Input number of columns: 4\n",
            "[[0, 0, 0, 0], [0, 1, 2, 3], [0, 2, 4, 6]]\n"
          ]
        }
      ]
    },
    {
      "cell_type": "markdown",
      "source": [
        "**2.Write a Python program to check a triangle is valid or not**"
      ],
      "metadata": {
        "id": "r0iFRWss6T4X"
      }
    },
    {
      "cell_type": "code",
      "source": [
        "def is_valid_triangle(a,b,c):\n",
        "    if a+b>=c and b+c>=a and c+a>=b:\n",
        "        return True\n",
        "    else:\n",
        "        return False\n",
        "\n",
        "# Reading Three Sides\n",
        "side_a = float(input('Enter length of side a: '))\n",
        "side_b = float(input('Enter length of side b: '))\n",
        "side_c = float(input('Enter length of side c: '))\n",
        "\n",
        "# Function call & making decision\n",
        "\n",
        "if is_valid_triangle(side_a, side_b, side_c):\n",
        "    print('Triangle is Valid.')\n",
        "else:\n",
        "    print('Triangle is Invalid.')\n",
        "    \n"
      ],
      "metadata": {
        "colab": {
          "base_uri": "https://localhost:8080/"
        },
        "id": "yNpuirgU6oeo",
        "outputId": "608357b8-7213-4901-94d0-732bfb851870"
      },
      "execution_count": 4,
      "outputs": [
        {
          "output_type": "stream",
          "name": "stdout",
          "text": [
            "Enter length of side a: 23\n",
            "Enter length of side b: 26\n",
            "Enter length of side c: 29\n",
            "Triangle is Valid.\n"
          ]
        }
      ]
    },
    {
      "cell_type": "code",
      "source": [
        "a = float(input('Enter length of side a: '))\n",
        "b = float(input('Enter length of side b: '))\n",
        "c = float(input('Enter length of side c: '))\n",
        "if a+b>=c and b+c>=a and c+a>=b:\n",
        "     print(\"valid traingle\")\n",
        "else:\n",
        "     print(\"non valid traingle\")   "
      ],
      "metadata": {
        "colab": {
          "base_uri": "https://localhost:8080/"
        },
        "id": "IzVNd9hw8WDJ",
        "outputId": "d5510eb4-214f-4bd4-b659-a4221670e9f6"
      },
      "execution_count": 5,
      "outputs": [
        {
          "output_type": "stream",
          "name": "stdout",
          "text": [
            "Enter length of side a: 23\n",
            "Enter length of side b: 26\n",
            "Enter length of side c: 29\n",
            "valid traingle\n"
          ]
        }
      ]
    },
    {
      "cell_type": "markdown",
      "source": [
        "**3.# Write a Python program to construct the following pattern, using a nested loop number.**\n",
        "\n",
        "1                                                                                                             \n",
        "22                                                                                                            \n",
        "333                                                                                                           \n",
        "4444                                                                                                          \n",
        "55555                                                                                                         \n",
        "666666                                                                                                        \n",
        "7777777  \n",
        "                                                                                                      88888888                                                                                                      \n",
        "999999999  "
      ],
      "metadata": {
        "id": "Ygu3SzHb864W"
      }
    },
    {
      "cell_type": "code",
      "source": [
        "for i in range(10):\n",
        "    print(str(i) * i)"
      ],
      "metadata": {
        "colab": {
          "base_uri": "https://localhost:8080/"
        },
        "id": "ma3ImrvD_1Pt",
        "outputId": "a34cbe13-1f3b-448a-b6f8-7157b516dc4a"
      },
      "execution_count": 6,
      "outputs": [
        {
          "output_type": "stream",
          "name": "stdout",
          "text": [
            "\n",
            "1\n",
            "22\n",
            "333\n",
            "4444\n",
            "55555\n",
            "666666\n",
            "7777777\n",
            "88888888\n",
            "999999999\n"
          ]
        }
      ]
    },
    {
      "cell_type": "markdown",
      "source": [
        "** 4. Write a Python program to construct the following pattern, using a nested for loop.**\n",
        "\n",
        "#  * \n",
        "# * * \n",
        "# * * * \n",
        "# * * * * \n",
        "# * * * * * \n",
        "# * * * * \n",
        "# * * * \n",
        "# * * \n",
        "# *"
      ],
      "metadata": {
        "id": "cqjL95t_A0cs"
      }
    },
    {
      "cell_type": "code",
      "source": [
        "n=5;\n",
        "for i in range(n):\n",
        "    for j in range(i):\n",
        "        print ('* ', end=\"\")\n",
        "    print('')\n",
        "for i in range(n,0,-1):\n",
        "    for j in range(i):\n",
        "        print('* ', end=\"\")\n",
        "    print('')"
      ],
      "metadata": {
        "colab": {
          "base_uri": "https://localhost:8080/"
        },
        "id": "dQxQvNQiCyrz",
        "outputId": "23732ceb-56c4-4ff6-d3c9-861be4c6c23d"
      },
      "execution_count": 11,
      "outputs": [
        {
          "output_type": "stream",
          "name": "stdout",
          "text": [
            "\n",
            "* \n",
            "* * \n",
            "* * * \n",
            "* * * * \n",
            "* * * * * \n",
            "* * * * \n",
            "* * * \n",
            "* * \n",
            "* \n"
          ]
        }
      ]
    },
    {
      "cell_type": "code",
      "source": [
        "n=5\n",
        "\n",
        "for i in range(n):\n",
        " print('*'*(i+1))\n",
        "for i in range(n-1):\n",
        " print('*'*(n-i-1)) "
      ],
      "metadata": {
        "colab": {
          "base_uri": "https://localhost:8080/"
        },
        "id": "z8KO7oYCDIor",
        "outputId": "8cbbd02b-99f7-4bf9-a34c-1f2af2ebb5da"
      },
      "execution_count": 14,
      "outputs": [
        {
          "output_type": "stream",
          "name": "stdout",
          "text": [
            "*\n",
            "**\n",
            "***\n",
            "****\n",
            "*****\n",
            "****\n",
            "***\n",
            "**\n",
            "*\n"
          ]
        }
      ]
    },
    {
      "cell_type": "markdown",
      "source": [
        "**5.Write a Python program that accepts a string and calculate the number of digits and letters**\n",
        "\n",
        "Sample Data : \"Python 3.2\"\n",
        "\n",
        "Expected Output :\n",
        "\n",
        "Letters 6 \n",
        "\n",
        " Digits 2"
      ],
      "metadata": {
        "id": "KbQcq-uYEaEe"
      }
    },
    {
      "cell_type": "code",
      "source": [
        "s = input(\"Input a string\")\n",
        "d=l=0\n",
        "for c in s:\n",
        "    if c.isdigit():\n",
        "        d=d+1\n",
        "    elif c.isalpha():\n",
        "        l=l+1\n",
        "    else:\n",
        "        pass\n",
        "print(\"Letters\", l)\n",
        "print(\"Digits\", d)"
      ],
      "metadata": {
        "colab": {
          "base_uri": "https://localhost:8080/"
        },
        "id": "hBYX5uioEwy0",
        "outputId": "23760053-9dfc-448d-d654-d34f56c2e4ba"
      },
      "execution_count": 15,
      "outputs": [
        {
          "output_type": "stream",
          "name": "stdout",
          "text": [
            "Input a stringhii i am tanu rajput 689\n",
            "Letters 16\n",
            "Digits 3\n"
          ]
        }
      ]
    },
    {
      "cell_type": "markdown",
      "source": [
        "**6. Count the number of even and odd numbers from a series of numbers**\n",
        "\n",
        " Input \n",
        "\n",
        " numbers = (1, 2, 3, 4, 5, 6, 7, 8, 9)     Declaring the tuple\n",
        "\n",
        " Output--\n",
        "\n",
        " Number of even numbers :   4                                                                                 \n",
        " Number of odd numbers : 5 "
      ],
      "metadata": {
        "id": "Lrb_6JbzObFm"
      }
    },
    {
      "cell_type": "code",
      "source": [
        "numbers = (1, 2, 3, 4, 5, 6, 7, 8, 9)\n",
        "#we cann't change into the tuple so we have to convert the tuple into the list\n",
        "num=list(numbers)\n",
        "even=odd=0\n",
        "for i in num:\n",
        "  if i%2==0:\n",
        "     even=even+1\n",
        "  else:\n",
        "      odd=odd+1  \n",
        "print(\"even number count==\",even) \n",
        "print(\"odd number count==\",odd)      "
      ],
      "metadata": {
        "colab": {
          "base_uri": "https://localhost:8080/"
        },
        "id": "Qw9ntS_xQEwm",
        "outputId": "dab116d2-e3b0-483b-9cae-8964774d58ed"
      },
      "execution_count": 19,
      "outputs": [
        {
          "output_type": "stream",
          "name": "stdout",
          "text": [
            "even number count== 4\n",
            "odd number count== 5\n"
          ]
        }
      ]
    },
    {
      "cell_type": "markdown",
      "source": [
        "** 7.Write a Python program to get the Fibonacci series between 0 to 50 **"
      ],
      "metadata": {
        "id": "rhaosLmsVw8E"
      }
    },
    {
      "cell_type": "code",
      "source": [
        "x,y=0,1\n",
        "while y<50:\n",
        "    print(y)\n",
        "    x,y = y,x+y\n"
      ],
      "metadata": {
        "colab": {
          "base_uri": "https://localhost:8080/"
        },
        "id": "LPWCYIkLbO5C",
        "outputId": "486b6ef5-5425-4179-a9e1-0e12cb5e1c12"
      },
      "execution_count": 21,
      "outputs": [
        {
          "output_type": "stream",
          "name": "stdout",
          "text": [
            "1\n",
            "1\n",
            "2\n",
            "3\n",
            "5\n",
            "8\n",
            "13\n",
            "21\n",
            "34\n"
          ]
        }
      ]
    },
    {
      "cell_type": "markdown",
      "source": [
        "**  8.Write a Python program to find those numbers which are divisible by 7 and multiple of 5, between 1500 and 2700. **"
      ],
      "metadata": {
        "id": "67mspHJDc_1D"
      }
    },
    {
      "cell_type": "code",
      "source": [
        "list=[i for i in range(1500,2701)  if i%7==0 and i%5==0 ]\n",
        "print(list)"
      ],
      "metadata": {
        "colab": {
          "base_uri": "https://localhost:8080/"
        },
        "id": "2Sq2e7Dfejuu",
        "outputId": "42b0d90d-e441-4ee7-a78b-ed497617bfe6"
      },
      "execution_count": 27,
      "outputs": [
        {
          "output_type": "stream",
          "name": "stdout",
          "text": [
            "[1505, 1540, 1575, 1610, 1645, 1680, 1715, 1750, 1785, 1820, 1855, 1890, 1925, 1960, 1995, 2030, 2065, 2100, 2135, 2170, 2205, 2240, 2275, 2310, 2345, 2380, 2415, 2450, 2485, 2520, 2555, 2590, 2625, 2660, 2695]\n"
          ]
        }
      ]
    },
    {
      "cell_type": "code",
      "source": [
        "nl=[]\n",
        "for i in range(1500,2701):\n",
        "  if i%7==0 and i%5==0:\n",
        "     nl.append(str(i))\n",
        "print (','.join(nl))     "
      ],
      "metadata": {
        "colab": {
          "base_uri": "https://localhost:8080/"
        },
        "id": "h6ihR2dxdhu1",
        "outputId": "2edb3e71-03b3-4097-da4c-c9534d560291"
      },
      "execution_count": 26,
      "outputs": [
        {
          "output_type": "stream",
          "name": "stdout",
          "text": [
            "1505,1540,1575,1610,1645,1680,1715,1750,1785,1820,1855,1890,1925,1960,1995,2030,2065,2100,2135,2170,2205,2240,2275,2310,2345,2380,2415,2450,2485,2520,2555,2590,2625,2660,2695\n"
          ]
        }
      ]
    },
    {
      "cell_type": "markdown",
      "source": [
        "** 9.# Generate a random number between 1 and 9 (including 1 and 9).\n",
        "\n",
        "     Ask the user to guess the number, then tell them whether they guessed too low, too high, or exactly right. "
      ],
      "metadata": {
        "id": "WZGU7Qmcfcva"
      }
    },
    {
      "cell_type": "code",
      "source": [
        "import random\n",
        "num=random.randint(1,10)\n",
        "\n",
        "guess=int(input(\"guess number is--\"))\n",
        "guess = 0\n",
        "count = 0\n",
        "while guess != num5 and guess != \"exit\":\n",
        "    guess = input(\"What's your guess?\")\n",
        "    \n",
        "    if guess == \"exit\":\n",
        "        break\n",
        "    \n",
        "    guess = int(guess)\n",
        "    count += 1\n",
        "if guess==num:\n",
        "  print(\"exactly right\")\n",
        "elif guess<num:\n",
        "  print(\"guessed is too low\") \n",
        "elif guess >num:\n",
        "  print(\"guessed is too high\")\n",
        "print(\"random number is--\",num)     "
      ],
      "metadata": {
        "colab": {
          "base_uri": "https://localhost:8080/"
        },
        "id": "VbV5g6ImfmPD",
        "outputId": "fbd58763-d476-4628-a926-84d5314635a5"
      },
      "execution_count": 36,
      "outputs": [
        {
          "output_type": "stream",
          "name": "stdout",
          "text": [
            "guess number is--5\n",
            "What's your guess?6\n",
            "What's your guess?4\n",
            "What's your guess?3\n",
            "What's your guess?8\n",
            "What's your guess?2\n",
            "What's your guess?1\n",
            "What's your guess?3\n",
            "What's your guess?7\n",
            "What's your guess?8\n",
            "What's your guess?9\n",
            "exactly right\n",
            "random number is-- 9\n"
          ]
        }
      ]
    },
    {
      "cell_type": "markdown",
      "source": [
        "10. Write a Python program to check the validity of a password (input from users)."
      ],
      "metadata": {
        "id": "L8mDYbzOiZXZ"
      }
    },
    {
      "cell_type": "code",
      "source": [
        "import re\n",
        "p= input(\"Input your password\")\n",
        "x = True\n",
        "while x:  \n",
        "    if (len(p)<6 or len(p)>12):\n",
        "        break\n",
        "    elif not re.search(\"[a-z]\",p):\n",
        "        break\n",
        "    elif not re.search(\"[0-9]\",p):\n",
        "        break\n",
        "    elif not re.search(\"[A-Z]\",p):\n",
        "        break\n",
        "    elif not re.search(\"[$#@]\",p):\n",
        "        break\n",
        "    elif re.search(\"\\s\",p):\n",
        "        break\n",
        "    else:\n",
        "        print(\"Valid Password\")\n",
        "        x=False\n",
        "        break\n",
        "if x:\n",
        "    print(\"Not a Valid Password\")"
      ],
      "metadata": {
        "colab": {
          "base_uri": "https://localhost:8080/"
        },
        "id": "3tmvcOBjlnU3",
        "outputId": "bb2893e9-815e-41b0-f50b-71a291cf4ec8"
      },
      "execution_count": 37,
      "outputs": [
        {
          "output_type": "stream",
          "name": "stdout",
          "text": [
            "Input your passworddheuyfrei5869iw#\n",
            "Not a Valid Password\n"
          ]
        }
      ]
    }
  ]
}