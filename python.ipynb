{
  "nbformat": 4,
  "nbformat_minor": 0,
  "metadata": {
    "colab": {
      "name": "python.ipynb",
      "provenance": [],
      "collapsed_sections": [],
      "authorship_tag": "ABX9TyPsAcSr/W787Y4c0axvW4J1",
      "include_colab_link": true
    },
    "kernelspec": {
      "name": "python3",
      "display_name": "Python 3"
    },
    "language_info": {
      "name": "python"
    }
  },
  "cells": [
    {
      "cell_type": "markdown",
      "metadata": {
        "id": "view-in-github",
        "colab_type": "text"
      },
      "source": [
        "<a href=\"https://colab.research.google.com/github/TanuRajput110/PYTHON-PROGRAMS/blob/main/python.ipynb\" target=\"_parent\"><img src=\"https://colab.research.google.com/assets/colab-badge.svg\" alt=\"Open In Colab\"/></a>"
      ]
    },
    {
      "cell_type": "markdown",
      "metadata": {
        "id": "GwWGLZ7WuoQW"
      },
      "source": [
        "1.Check palindrome number and symmetrical number."
      ]
    },
    {
      "cell_type": "code",
      "metadata": {
        "id": "-Z0IY5MWYlSp",
        "colab": {
          "base_uri": "https://localhost:8080/"
        },
        "outputId": "14e19959-88e0-455a-d81d-fe32da64ae5b"
      },
      "source": [
        "#slicing\n",
        "s=input(\"enter a string\")\n",
        "rev=s[::-1]\n",
        "if s==rev:\n",
        "  print(\"it is palindrome\")\n",
        "else:\n",
        "  print(\"not palindrome\")  \n",
        "half=int(len(s)/2)\n",
        "if len(s)%2==0:    #even\n",
        "  x=s[:half]\n",
        "  y=s[half:]\n",
        "else: #odd\n",
        "  x=s[:half]  \n",
        "  y=s[half+1:]\n",
        "#symmetric\n",
        "if x==y:\n",
        "  print(\"syym\")\n",
        "else:\n",
        "  print(\"not syym\")"
      ],
      "execution_count": null,
      "outputs": [
        {
          "output_type": "stream",
          "name": "stdout",
          "text": [
            "enter a stringtanu\n",
            "not palindrome\n",
            "not syym\n"
          ]
        }
      ]
    },
    {
      "cell_type": "code",
      "metadata": {
        "colab": {
          "base_uri": "https://localhost:8080/"
        },
        "id": "d1ggU8F8zW6P",
        "outputId": "bcfb9a00-bcdb-468e-cbd7-5ad10a1c38c5"
      },
      "source": [
        "#using for loop\n",
        "str_1=input(\"enter string\")\n",
        "revr=''\n",
        "for i in range(len(str_1)-1,-1,-1):\n",
        "  revr=revr+str_1[i]\n",
        "if str_1==revr:\n",
        "  print(\"palindrome\")  \n",
        "else:\n",
        "  print(\"not palindrome\")\n",
        "\n",
        "\n",
        "\n"
      ],
      "execution_count": null,
      "outputs": [
        {
          "output_type": "stream",
          "name": "stdout",
          "text": [
            "enter stringnaman\n",
            "palindrome\n"
          ]
        }
      ]
    },
    {
      "cell_type": "markdown",
      "metadata": {
        "id": "Ti__07L35OuY"
      },
      "source": [
        "2.Reverse words in a given string"
      ]
    },
    {
      "cell_type": "code",
      "metadata": {
        "colab": {
          "base_uri": "https://localhost:8080/",
          "height": 35
        },
        "id": "mRHcypou5UTl",
        "outputId": "369a4cc0-ed5e-44c0-b84a-05578b6eed40"
      },
      "source": [
        "st='hello i m tanu, how are you'\n",
        "rev=' '.join(reversed(x))\n",
        "rev\n",
        "#st.split(' ')\n",
        "#words=st[-1::-1]\n",
        "#print(words)"
      ],
      "execution_count": null,
      "outputs": [
        {
          "output_type": "execute_result",
          "data": {
            "application/vnd.google.colaboratory.intrinsic+json": {
              "type": "string"
            },
            "text/plain": [
              "'you are how tanu, m i hello'"
            ]
          },
          "metadata": {},
          "execution_count": 31
        }
      ]
    },
    {
      "cell_type": "markdown",
      "metadata": {
        "id": "BPitpETpHMXY"
      },
      "source": [
        "3.Ways to remove i'th character from string"
      ]
    },
    {
      "cell_type": "code",
      "metadata": {
        "colab": {
          "base_uri": "https://localhost:8080/",
          "height": 35
        },
        "id": "r_5L7gBLGz74",
        "outputId": "9154cf3e-c9bb-4780-8955-b9c7c45bee66"
      },
      "source": [
        "#using str.replace()  [drawback o this approach is that it fails in case of duplicates in string that match the char at pos i.]\n",
        "#[can use pos.i.replace() this function if replace first occurence ]\n",
        "stt=\"helo himi are you fine.good himi\"\n",
        "#rep=stt.replace('himi','hema')  \n",
        "rep=stt.replace('e','r',1)   #replace 1st occuring s to r\n",
        "rep"
      ],
      "execution_count": null,
      "outputs": [
        {
          "output_type": "execute_result",
          "data": {
            "application/vnd.google.colaboratory.intrinsic+json": {
              "type": "string"
            },
            "text/plain": [
              "'hrlo himi are you fine.good himi'"
            ]
          },
          "metadata": {},
          "execution_count": 42
        }
      ]
    },
    {
      "cell_type": "code",
      "metadata": {
        "colab": {
          "base_uri": "https://localhost:8080/",
          "height": 35
        },
        "id": "xycvVuEMLfDU",
        "outputId": "c4d8b828-8094-4941-ab8d-e6cfcef72c58"
      },
      "source": [
        "#using slice and +concatenation\n",
        "new_str=stt[:2]+stt[4:]\n",
        "new_str"
      ],
      "execution_count": null,
      "outputs": [
        {
          "output_type": "execute_result",
          "data": {
            "application/vnd.google.colaboratory.intrinsic+json": {
              "type": "string"
            },
            "text/plain": [
              "'he himi are you fine.good himi'"
            ]
          },
          "metadata": {},
          "execution_count": 44
        }
      ]
    },
    {
      "cell_type": "code",
      "metadata": {
        "colab": {
          "base_uri": "https://localhost:8080/"
        },
        "id": "iBAcWxAxMp8w",
        "outputId": "895ec3b3-2fab-4fa6-8133-976df2832b95"
      },
      "source": [
        "#using str.join() and list comprehension to remove i'th index char\n",
        "new_strr=''.join([stt[i] for i in range(len(stt)) if i!=2])\n",
        "print(\"the string ::\" + new_strr)"
      ],
      "execution_count": null,
      "outputs": [
        {
          "output_type": "stream",
          "name": "stdout",
          "text": [
            "the string ::heo himi are you fine.good himi\n"
          ]
        }
      ]
    },
    {
      "cell_type": "markdown",
      "metadata": {
        "id": "Ri6jTnSaO_BL"
      },
      "source": [
        "4.Find length of a string"
      ]
    },
    {
      "cell_type": "code",
      "metadata": {
        "colab": {
          "base_uri": "https://localhost:8080/"
        },
        "id": "OXD7fYCrO4bb",
        "outputId": "33109dbf-c777-4c43-df22-555bfe3a4094"
      },
      "source": [
        "#len()\n",
        "print(len(stt))"
      ],
      "execution_count": null,
      "outputs": [
        {
          "output_type": "stream",
          "name": "stdout",
          "text": [
            "32\n"
          ]
        }
      ]
    },
    {
      "cell_type": "code",
      "metadata": {
        "colab": {
          "base_uri": "https://localhost:8080/"
        },
        "id": "Z6uFMUCHPWAH",
        "outputId": "8df86a91-777e-4985-a2d7-f1d10846e36c"
      },
      "source": [
        "#using string method join and count\n",
        "def findlen(stt):\n",
        "  if not stt:\n",
        "    print(\"try again\")\n",
        "  else:\n",
        "    xx='py'\n",
        "    return ((xx).join(stt)).count(xx)+1   \n",
        "print(findlen(stt))      "
      ],
      "execution_count": null,
      "outputs": [
        {
          "output_type": "stream",
          "name": "stdout",
          "text": [
            "32\n"
          ]
        }
      ]
    },
    {
      "cell_type": "code",
      "metadata": {
        "colab": {
          "base_uri": "https://localhost:8080/"
        },
        "id": "VmcBOav_RRRx",
        "outputId": "73e27376-b570-4a7b-fef6-4822420bc5c4"
      },
      "source": [
        "#using while loop\n",
        "def findlen(stt):\n",
        "  counter=0\n",
        "  while stt[counter:]:\n",
        "    counter+=1\n",
        "  return counter\n",
        "print(findlen(stt))    "
      ],
      "execution_count": null,
      "outputs": [
        {
          "output_type": "stream",
          "name": "stdout",
          "text": [
            "32\n"
          ]
        }
      ]
    },
    {
      "cell_type": "markdown",
      "metadata": {
        "id": "1d7uVBvsSNhL"
      },
      "source": [
        "5.Avoid space in string length"
      ]
    },
    {
      "cell_type": "code",
      "metadata": {
        "id": "ZXsNrHVsSqfR"
      },
      "source": [
        "#using replace()\n",
        "def remove(stt):\n",
        "   return stt.replace(' ','')\n"
      ],
      "execution_count": null,
      "outputs": []
    },
    {
      "cell_type": "code",
      "metadata": {
        "colab": {
          "base_uri": "https://localhost:8080/"
        },
        "id": "inIlEO65TWl0",
        "outputId": "8996bb1b-3224-4a79-a168-96527503c2e0"
      },
      "source": [
        "#using split and join\n",
        "def remove(stt):\n",
        "  return ''.join(stt.split())\n",
        "print(remove(stt))  "
      ],
      "execution_count": null,
      "outputs": [
        {
          "output_type": "stream",
          "name": "stdout",
          "text": [
            "helohimiareyoufine.goodhimi\n"
          ]
        }
      ]
    },
    {
      "cell_type": "code",
      "metadata": {
        "colab": {
          "base_uri": "https://localhost:8080/",
          "height": 313
        },
        "id": "F07rMF0EVlm5",
        "outputId": "aaf80e27-f291-4592-e7cd-f05060fe3046"
      },
      "source": [
        "#using translate\n",
        "import string\n",
        "def remove(sttt):\n",
        "  return sttt.translate(None, '\\n\\t\\r')\n",
        "sttt='geeks'  \n",
        "print(remove(sttt))"
      ],
      "execution_count": null,
      "outputs": [
        {
          "output_type": "error",
          "ename": "TypeError",
          "evalue": "ignored",
          "traceback": [
            "\u001b[0;31m---------------------------------------------------------------------------\u001b[0m",
            "\u001b[0;31mTypeError\u001b[0m                                 Traceback (most recent call last)",
            "\u001b[0;32m<ipython-input-70-eb67ab5fff05>\u001b[0m in \u001b[0;36m<module>\u001b[0;34m()\u001b[0m\n\u001b[1;32m      4\u001b[0m   \u001b[0;32mreturn\u001b[0m \u001b[0msttt\u001b[0m\u001b[0;34m.\u001b[0m\u001b[0mtranslate\u001b[0m\u001b[0;34m(\u001b[0m\u001b[0;32mNone\u001b[0m\u001b[0;34m,\u001b[0m \u001b[0;34m'\\n\\t\\r'\u001b[0m\u001b[0;34m)\u001b[0m\u001b[0;34m\u001b[0m\u001b[0;34m\u001b[0m\u001b[0m\n\u001b[1;32m      5\u001b[0m \u001b[0msttt\u001b[0m\u001b[0;34m=\u001b[0m\u001b[0;34m'geeks'\u001b[0m\u001b[0;34m\u001b[0m\u001b[0;34m\u001b[0m\u001b[0m\n\u001b[0;32m----> 6\u001b[0;31m \u001b[0mprint\u001b[0m\u001b[0;34m(\u001b[0m\u001b[0mremove\u001b[0m\u001b[0;34m(\u001b[0m\u001b[0msttt\u001b[0m\u001b[0;34m)\u001b[0m\u001b[0;34m)\u001b[0m\u001b[0;34m\u001b[0m\u001b[0;34m\u001b[0m\u001b[0m\n\u001b[0m",
            "\u001b[0;32m<ipython-input-70-eb67ab5fff05>\u001b[0m in \u001b[0;36mremove\u001b[0;34m(sttt)\u001b[0m\n\u001b[1;32m      2\u001b[0m \u001b[0;32mimport\u001b[0m \u001b[0mstring\u001b[0m\u001b[0;34m\u001b[0m\u001b[0;34m\u001b[0m\u001b[0m\n\u001b[1;32m      3\u001b[0m \u001b[0;32mdef\u001b[0m \u001b[0mremove\u001b[0m\u001b[0;34m(\u001b[0m\u001b[0msttt\u001b[0m\u001b[0;34m)\u001b[0m\u001b[0;34m:\u001b[0m\u001b[0;34m\u001b[0m\u001b[0;34m\u001b[0m\u001b[0m\n\u001b[0;32m----> 4\u001b[0;31m   \u001b[0;32mreturn\u001b[0m \u001b[0msttt\u001b[0m\u001b[0;34m.\u001b[0m\u001b[0mtranslate\u001b[0m\u001b[0;34m(\u001b[0m\u001b[0;32mNone\u001b[0m\u001b[0;34m,\u001b[0m \u001b[0;34m'\\n\\t\\r'\u001b[0m\u001b[0;34m)\u001b[0m\u001b[0;34m\u001b[0m\u001b[0;34m\u001b[0m\u001b[0m\n\u001b[0m\u001b[1;32m      5\u001b[0m \u001b[0msttt\u001b[0m\u001b[0;34m=\u001b[0m\u001b[0;34m'geeks'\u001b[0m\u001b[0;34m\u001b[0m\u001b[0;34m\u001b[0m\u001b[0m\n\u001b[1;32m      6\u001b[0m \u001b[0mprint\u001b[0m\u001b[0;34m(\u001b[0m\u001b[0mremove\u001b[0m\u001b[0;34m(\u001b[0m\u001b[0msttt\u001b[0m\u001b[0;34m)\u001b[0m\u001b[0;34m)\u001b[0m\u001b[0;34m\u001b[0m\u001b[0;34m\u001b[0m\u001b[0m\n",
            "\u001b[0;31mTypeError\u001b[0m: translate() takes exactly one argument (2 given)"
          ]
        }
      ]
    },
    {
      "cell_type": "code",
      "metadata": {
        "colab": {
          "base_uri": "https://localhost:8080/"
        },
        "id": "9ukpSn8t9o4H",
        "outputId": "694f45b3-2897-4191-b790-c5637434c2e3"
      },
      "source": [
        "#Python program to print even length words in a string\n",
        "def printWords(s): \n",
        " \n",
        "\n",
        "    s = s.split(' ')  \n",
        "  \n",
        "\n",
        "    for word in s:\n",
        "  \n",
        "\n",
        "        if len(word)%2==0: \n",
        "\n",
        "            print(word)  \n",
        " \n",
        "\n",
        "s = \"i am muskan\" \n",
        "printWords(s)"
      ],
      "execution_count": null,
      "outputs": [
        {
          "output_type": "stream",
          "name": "stdout",
          "text": [
            "am\n",
            "muskan\n"
          ]
        }
      ]
    },
    {
      "cell_type": "code",
      "metadata": {
        "colab": {
          "base_uri": "https://localhost:8080/"
        },
        "id": "JYoPX9rD-N-l",
        "outputId": "0278cd3b-e3e7-415e-f9a0-933017cdbe18"
      },
      "source": [
        "#Python – Uppercase Half String\n",
        "str='geekforgeeks'\n",
        "def doupper(x):\n",
        "  st=\" \"\n",
        "  for i in range(len(s)):\n",
        "    l=len(s)//2\n",
        "    if i>=l:\n",
        "      st+=str[i].upper()\n",
        "    else:\n",
        "      st+=str[i].lower()\n",
        "  print(st)\n",
        "str=input()\n",
        "doupper(str)"
      ],
      "execution_count": null,
      "outputs": [
        {
          "output_type": "stream",
          "name": "stdout",
          "text": [
            "hy i m tanu\n",
            " hy i M TANU\n"
          ]
        }
      ]
    },
    {
      "cell_type": "code",
      "metadata": {
        "colab": {
          "base_uri": "https://localhost:8080/"
        },
        "id": "JBc-fIN2E5q9",
        "outputId": "de75befd-f0f4-4901-cfae-c31cf5f09e0f"
      },
      "source": [
        "#python program to capitalize the first and last character of each word in a string\n",
        "def word_both_cap(str): \n",
        "\n",
        "    return ' '.join(map(lambda s: s[:-1]+s[-1].upper(),  \n",
        "\n",
        "                        s.title().split())) \n",
        "\n",
        "s = \"welcome to geeksforgeeks\"\n",
        "\n",
        "print(\"String before:\", s) \n",
        "\n",
        "print(\"String after:\", word_both_cap(str))"
      ],
      "execution_count": null,
      "outputs": [
        {
          "output_type": "stream",
          "name": "stdout",
          "text": [
            "String before: welcome to geeksforgeeks\n",
            "String after: WelcomE TO GeeksforgeekS\n"
          ]
        }
      ]
    },
    {
      "cell_type": "code",
      "metadata": {
        "id": "KR8A8fVnGltx",
        "colab": {
          "base_uri": "https://localhost:8080/"
        },
        "outputId": "67c9e7a0-064c-4ee6-c60f-ab5423fea875"
      },
      "source": [
        "#Python Program to Calculate the Average of Numbers in a Given List\n",
        "l=[23,43,55,3,2,77]\n",
        "average=sum(l)//len(l)\n",
        "average"
      ],
      "execution_count": null,
      "outputs": [
        {
          "output_type": "execute_result",
          "data": {
            "text/plain": [
              "33"
            ]
          },
          "metadata": {},
          "execution_count": 2
        }
      ]
    },
    {
      "cell_type": "code",
      "metadata": {
        "colab": {
          "base_uri": "https://localhost:8080/"
        },
        "id": "V-XdLSFG3uCG",
        "outputId": "2ffde3da-16c6-4e6c-f230-82d218e10fcf"
      },
      "source": [
        "n=int(input(\"Enter the number of elements to be inserted: \"))\n",
        "a=[]\n",
        "for i in range(0,n):\n",
        "    elem=int(input(\"Enter element: \"))\n",
        "    a.append(elem)\n",
        "avg=sum(a)/n\n",
        "print(\"Average of elements in the list\",round(avg,2))"
      ],
      "execution_count": null,
      "outputs": [
        {
          "output_type": "stream",
          "name": "stdout",
          "text": [
            "Enter the number of elements to be inserted: 6\n",
            "Enter element: 23\n",
            "Enter element: 43\n",
            "Enter element: 55\n",
            "Enter element: 3\n",
            "Enter element: 2\n",
            "Enter element: 77\n",
            "Average of elements in the list 33.83\n"
          ]
        }
      ]
    },
    {
      "cell_type": "code",
      "metadata": {
        "colab": {
          "base_uri": "https://localhost:8080/"
        },
        "id": "-aANCqjQ4Cut",
        "outputId": "ebc6de2f-cadf-434f-9ece-2aaa476b954b"
      },
      "source": [
        "#Python Program to Exchange the Values of Two Numbers Without Using a Temporary Variable\n",
        "a=45\n",
        "b=43\n",
        "print(\"before swapping\")\n",
        "print(a)\n",
        "print(b)\n",
        "a,b=b,a\n",
        "print(\"after swapping\")\n",
        "print(a)\n",
        "print(b)"
      ],
      "execution_count": null,
      "outputs": [
        {
          "output_type": "stream",
          "name": "stdout",
          "text": [
            "before swapping\n",
            "45\n",
            "43\n",
            "after swapping\n",
            "43\n",
            "45\n"
          ]
        }
      ]
    },
    {
      "cell_type": "code",
      "metadata": {
        "colab": {
          "base_uri": "https://localhost:8080/"
        },
        "id": "uI-tLwNw4_zs",
        "outputId": "bbcca901-7062-4f9f-902f-e288d32f326f"
      },
      "source": [
        "#Python Program to Read a Mumber n and Compute n+nn+nnn\n",
        "n=int(input(\"Enter a number n: \"))\n",
        "temp=str(n)\n",
        "t1=temp+temp\n",
        "t2=temp+temp+temp\n",
        "comp=n+int(t1)+int(t2)\n",
        "print(\"The value is:\",comp)"
      ],
      "execution_count": null,
      "outputs": [
        {
          "output_type": "stream",
          "name": "stdout",
          "text": [
            "Enter a number n: 34\n",
            "The value is: 346902\n"
          ]
        }
      ]
    },
    {
      "cell_type": "code",
      "metadata": {
        "colab": {
          "base_uri": "https://localhost:8080/"
        },
        "id": "UWpqiAt16VnG",
        "outputId": "8dcb820f-ae6f-4805-bf7f-205363c151cf"
      },
      "source": [
        "temp=int(n)\n",
        "t1=temp+temp\n",
        "t2=temp+temp+temp\n",
        "comp=n+int(t1)+int(t2)\n",
        "print(comp)"
      ],
      "execution_count": null,
      "outputs": [
        {
          "output_type": "stream",
          "name": "stdout",
          "text": [
            "204\n"
          ]
        }
      ]
    },
    {
      "cell_type": "code",
      "metadata": {
        "colab": {
          "base_uri": "https://localhost:8080/"
        },
        "id": "nOJ_AsaR6y-c",
        "outputId": "0b5ad985-f3f5-4781-ad5c-3f09a3220c0e"
      },
      "source": [
        "#Python Program to Reverse a Given Number\n",
        "n=int(input(\"Enter number: \"))\n",
        "rev=0\n",
        "while(n>0):\n",
        "    dig=n%10\n",
        "    rev=rev*10+dig\n",
        "    n=n//10\n",
        "print(\"Reverse of the number:\",rev)"
      ],
      "execution_count": null,
      "outputs": [
        {
          "output_type": "stream",
          "name": "stdout",
          "text": [
            "Enter number: 55433\n",
            "Reverse of the number: 33455\n"
          ]
        }
      ]
    },
    {
      "cell_type": "code",
      "metadata": {
        "colab": {
          "base_uri": "https://localhost:8080/"
        },
        "id": "ocPZgJ167TfP",
        "outputId": "a70b4326-3a0b-4afc-a127-a6050451cd3a"
      },
      "source": [
        "#Python Program to Check Whether a Number is Positive or Negative\n",
        "num=int(input(\"enter number\"))\n",
        "if num>0:\n",
        "  print(\"number is Positive\")\n",
        "else:\n",
        "  print(\"number is negative\")"
      ],
      "execution_count": null,
      "outputs": [
        {
          "output_type": "stream",
          "name": "stdout",
          "text": [
            "enter number567\n",
            "number is Positive\n"
          ]
        }
      ]
    },
    {
      "cell_type": "code",
      "metadata": {
        "colab": {
          "base_uri": "https://localhost:8080/"
        },
        "id": "1U_S8P2w72Mq",
        "outputId": "222ea03c-a1d5-49b3-8d45-88dcd5fb8fb1"
      },
      "source": [
        "#Python Program to Take in the Marks of 5 Subjects and Display the Grade\n",
        "num1=int(input(\"enter number 1\"))\n",
        "num2=int(input(\"enter number 2\"))\n",
        "num3=int(input(\"enter number 3\"))\n",
        "num4=int(input(\"enter number 4\"))\n",
        "num5=int(input(\"enter number 5\"))\n",
        "a=[]\n",
        "a.append(num1)\n",
        "a.append(num2)\n",
        "a.append(num3)\n",
        "a.append(num4)\n",
        "a.append(num5)\n",
        "print(a) \n",
        "avg=sum(a)/len(a)"
      ],
      "execution_count": null,
      "outputs": [
        {
          "output_type": "stream",
          "name": "stdout",
          "text": [
            "enter number 145\n",
            "enter number 246\n",
            "enter number 334\n",
            "enter number 447\n",
            "enter number 546\n",
            "[45, 46, 34, 47, 46]\n"
          ]
        }
      ]
    },
    {
      "cell_type": "code",
      "metadata": {
        "colab": {
          "base_uri": "https://localhost:8080/"
        },
        "id": "UoAjd2RRB7Ux",
        "outputId": "97f77dd9-4613-4e14-bc2f-951cbc0817a8"
      },
      "source": [
        "if(avg>=90):\n",
        "    print(\"Grade: A\")\n",
        "elif(avg>=80 and avg<90):\n",
        "    print(\"Grade: B\")\n",
        "elif(avg>=70 and avg<80):\n",
        "    print(\"Grade: C\")\n",
        "elif(avg>=60 and avg<70):\n",
        "    print(\"Grade: D\")\n",
        "else:\n",
        "    print(\"Grade: F\")"
      ],
      "execution_count": null,
      "outputs": [
        {
          "output_type": "stream",
          "name": "stdout",
          "text": [
            "Grade: F\n"
          ]
        }
      ]
    },
    {
      "cell_type": "code",
      "metadata": {
        "colab": {
          "base_uri": "https://localhost:8080/"
        },
        "id": "Z9oVIZQ3CUyq",
        "outputId": "338cba3c-9e34-4653-a66b-5195f45fab00"
      },
      "source": [
        "#Python Program to Print all Numbers in a Range Divisible by a Given Number\n",
        "n=int(input(\"Enter the number to be divided by:\"))\n",
        "for i in range(0,15):\n",
        "    if(i%n==0):\n",
        "        print(i)"
      ],
      "execution_count": null,
      "outputs": [
        {
          "output_type": "stream",
          "name": "stdout",
          "text": [
            "Enter the number to be divided by:3\n",
            "0\n",
            "3\n",
            "6\n",
            "9\n",
            "12\n"
          ]
        }
      ]
    },
    {
      "cell_type": "code",
      "metadata": {
        "colab": {
          "base_uri": "https://localhost:8080/"
        },
        "id": "3w-ZGleVDnwg",
        "outputId": "b1cfab95-77b2-4719-df4a-0527668c3c14"
      },
      "source": [
        "#Python Program to Read Two Numbers and Print Their Quotient and Remainder\n",
        "a=int(input(\"Enter the first number: \"))\n",
        "b=int(input(\"Enter the second number: \"))\n",
        "quotient=a//b\n",
        "remainder=a%b\n",
        "print(\"Quotient is:\",quotient)\n",
        "print(\"Remainder is:\",remainder)"
      ],
      "execution_count": null,
      "outputs": [
        {
          "output_type": "stream",
          "name": "stdout",
          "text": [
            "Enter the first number: 45\n",
            "Enter the second number: 6\n",
            "Quotient is: 7\n",
            "Remainder is: 3\n"
          ]
        }
      ]
    },
    {
      "cell_type": "code",
      "metadata": {
        "colab": {
          "base_uri": "https://localhost:8080/"
        },
        "id": "5TD8qZzTEC0i",
        "outputId": "663840d2-912c-48f3-bbf9-1502203f0626"
      },
      "source": [
        "#Python Program to Accept Three Digits and Print all Possible Combinations from the Digits\n",
        "a=int(input(\"Enter first number:\"))\n",
        "b=int(input(\"Enter second number:\"))\n",
        "c=int(input(\"Enter third number:\"))\n",
        "d=[]\n",
        "d.append(a)\n",
        "d.append(b)\n",
        "d.append(c)\n",
        "for i in range(0,3):\n",
        "    for j in range(0,3):\n",
        "        for k in range(0,3):\n",
        "            if(i!=j&j!=k&k!=i):\n",
        "                print(d[i],d[j],d[k])"
      ],
      "execution_count": null,
      "outputs": [
        {
          "output_type": "stream",
          "name": "stdout",
          "text": [
            "Enter first number:45\n",
            "Enter second number:34\n",
            "Enter third number:44\n",
            "45 34 44\n",
            "45 44 34\n",
            "34 45 44\n",
            "34 44 45\n",
            "44 45 34\n",
            "44 34 45\n"
          ]
        }
      ]
    },
    {
      "cell_type": "code",
      "metadata": {
        "colab": {
          "base_uri": "https://localhost:8080/"
        },
        "id": "vxyYXYPGIytK",
        "outputId": "322f46f6-beab-48cb-9907-ae926dff2b8b"
      },
      "source": [
        "#sum of digits...\n",
        "n=int(input(\"Enter a number:\"))\n",
        "tot=0\n",
        "while(n>0):\n",
        "    dig=n%10\n",
        "    tot=tot+dig\n",
        "    n=n//10\n",
        "print(\"The total sum of digits is:\",tot)"
      ],
      "execution_count": null,
      "outputs": [
        {
          "output_type": "stream",
          "name": "stdout",
          "text": [
            "Enter a number:567\n",
            "The total sum of digits is: 18\n"
          ]
        }
      ]
    },
    {
      "cell_type": "code",
      "metadata": {
        "colab": {
          "base_uri": "https://localhost:8080/"
        },
        "id": "tWP7zWaLI9UN",
        "outputId": "3fa53662-aa80-46e4-e5bd-4fd7affb5b18"
      },
      "source": [
        "#Python Program to Find the Smallest Divisor of an Integer\n",
        "n=int(input(\"Enter an integer:\"))\n",
        "a=[]\n",
        "for i in range(2,n+1):\n",
        "    if(n%i==0):\n",
        "        a.append(i)\n",
        "a.sort()\n",
        "print(\"Smallest divisor is:\",a[0])"
      ],
      "execution_count": null,
      "outputs": [
        {
          "output_type": "stream",
          "name": "stdout",
          "text": [
            "Enter an integer:20\n",
            "Smallest divisor is: 2\n"
          ]
        }
      ]
    },
    {
      "cell_type": "code",
      "metadata": {
        "colab": {
          "base_uri": "https://localhost:8080/"
        },
        "id": "gTbpCuo5KObA",
        "outputId": "96dede1c-3a4a-4621-e963-15c09f781bae"
      },
      "source": [
        "#count the number of  digit in a number\n",
        "num=int(input(\"enter number\"))\n",
        "c=0\n",
        "while(num>0):\n",
        "  num=num//10\n",
        "  c=c+1\n",
        "print(\"count of digit\",c)"
      ],
      "execution_count": null,
      "outputs": [
        {
          "output_type": "stream",
          "name": "stdout",
          "text": [
            "enter number56677\n",
            "count of digit 5\n"
          ]
        }
      ]
    },
    {
      "cell_type": "code",
      "metadata": {
        "colab": {
          "base_uri": "https://localhost:8080/"
        },
        "id": "n6XqXUHzNvBl",
        "outputId": "da088bbf-aaa6-467b-d010-46017f8d8b80"
      },
      "source": [
        "#check if it is palindrome\n",
        "num=input(\"enter a number\")\n",
        "x=num[::-1]\n",
        "if num==x:\n",
        "  print(\"is palindrome\")\n",
        "else:\n",
        "  print(\" not palindrome\")"
      ],
      "execution_count": null,
      "outputs": [
        {
          "output_type": "stream",
          "name": "stdout",
          "text": [
            "enter a numberhello tanu\n",
            " not palindrome\n"
          ]
        }
      ]
    }
  ]
}