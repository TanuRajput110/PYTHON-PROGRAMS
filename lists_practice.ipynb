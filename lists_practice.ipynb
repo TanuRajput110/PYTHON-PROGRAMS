{
  "nbformat": 4,
  "nbformat_minor": 0,
  "metadata": {
    "colab": {
      "name": "lists practice.ipynb",
      "provenance": [],
      "collapsed_sections": [],
      "authorship_tag": "ABX9TyMkUEyhnjTe4WEFuSecuIWy",
      "include_colab_link": true
    },
    "kernelspec": {
      "name": "python3",
      "display_name": "Python 3"
    },
    "language_info": {
      "name": "python"
    }
  },
  "cells": [
    {
      "cell_type": "markdown",
      "metadata": {
        "id": "view-in-github",
        "colab_type": "text"
      },
      "source": [
        "<a href=\"https://colab.research.google.com/github/TanuRajput110/PYTHON-PROGRAMS/blob/main/lists_practice.ipynb\" target=\"_parent\"><img src=\"https://colab.research.google.com/assets/colab-badge.svg\" alt=\"Open In Colab\"/></a>"
      ]
    },
    {
      "cell_type": "markdown",
      "metadata": {
        "id": "ThWte0goVUCO"
      },
      "source": [
        "####1.List can be thought of the most general version of a sequence in python\n",
        "2.they are mutable\n",
        "3.list are constructed with bracket [] and seperated by commas seperating every element in the list"
      ]
    },
    {
      "cell_type": "code",
      "metadata": {
        "colab": {
          "base_uri": "https://localhost:8080/"
        },
        "id": "8MvuM85uW8-u",
        "outputId": "a867a576-1579-4641-fdf2-10b4031e3a21"
      },
      "source": [
        "#assign a list to a variable\n",
        "list_1=[1,4,7,7]\n",
        "print(list_1)\n",
        "type(list_1)"
      ],
      "execution_count": 1,
      "outputs": [
        {
          "output_type": "stream",
          "name": "stdout",
          "text": [
            "[1, 4, 7, 7]\n"
          ]
        },
        {
          "output_type": "execute_result",
          "data": {
            "text/plain": [
              "list"
            ]
          },
          "metadata": {},
          "execution_count": 1
        }
      ]
    },
    {
      "cell_type": "markdown",
      "metadata": {
        "id": "2IUM2krEXM8h"
      },
      "source": [
        "we just created a list of integers,but lists can actually hold different object types "
      ]
    },
    {
      "cell_type": "code",
      "metadata": {
        "colab": {
          "base_uri": "https://localhost:8080/"
        },
        "id": "e18kLOzFXbbq",
        "outputId": "d99a309c-6d4f-4eb7-e16e-5b36049166c9"
      },
      "source": [
        "list_1=[2,3,\"tanu\",'y',True,4.55]\n",
        "print(list_1)\n",
        "len(list_1)"
      ],
      "execution_count": 3,
      "outputs": [
        {
          "output_type": "stream",
          "name": "stdout",
          "text": [
            "[2, 3, 'tanu', 'y', True, 4.55]\n"
          ]
        },
        {
          "output_type": "execute_result",
          "data": {
            "text/plain": [
              "6"
            ]
          },
          "metadata": {},
          "execution_count": 3
        }
      ]
    },
    {
      "cell_type": "markdown",
      "metadata": {
        "id": "nx62wSt6X8dR"
      },
      "source": [
        "####list indexing"
      ]
    },
    {
      "cell_type": "markdown",
      "metadata": {
        "id": "3Mmy_LrYX_eO"
      },
      "source": [
        "indexing just work like a strings.\n",
        "indexing of a list refers to the location of an element in the list."
      ]
    },
    {
      "cell_type": "code",
      "metadata": {
        "colab": {
          "base_uri": "https://localhost:8080/"
        },
        "id": "ZjagTbhtYqMO",
        "outputId": "82ce0d41-3eb3-4afe-b1cc-4a951498000d"
      },
      "source": [
        "list_indexing=[\"hello\",\"love\",\"parents\",\"mine\",\"hii\"]\n",
        "print(list_indexing)\n",
        "print(list_indexing[0])\n",
        "print(list_indexing[3])\n",
        "print(list_indexing[-4])\n"
      ],
      "execution_count": 6,
      "outputs": [
        {
          "output_type": "stream",
          "name": "stdout",
          "text": [
            "['hello', 'love', 'parents', 'mine', 'hii']\n",
            "hello\n",
            "mine\n",
            "love\n"
          ]
        }
      ]
    },
    {
      "cell_type": "markdown",
      "metadata": {
        "id": "ivtRZ-SnZSQv"
      },
      "source": [
        "##list slicing"
      ]
    },
    {
      "cell_type": "markdown",
      "metadata": {
        "id": "fUc_BA1NZWAn"
      },
      "source": [
        "1.we can use : to perform slicing .\n",
        "2.element on right of semicolon is not included."
      ]
    },
    {
      "cell_type": "code",
      "metadata": {
        "colab": {
          "base_uri": "https://localhost:8080/"
        },
        "id": "flkRRs1YaPct",
        "outputId": "97c31e45-a309-456b-e2ed-8a42cfe48238"
      },
      "source": [
        "print(list_1[1:6])\n",
        "print(list_1[:])\n",
        "print(list_1[:-1])\n",
        "print(list_1[-2:])\n",
        "print(list_1[0:])"
      ],
      "execution_count": 7,
      "outputs": [
        {
          "output_type": "stream",
          "name": "stdout",
          "text": [
            "[3, 'tanu', 'y', True, 4.55]\n",
            "[2, 3, 'tanu', 'y', True, 4.55]\n",
            "[2, 3, 'tanu', 'y', True]\n",
            "[True, 4.55]\n",
            "[2, 3, 'tanu', 'y', True, 4.55]\n"
          ]
        }
      ]
    },
    {
      "cell_type": "markdown",
      "metadata": {
        "id": "IqAQjJaFa4sm"
      },
      "source": [
        "####list operation"
      ]
    },
    {
      "cell_type": "markdown",
      "metadata": {
        "id": "y68vC3bcdmy1"
      },
      "source": [
        "--concatenation"
      ]
    },
    {
      "cell_type": "code",
      "metadata": {
        "colab": {
          "base_uri": "https://localhost:8080/"
        },
        "id": "aApK9Zdzc5as",
        "outputId": "6ac7870c-c6d9-40cc-beca-430f55618f5a"
      },
      "source": [
        "print(list_1)\n",
        "x=[\"45\",\"tanu\",\"like\",\"oo\"]\n",
        "print(list_1 + x)"
      ],
      "execution_count": 8,
      "outputs": [
        {
          "output_type": "stream",
          "name": "stdout",
          "text": [
            "[2, 3, 'tanu', 'y', True, 4.55]\n",
            "[2, 3, 'tanu', 'y', True, 4.55, '45', 'tanu', 'like', 'oo']\n"
          ]
        }
      ]
    },
    {
      "cell_type": "code",
      "metadata": {
        "colab": {
          "base_uri": "https://localhost:8080/"
        },
        "id": "ROG4Ew6jdeNS",
        "outputId": "3d24bac9-6c45-468a-cf4b-cd980a488e07"
      },
      "source": [
        "list_1 + ['gub','eed']"
      ],
      "execution_count": 10,
      "outputs": [
        {
          "output_type": "execute_result",
          "data": {
            "text/plain": [
              "[2, 3, 'tanu', 'y', True, 4.55, 'gub', 'eed']"
            ]
          },
          "metadata": {},
          "execution_count": 10
        }
      ]
    },
    {
      "cell_type": "markdown",
      "metadata": {
        "id": "CQxyz0XAeAuV"
      },
      "source": [
        "note:: this doesn't actually change the original list! you would have to ressign  the list to make the change permanent."
      ]
    },
    {
      "cell_type": "code",
      "metadata": {
        "id": "Ci_CvSIkfVy_"
      },
      "source": [
        "list_1\n",
        "#reassign\n",
        "y=list_1 + ['gub','eed']"
      ],
      "execution_count": 12,
      "outputs": []
    },
    {
      "cell_type": "markdown",
      "metadata": {
        "id": "2rqzWji_gBwC"
      },
      "source": [
        "use * for duplication of our list"
      ]
    },
    {
      "cell_type": "code",
      "metadata": {
        "colab": {
          "base_uri": "https://localhost:8080/"
        },
        "id": "ThiYFBzegNn-",
        "outputId": "862bc1e9-9793-4329-a304-71c5e88b0cd0"
      },
      "source": [
        "len(y*3)"
      ],
      "execution_count": 13,
      "outputs": [
        {
          "output_type": "execute_result",
          "data": {
            "text/plain": [
              "24"
            ]
          },
          "metadata": {},
          "execution_count": 13
        }
      ]
    },
    {
      "cell_type": "markdown",
      "metadata": {
        "id": "YAwk4OLwgZ-1"
      },
      "source": [
        "###List Function "
      ]
    },
    {
      "cell_type": "markdown",
      "metadata": {
        "id": "JCcLgsyYgyni"
      },
      "source": [
        "len()"
      ]
    },
    {
      "cell_type": "code",
      "metadata": {
        "colab": {
          "base_uri": "https://localhost:8080/"
        },
        "id": "oAmF8uw_ghv5",
        "outputId": "642cd36b-3f60-48a7-e6c8-678ac4bbc403"
      },
      "source": [
        "\n",
        "#len() function returns the length of the list\n",
        "print(y)\n",
        "len(y)"
      ],
      "execution_count": 14,
      "outputs": [
        {
          "output_type": "stream",
          "name": "stdout",
          "text": [
            "[2, 3, 'tanu', 'y', True, 4.55, 'gub', 'eed']\n"
          ]
        },
        {
          "output_type": "execute_result",
          "data": {
            "text/plain": [
              "8"
            ]
          },
          "metadata": {},
          "execution_count": 14
        }
      ]
    },
    {
      "cell_type": "markdown",
      "metadata": {
        "id": "B31r3BAgg1Sv"
      },
      "source": [
        "min()"
      ]
    },
    {
      "cell_type": "code",
      "metadata": {
        "colab": {
          "base_uri": "https://localhost:8080/",
          "height": 35
        },
        "id": "rxUjfYPcg3Ws",
        "outputId": "2065fbd5-2e1a-47ed-fdf3-b2885a1be893"
      },
      "source": [
        "#min() function returns the minimum element of the list\n",
        "#max(y)\n",
        "#not supported max(y)\n",
        "d=[\"burger\",\"pizza\",\"tanu\"]\n",
        "max(d)"
      ],
      "execution_count": 17,
      "outputs": [
        {
          "output_type": "execute_result",
          "data": {
            "application/vnd.google.colaboratory.intrinsic+json": {
              "type": "string"
            },
            "text/plain": [
              "'tanu'"
            ]
          },
          "metadata": {},
          "execution_count": 17
        }
      ]
    },
    {
      "cell_type": "markdown",
      "metadata": {
        "id": "H-KyilJAhJia"
      },
      "source": [
        "sum()"
      ]
    },
    {
      "cell_type": "code",
      "metadata": {
        "colab": {
          "base_uri": "https://localhost:8080/"
        },
        "id": "J0UIi9_rhLF6",
        "outputId": "affff0ae-6512-4389-bf6e-36bc74a94e06"
      },
      "source": [
        "#sum() functions returns the sum of the elements of the list\n",
        "#sum() function only works with lists of numeric of numeric data types\n",
        "sum_list = [7,8,5,3,2,4,5]\n",
        "sum(sum_list)"
      ],
      "execution_count": 18,
      "outputs": [
        {
          "output_type": "execute_result",
          "data": {
            "text/plain": [
              "34"
            ]
          },
          "metadata": {},
          "execution_count": 18
        }
      ]
    },
    {
      "cell_type": "markdown",
      "metadata": {
        "id": "IvGTiirzhupD"
      },
      "source": [
        "sorted()"
      ]
    },
    {
      "cell_type": "code",
      "metadata": {
        "colab": {
          "base_uri": "https://localhost:8080/"
        },
        "id": "mVxPfRihhwiR",
        "outputId": "7c0aee6e-618a-4284-ccc3-dd4d6a397906"
      },
      "source": [
        "#sorted() function return the sorted list \n",
        "#sorted() function only works with lists of numeric data type \n",
        "#sorted() functions takes reverse boolean as an argument\n",
        "sorted(sum_list)\n",
        "sorted(x)"
      ],
      "execution_count": 19,
      "outputs": [
        {
          "output_type": "execute_result",
          "data": {
            "text/plain": [
              "['45', 'like', 'oo', 'tanu']"
            ]
          },
          "metadata": {},
          "execution_count": 19
        }
      ]
    },
    {
      "cell_type": "markdown",
      "metadata": {
        "id": "-8BWD_sDif6y"
      },
      "source": [
        "###List method"
      ]
    },
    {
      "cell_type": "markdown",
      "metadata": {
        "id": "GPsjHngBiiKd"
      },
      "source": [
        "append()"
      ]
    },
    {
      "cell_type": "code",
      "metadata": {
        "id": "V-HwnBlXikit"
      },
      "source": [
        "#append() method to permanently add an item to the end of a list\n",
        "#it takes the element which you want to add to the list as an argument\n",
        "sum_list.append(40)"
      ],
      "execution_count": 20,
      "outputs": []
    },
    {
      "cell_type": "markdown",
      "metadata": {
        "id": "BEL9xRHKjbSb"
      },
      "source": [
        "i was expecting some output.lets see what happened  to my_list."
      ]
    },
    {
      "cell_type": "code",
      "metadata": {
        "colab": {
          "base_uri": "https://localhost:8080/"
        },
        "id": "2DJI97V7jws-",
        "outputId": "5c481731-a9e4-4930-fc9e-2fba967fb134"
      },
      "source": [
        "print(sum_list)\n",
        "print(len(sum_list))"
      ],
      "execution_count": 21,
      "outputs": [
        {
          "output_type": "stream",
          "name": "stdout",
          "text": [
            "[7, 8, 5, 3, 2, 4, 5, 40]\n",
            "8\n"
          ]
        }
      ]
    },
    {
      "cell_type": "markdown",
      "metadata": {
        "id": "Srw6kRRaj_lh"
      },
      "source": [
        "when we use append method .it changes in original list"
      ]
    },
    {
      "cell_type": "code",
      "metadata": {
        "id": "_SquU8a2kIIf"
      },
      "source": [
        "#we can in fact add a list to our sum_list object\n",
        "sum_list.append([1,3,2])"
      ],
      "execution_count": 22,
      "outputs": []
    },
    {
      "cell_type": "markdown",
      "metadata": {
        "id": "qY68iLf3kn3p"
      },
      "source": [
        "###extend()\n",
        "--use extend() method to merge a list to an existing list\n",
        "--extend() method takes a list or any iteration(don't worry about it now) as an argument\n"
      ]
    },
    {
      "cell_type": "code",
      "metadata": {
        "colab": {
          "base_uri": "https://localhost:8080/"
        },
        "id": "bJY-LrlyleAq",
        "outputId": "f90b94e5-c325-4027-ce4a-59d9f7db1519"
      },
      "source": [
        "sum_list.extend([\"tanu\",\"institute\",\"wolf\"])\n",
        "print(sum_list)"
      ],
      "execution_count": 23,
      "outputs": [
        {
          "output_type": "stream",
          "name": "stdout",
          "text": [
            "[7, 8, 5, 3, 2, 4, 5, 40, [1, 3, 2], 'tanu', 'institute', 'wolf']\n"
          ]
        }
      ]
    },
    {
      "cell_type": "markdown",
      "metadata": {
        "id": "cN2qZoKomDXD"
      },
      "source": [
        "pop()"
      ]
    },
    {
      "cell_type": "markdown",
      "metadata": {
        "id": "HtQLBU-QmGCa"
      },
      "source": [
        "--use pop() to 'pop off' an item from the list\n",
        "\n",
        "\n",
        "--by default pop() takes off the element at last index,but we can also specify which index to pop off "
      ]
    },
    {
      "cell_type": "code",
      "metadata": {
        "colab": {
          "base_uri": "https://localhost:8080/"
        },
        "id": "Dz_ydzGjnAuw",
        "outputId": "618ebff0-729c-4d3a-d3cf-6834205ef68d"
      },
      "source": [
        "print(sum_list.pop(4))\n",
        "print(sum_list.pop(0))\n",
        "print(sum_list.pop())"
      ],
      "execution_count": 24,
      "outputs": [
        {
          "output_type": "stream",
          "name": "stdout",
          "text": [
            "2\n",
            "7\n",
            "wolf\n"
          ]
        }
      ]
    },
    {
      "cell_type": "markdown",
      "metadata": {
        "id": "nJ981Vy5nnro"
      },
      "source": [
        "##remove()"
      ]
    },
    {
      "cell_type": "markdown",
      "metadata": {
        "id": "ysB9AKoun4W0"
      },
      "source": [
        "--use remove() to remove an item /element from the list --by deafault remove() the specific element from the list"
      ]
    },
    {
      "cell_type": "code",
      "metadata": {
        "colab": {
          "base_uri": "https://localhost:8080/"
        },
        "id": "xUOlqgfToR-n",
        "outputId": "52414002-3189-4b78-cd42-5ee2ac3189e2"
      },
      "source": [
        "print(sum_list)\n",
        "sum_list.remove(\"tanu\")"
      ],
      "execution_count": 25,
      "outputs": [
        {
          "output_type": "stream",
          "name": "stdout",
          "text": [
            "[8, 5, 3, 4, 5, 40, [1, 3, 2], 'tanu', 'institute']\n"
          ]
        }
      ]
    },
    {
      "cell_type": "markdown",
      "metadata": {
        "id": "aA0Kbffzo4aL"
      },
      "source": [
        "###count"
      ]
    },
    {
      "cell_type": "markdown",
      "metadata": {
        "id": "UknEPVUco6OC"
      },
      "source": [
        "count() method returns the total occurrence of a specified element in the list"
      ]
    },
    {
      "cell_type": "code",
      "metadata": {
        "id": "ZBFKw87qpM6z"
      },
      "source": [
        "print(sum_list)\n",
        "sum_list.count('tanu')"
      ],
      "execution_count": null,
      "outputs": []
    },
    {
      "cell_type": "code",
      "metadata": {
        "colab": {
          "base_uri": "https://localhost:8080/"
        },
        "id": "DEZO22XMpUl7",
        "outputId": "72b9ddd5-f6a6-413d-a5f1-a05ab0b60827"
      },
      "source": [
        "sum_list.count(3)"
      ],
      "execution_count": 27,
      "outputs": [
        {
          "output_type": "execute_result",
          "data": {
            "text/plain": [
              "1"
            ]
          },
          "metadata": {},
          "execution_count": 27
        }
      ]
    },
    {
      "cell_type": "markdown",
      "metadata": {
        "id": "TOckpcqwpYcy"
      },
      "source": [
        "##index()"
      ]
    },
    {
      "cell_type": "markdown",
      "metadata": {
        "id": "LY1EvM1gpglH"
      },
      "source": [
        "it returns the index of a specified element.\n"
      ]
    },
    {
      "cell_type": "code",
      "metadata": {
        "colab": {
          "base_uri": "https://localhost:8080/"
        },
        "id": "YWLQFWQ0png-",
        "outputId": "008c0ab5-fa51-45e7-e025-4c10b1385c16"
      },
      "source": [
        "print(sum_list)\n",
        "#sum_list.index('tanu')\n",
        "print(sum_list.index('institute'))"
      ],
      "execution_count": 30,
      "outputs": [
        {
          "output_type": "stream",
          "name": "stdout",
          "text": [
            "[8, 5, 3, 4, 5, 40, [1, 3, 2], 'institute']\n",
            "7\n"
          ]
        }
      ]
    },
    {
      "cell_type": "code",
      "metadata": {
        "id": "5AM8_YgXpwtn"
      },
      "source": [
        "sum_list[5]"
      ],
      "execution_count": null,
      "outputs": []
    },
    {
      "cell_type": "markdown",
      "metadata": {
        "id": "w8G6E95lp57L"
      },
      "source": [
        "##sort()"
      ]
    },
    {
      "cell_type": "markdown",
      "metadata": {
        "id": "VSEvlPwqqAet"
      },
      "source": [
        "it is used to sort either ascending or descending order.\n",
        "By default it is ascending order\n",
        "it takes reverse boolean as an argument\n",
        "it only works on a list with elements of same data type"
      ]
    },
    {
      "cell_type": "code",
      "metadata": {
        "colab": {
          "base_uri": "https://localhost:8080/",
          "height": 229
        },
        "id": "1sfZpkQpqXHl",
        "outputId": "b3a7c836-f514-446a-dbc3-177ad44913f7"
      },
      "source": [
        "print(sum_list)\n",
        "#reverse not supported in mix of list and string\n",
        "sum_list.sort(reverse=True)\n",
        "print(sum_list)"
      ],
      "execution_count": 33,
      "outputs": [
        {
          "output_type": "stream",
          "name": "stdout",
          "text": [
            "[8, 5, 3, 4, 5, 40, [1, 3, 2], 'institute']\n"
          ]
        },
        {
          "output_type": "error",
          "ename": "TypeError",
          "evalue": "ignored",
          "traceback": [
            "\u001b[0;31m---------------------------------------------------------------------------\u001b[0m",
            "\u001b[0;31mTypeError\u001b[0m                                 Traceback (most recent call last)",
            "\u001b[0;32m<ipython-input-33-71abc0e49f96>\u001b[0m in \u001b[0;36m<module>\u001b[0;34m()\u001b[0m\n\u001b[1;32m      1\u001b[0m \u001b[0mprint\u001b[0m\u001b[0;34m(\u001b[0m\u001b[0msum_list\u001b[0m\u001b[0;34m)\u001b[0m\u001b[0;34m\u001b[0m\u001b[0;34m\u001b[0m\u001b[0m\n\u001b[1;32m      2\u001b[0m \u001b[0;31m#reverse not supported in mix of list and string\u001b[0m\u001b[0;34m\u001b[0m\u001b[0;34m\u001b[0m\u001b[0;34m\u001b[0m\u001b[0m\n\u001b[0;32m----> 3\u001b[0;31m \u001b[0msum_list\u001b[0m\u001b[0;34m.\u001b[0m\u001b[0msort\u001b[0m\u001b[0;34m(\u001b[0m\u001b[0mreverse\u001b[0m\u001b[0;34m=\u001b[0m\u001b[0;32mTrue\u001b[0m\u001b[0;34m)\u001b[0m\u001b[0;34m\u001b[0m\u001b[0;34m\u001b[0m\u001b[0m\n\u001b[0m\u001b[1;32m      4\u001b[0m \u001b[0mprint\u001b[0m\u001b[0;34m(\u001b[0m\u001b[0msum_list\u001b[0m\u001b[0;34m)\u001b[0m\u001b[0;34m\u001b[0m\u001b[0;34m\u001b[0m\u001b[0m\n",
            "\u001b[0;31mTypeError\u001b[0m: '<' not supported between instances of 'list' and 'str'"
          ]
        }
      ]
    },
    {
      "cell_type": "markdown",
      "metadata": {
        "id": "---RDlCUqxRo"
      },
      "source": [
        "##reverse()"
      ]
    },
    {
      "cell_type": "code",
      "metadata": {
        "id": "RIMRI02cq1qd"
      },
      "source": [
        "sum_list.reverse()"
      ],
      "execution_count": 34,
      "outputs": []
    },
    {
      "cell_type": "markdown",
      "metadata": {
        "id": "QccljLQbq5M1"
      },
      "source": [
        "##nested list"
      ]
    },
    {
      "cell_type": "code",
      "metadata": {
        "id": "jNvSWD9xq9fO"
      },
      "source": [
        "list_1=[1,2,3]\n",
        "list_2=['a','c','r']\n",
        "list_3=[4,5,6]\n",
        "list_of_list=[list_1,list_2,list_3]"
      ],
      "execution_count": 35,
      "outputs": []
    },
    {
      "cell_type": "code",
      "metadata": {
        "colab": {
          "base_uri": "https://localhost:8080/"
        },
        "id": "71sTfyLVrZnr",
        "outputId": "e7b1e60d-134a-45d4-861f-52fa8f175715"
      },
      "source": [
        "type(list_of_list)"
      ],
      "execution_count": 36,
      "outputs": [
        {
          "output_type": "execute_result",
          "data": {
            "text/plain": [
              "list"
            ]
          },
          "metadata": {},
          "execution_count": 36
        }
      ]
    },
    {
      "cell_type": "code",
      "metadata": {
        "colab": {
          "base_uri": "https://localhost:8080/"
        },
        "id": "BvxHsECbrcob",
        "outputId": "f3cf044b-69c1-4702-f7f5-5c15943efd1f"
      },
      "source": [
        "#grab first item of the first item in matrix object\n",
        "list_of_list[-1][1]"
      ],
      "execution_count": 38,
      "outputs": [
        {
          "output_type": "execute_result",
          "data": {
            "text/plain": [
              "5"
            ]
          },
          "metadata": {},
          "execution_count": 38
        }
      ]
    },
    {
      "cell_type": "markdown",
      "metadata": {
        "id": "0UjblgydruZ5"
      },
      "source": [
        "###QUIZ FOR LIST"
      ]
    },
    {
      "cell_type": "markdown",
      "metadata": {
        "id": "E4_f0s9Mr9by"
      },
      "source": [
        "Which of the following are true of python lists?\n",
        "1.there is no conceptual limit to the size of a list\n",
        "2.a given object may appear in a list more once"
      ]
    },
    {
      "cell_type": "markdown",
      "metadata": {
        "id": "bxAt0EKUsWCu"
      },
      "source": [
        "2.list are mutable"
      ]
    },
    {
      "cell_type": "code",
      "metadata": {
        "colab": {
          "base_uri": "https://localhost:8080/"
        },
        "id": "uwE0zYkVskEX",
        "outputId": "ee8fde54-c281-4e00-dbe5-4d96beed0746"
      },
      "source": [
        "#3.a list of names is defined as x=['alice','bob','john','travis'].what does x[2:2] return?\n",
        "x=['alice','bob','john','travis']\n",
        "x[2:2]\n"
      ],
      "execution_count": 40,
      "outputs": [
        {
          "output_type": "execute_result",
          "data": {
            "text/plain": [
              "[]"
            ]
          },
          "metadata": {},
          "execution_count": 40
        }
      ]
    },
    {
      "cell_type": "code",
      "metadata": {
        "colab": {
          "base_uri": "https://localhost:8080/"
        },
        "id": "w7oSbgeptTcV",
        "outputId": "2b6c6019-671e-42c4-bd9e-1362f654e07e"
      },
      "source": [
        "#4.What will be the output of the following?\n",
        "sampleList=[10,20,30,40,50]\n",
        "sampleList.pop()\n",
        "print(sampleList)"
      ],
      "execution_count": 41,
      "outputs": [
        {
          "output_type": "stream",
          "name": "stdout",
          "text": [
            "[10, 20, 30, 40]\n"
          ]
        }
      ]
    },
    {
      "cell_type": "code",
      "metadata": {
        "colab": {
          "base_uri": "https://localhost:8080/",
          "height": 35
        },
        "id": "gM8rybnVuLx2",
        "outputId": "883e0ec2-a26c-490e-be7c-6c2b9cd6e618"
      },
      "source": [
        "#5.\n",
        "min([\"Archer\",\"anime\",\"proteas\",\"calibre\"])"
      ],
      "execution_count": 42,
      "outputs": [
        {
          "output_type": "execute_result",
          "data": {
            "application/vnd.google.colaboratory.intrinsic+json": {
              "type": "string"
            },
            "text/plain": [
              "'Archer'"
            ]
          },
          "metadata": {},
          "execution_count": 42
        }
      ]
    },
    {
      "cell_type": "markdown",
      "metadata": {
        "id": "tJ3mb9pvucwx"
      },
      "source": [
        "6.which of the following are true.\n",
        "sorted() method changes the list\n",
        "sorted() function does not changes the list"
      ]
    },
    {
      "cell_type": "code",
      "metadata": {
        "colab": {
          "base_uri": "https://localhost:8080/",
          "height": 195
        },
        "id": "Lolsi_pSuW0n",
        "outputId": "8f4401d6-aed8-45ba-d5c2-594b1b7f3aa0"
      },
      "source": [
        "#7.what is the output of the following?\n",
        "l=[none]*10\n",
        "print(len(l))\n",
        "#none is not defined"
      ],
      "execution_count": 43,
      "outputs": [
        {
          "output_type": "error",
          "ename": "NameError",
          "evalue": "ignored",
          "traceback": [
            "\u001b[0;31m---------------------------------------------------------------------------\u001b[0m",
            "\u001b[0;31mNameError\u001b[0m                                 Traceback (most recent call last)",
            "\u001b[0;32m<ipython-input-43-bca7a23bd9f5>\u001b[0m in \u001b[0;36m<module>\u001b[0;34m()\u001b[0m\n\u001b[1;32m      1\u001b[0m \u001b[0;31m#7.what is the output of the following?\u001b[0m\u001b[0;34m\u001b[0m\u001b[0;34m\u001b[0m\u001b[0;34m\u001b[0m\u001b[0m\n\u001b[0;32m----> 2\u001b[0;31m \u001b[0ml\u001b[0m\u001b[0;34m=\u001b[0m\u001b[0;34m[\u001b[0m\u001b[0mnone\u001b[0m\u001b[0;34m]\u001b[0m\u001b[0;34m*\u001b[0m\u001b[0;36m10\u001b[0m\u001b[0;34m\u001b[0m\u001b[0;34m\u001b[0m\u001b[0m\n\u001b[0m\u001b[1;32m      3\u001b[0m \u001b[0mprint\u001b[0m\u001b[0;34m(\u001b[0m\u001b[0mlen\u001b[0m\u001b[0;34m(\u001b[0m\u001b[0ml\u001b[0m\u001b[0;34m)\u001b[0m\u001b[0;34m)\u001b[0m\u001b[0;34m\u001b[0m\u001b[0;34m\u001b[0m\u001b[0m\n",
            "\u001b[0;31mNameError\u001b[0m: name 'none' is not defined"
          ]
        }
      ]
    },
    {
      "cell_type": "code",
      "metadata": {
        "colab": {
          "base_uri": "https://localhost:8080/"
        },
        "id": "NUIAvCvkvM8R",
        "outputId": "1abebc01-c881-4112-b324-2a358f28914f"
      },
      "source": [
        "#8.which of the following python statement 'z'?\n",
        "x=[10,[3.14,20,[30,\"baz\",2.17]],\"foo\"]\n",
        "x[1][2]\n"
      ],
      "execution_count": 49,
      "outputs": [
        {
          "output_type": "execute_result",
          "data": {
            "text/plain": [
              "[30, 'baz', 2.17]"
            ]
          },
          "metadata": {},
          "execution_count": 49
        }
      ]
    }
  ]
}