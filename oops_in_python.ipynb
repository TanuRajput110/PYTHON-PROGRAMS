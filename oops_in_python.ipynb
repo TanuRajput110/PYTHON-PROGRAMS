{
  "nbformat": 4,
  "nbformat_minor": 0,
  "metadata": {
    "colab": {
      "provenance": [],
      "collapsed_sections": [],
      "authorship_tag": "ABX9TyOKQEuhTcNLcjstJ37LB0JU",
      "include_colab_link": true
    },
    "kernelspec": {
      "name": "python3",
      "display_name": "Python 3"
    },
    "language_info": {
      "name": "python"
    }
  },
  "cells": [
    {
      "cell_type": "markdown",
      "metadata": {
        "id": "view-in-github",
        "colab_type": "text"
      },
      "source": [
        "<a href=\"https://colab.research.google.com/github/TanuRajput110/PYTHON-PROGRAMS/blob/main/oops_in_python.ipynb\" target=\"_parent\"><img src=\"https://colab.research.google.com/assets/colab-badge.svg\" alt=\"Open In Colab\"/></a>"
      ]
    },
    {
      "cell_type": "markdown",
      "source": [
        "**oops :::**\n",
        "\n",
        "classes\n",
        "\n",
        "object\n",
        "\n",
        "methods\n",
        "\n",
        "inheritance\n",
        "\n",
        "polymorphism\n",
        "\n",
        "data abstraction\n",
        "\n",
        "encapsulation"
      ],
      "metadata": {
        "id": "3CFKwQFrvXz6"
      }
    },
    {
      "cell_type": "markdown",
      "source": [
        "link---https://stackabuse.com/object-oriented-programming-in-python/"
      ],
      "metadata": {
        "id": "2qnK42EIDJw9"
      }
    },
    {
      "cell_type": "markdown",
      "source": [
        "To write production grade programming,you need to know modular programming for that Oops knowledge is must.\n",
        "\n",
        "**Class**---real world entity or object which contains different attributes and methods.\n",
        "[attributes are properties of class, methods are functions or actions of the class.]\n",
        "\n"
      ],
      "metadata": {
        "id": "xUhKEYdDvuus"
      }
    },
    {
      "cell_type": "code",
      "execution_count": 21,
      "metadata": {
        "colab": {
          "base_uri": "https://localhost:8080/"
        },
        "id": "rn1CkXmbvRV_",
        "outputId": "7e6949bc-902d-4b9d-f37b-d2bc74f704f5"
      },
      "outputs": [
        {
          "output_type": "stream",
          "name": "stdout",
          "text": [
            "4\n",
            "4\n",
            "petrol\n"
          ]
        }
      ],
      "source": [
        "#let's create a class with its object..note: we can create more than one object of same class.\n",
        "'''class Car:\n",
        "  pass\n",
        "car1=Car()  #object 1\n",
        "car2=Car()  #object 2'''\n",
        "\n",
        "#lets' try with parameters and attributes \n",
        "class Car:\n",
        "  #constructor\n",
        "  def __init__(self,windows,tyres,engine):  #these attributes are deafault parameters which will initialized during runtime.\n",
        "     self.a=windows  #we can use any other name in place of a,b,c but parameters will be those which are in constructer\n",
        "     self.b=tyres\n",
        "     self.c=engine\n",
        "     \n",
        "     #self is using to directly call the attribute which are using in class.\n",
        "     #all this concept iscontructor..\n",
        "     #note::when we initialize class we firstly called the constructor.\n",
        "\n",
        "car1=Car(4,4,\"petrol\") #when we initialize class Car then thse parameter will directly assigned to constructor parameter by deafault.\n",
        "print(car1.a)\n",
        "print(car1.b)\n",
        "print(car1.c)"
      ]
    },
    {
      "cell_type": "code",
      "source": [
        "class Car:\n",
        "    # constructor\n",
        "    def __init__(self,windows,tyres,engine):\n",
        "        self.windows=windows\n",
        "        self.tyres=tyres\n",
        "        self.engine=engine\n",
        "\n",
        "    def self_driving(self,engine):\n",
        "        print(\"The car type is {} engine \".format(engine))\n",
        "\n",
        "\n",
        "car1=Car(4,4,\"petrol\")\n",
        "print(\"The no of tyres in object car1 is {}\".format(car1.tyres))\n",
        "print(\"The no of windows in object car1 is {}\".format(car1.windows))\n",
        "car1.self_driving(\"electric\")"
      ],
      "metadata": {
        "id": "g8PtcXHG8Rgq"
      },
      "execution_count": null,
      "outputs": []
    },
    {
      "cell_type": "code",
      "source": [
        "class Car:\n",
        "    # constructor\n",
        "    def __init__(self,windows,tyres,engine):\n",
        "        self.wi=windows\n",
        "        self.ty=tyres\n",
        "        self.en=engine\n",
        "\n",
        "    def self_driving(self,engine,tyres,windows):                #we can also create a method inside a class and it will also starts with a self keyword..so that we can acces values  in  contructer.\n",
        "        print(\"The car type is {} engine \".format(engine))\n",
        "        print(\"The car has {} tyres \".format(tyres))\n",
        "        print(\"The car has {} windows \".format(windows))\n",
        "\n",
        "\n",
        "car1=Car(4,4,\"petrol\")\n",
        "print(\"The no of tyres in object car1 is {}\".format(car1.ty))\n",
        "print(\"The no of windows in object car1 is {}\".format(car1.wi))\n",
        "car1.self_driving(\"petrol\",4,5)"
      ],
      "metadata": {
        "colab": {
          "base_uri": "https://localhost:8080/"
        },
        "id": "ClQjjLrW6AZH",
        "outputId": "299623ca-341f-4471-a511-81511a6fc0d4"
      },
      "execution_count": 27,
      "outputs": [
        {
          "output_type": "stream",
          "name": "stdout",
          "text": [
            "The no of tyres in object car1 is 4\n",
            "The no of windows in object car1 is 4\n",
            "The car type is petrol engine \n",
            "The car has 4 tyres \n",
            "The car has 5 windows \n"
          ]
        }
      ]
    },
    {
      "cell_type": "code",
      "source": [
        "car1.self_driving(\"petrol\")"
      ],
      "metadata": {
        "colab": {
          "base_uri": "https://localhost:8080/"
        },
        "id": "az9vtIo-7jZr",
        "outputId": "ad1b3aaf-66d5-44a4-c5f9-c7880da50ada"
      },
      "execution_count": 25,
      "outputs": [
        {
          "output_type": "stream",
          "name": "stdout",
          "text": [
            "The car type is petrol engine \n"
          ]
        }
      ]
    },
    {
      "cell_type": "markdown",
      "source": [
        "#**Can we use multiple constructor????**\n",
        "\n",
        "firstly constructor is started with-----\n",
        "\n",
        "__init__\n",
        "\n",
        "if we create more than one constructor,then newone will override  the previous constructor (previoud constructor will not work)..\n",
        "\n",
        "so it is not allowed...\n",
        "\n",
        "but if we want to do in any ondition,,,perhaps it is not a good decision,,but method is here...below....in code shell...\n",
        "\n",
        "because we have to write a lot of conditions here."
      ],
      "metadata": {
        "id": "6u8FFafQ8omX"
      }
    },
    {
      "cell_type": "code",
      "source": [
        "class Animal:\n",
        "    def __init__(self,*args):\n",
        "        if len(args)==1:\n",
        "            self.name = args[0]\n",
        "        elif len(args)==2:\n",
        "            self.name = args[0]\n",
        "            self.species = args[1]\n",
        "        elif len(args)==3:\n",
        "            self.name = args[0]\n",
        "            self.species = args[1]\n",
        "            self.age = args[2]\n",
        "\n",
        "    def make_sound(self, sound):\n",
        "        return \"The animal is {} and says {}\".format(self.name, sound)\n",
        "\n",
        "dog=Animal(\"dog\",\"mammals\",17) # here we can give one or more parameters\n",
        "print(dog.name)\n",
        "print(dog.species)\n",
        "print(dog.age)\n",
        "print(dog.make_sound(\"woof wwoof\"))"
      ],
      "metadata": {
        "colab": {
          "base_uri": "https://localhost:8080/"
        },
        "id": "K5iq55Dq8svv",
        "outputId": "6353d0a2-f1cb-4334-e69c-35b16571520d"
      },
      "execution_count": 29,
      "outputs": [
        {
          "output_type": "stream",
          "name": "stdout",
          "text": [
            "dog\n",
            "mammals\n",
            "17\n",
            "The animal is dog and says woof wwoof\n"
          ]
        }
      ]
    },
    {
      "cell_type": "markdown",
      "source": [
        "#**Inheritance**\n",
        "\n",
        "we can apply inheriance concept in classes.\n",
        "\n",
        "Inheritance in object-oriented programming is pretty similar to real-world inheritance where a child inherits some of the characteristics from his parents, in addition to his/her own unique characteristics.\n",
        "\n",
        "In object-oriented programming, inheritance signifies an IS-A relation. For instance, a car is a vehicle. Inheritance is one of the most amazing concepts of object-oriented programming as it fosters code re-usability.\n",
        "\n",
        "The basic idea of inheritance in object-oriented programming is that a class can inherit the characteristics of another class. The class which inherits another class is called the child class or derived class, and the class which is inherited by another class is called parent or base class."
      ],
      "metadata": {
        "id": "WerGr_VX-KvT"
      }
    },
    {
      "cell_type": "markdown",
      "source": [
        "**Let's take a look at a very simple example of inheritance. Execute the following script:**"
      ],
      "metadata": {
        "id": "ZAEhPXH8Cq_b"
      }
    },
    {
      "cell_type": "code",
      "source": [
        "# Create Class Vehicle\n",
        "class Vehicle:\n",
        "    def vehicle_method(self):\n",
        "        print(\"This is parent Vehicle class method\")\n",
        "\n",
        "# Create Class Car that inherits Vehicle\n",
        "class Car(Vehicle):\n",
        "    def car_method(self):\n",
        "        print(\"This is child Car class method\")"
      ],
      "metadata": {
        "id": "EODcITdkB9_R"
      },
      "execution_count": 33,
      "outputs": []
    },
    {
      "cell_type": "code",
      "source": [
        "car_a = Car()\n",
        "car_a.vehicle_method() # Calling parent class method"
      ],
      "metadata": {
        "colab": {
          "base_uri": "https://localhost:8080/"
        },
        "id": "X2XS3LAbCGLx",
        "outputId": "b4a988cb-9c3e-4534-ac75-9fe6bc93d691"
      },
      "execution_count": 34,
      "outputs": [
        {
          "output_type": "stream",
          "name": "stdout",
          "text": [
            "This is parent Vehicle class method\n"
          ]
        }
      ]
    },
    {
      "cell_type": "markdown",
      "source": [
        "In the script above, we create two classes Vehicle class, and the Car class which inherits the Vehicle class. To inherit a class, you simply have to write the parent class name inside the parenthesis that follows the child class name. The Vehicle class contains a method vehicle_method() and the child class contains a method car_method(). However, since the Car class inherits the Vehicle class, it will also inherit the vehicle_method()."
      ],
      "metadata": {
        "id": "MQXfnDBkCBph"
      }
    },
    {
      "cell_type": "markdown",
      "source": [
        "**In Python, a parent class can have multiple children and similarly, a child class can have multiple parent classes. Let's take a look at the first scenario. Execute the following script:**"
      ],
      "metadata": {
        "id": "NyJWRV0pCxx8"
      }
    },
    {
      "cell_type": "code",
      "source": [
        "# Create Class Vehicle\n",
        "class Vehicle:\n",
        "    def vehicle_method(self):\n",
        "        print(\"This is parent Vehicle class method\")\n",
        "\n",
        "# Create Class Car that inherits Vehicle\n",
        "class Car(Vehicle):\n",
        "    def car_method(self):\n",
        "        print(\"This is child Car class method\")\n",
        "\n",
        "# Create Class Cycle that inherits Vehicle\n",
        "class Cycle(Vehicle):\n",
        "    def cycleMethod(self):\n",
        "        print(\"This is child Cycle class method\")"
      ],
      "metadata": {
        "id": "KosTj6gyCODW"
      },
      "execution_count": 35,
      "outputs": []
    },
    {
      "cell_type": "code",
      "source": [
        "car_a = Car()\n",
        "car_a.vehicle_method() # Calling parent class method\n",
        "car_b = Cycle()\n",
        "car_b.vehicle_method() # Calling parent class method"
      ],
      "metadata": {
        "colab": {
          "base_uri": "https://localhost:8080/"
        },
        "id": "ApIYeU37CRhW",
        "outputId": "264949fd-76b6-4d5e-e9ad-353821627bad"
      },
      "execution_count": 36,
      "outputs": [
        {
          "output_type": "stream",
          "name": "stdout",
          "text": [
            "This is parent Vehicle class method\n",
            "This is parent Vehicle class method\n"
          ]
        }
      ]
    },
    {
      "cell_type": "markdown",
      "source": [
        "**You can see how a parent class can be inherited by two child classes. In the same way, a child can have multiple parents. Let's take a look at the example:**"
      ],
      "metadata": {
        "id": "khLWMxHzC5pF"
      }
    },
    {
      "cell_type": "code",
      "source": [
        "class Camera:\n",
        "    def camera_method(self):\n",
        "        print(\"This is parent Camera class method\")\n",
        "\n",
        "class Radio:\n",
        "    def radio_method(self):\n",
        "        print(\"This is parent Radio class method\")\n",
        "\n",
        "class CellPhone(Camera, Radio):\n",
        "     def cell_phone_method(self):\n",
        "        print(\"This is child CellPhone class method\")"
      ],
      "metadata": {
        "id": "uOhmGTBGC7zy"
      },
      "execution_count": 37,
      "outputs": []
    },
    {
      "cell_type": "code",
      "source": [
        "cell_phone_a = CellPhone()\n",
        "cell_phone_a.camera_method()\n",
        "cell_phone_a.radio_method()"
      ],
      "metadata": {
        "colab": {
          "base_uri": "https://localhost:8080/"
        },
        "id": "njPTz2QLDEv8",
        "outputId": "49df860d-699a-4078-c6a4-a5eaa965b5f2"
      },
      "execution_count": 38,
      "outputs": [
        {
          "output_type": "stream",
          "name": "stdout",
          "text": [
            "This is parent Camera class method\n",
            "This is parent Radio class method\n"
          ]
        }
      ]
    },
    {
      "cell_type": "code",
      "source": [
        "##inheritance\n",
        "## car class blueprint\n",
        "\n",
        "class Car:\n",
        "    def __init__(self,windows,doors,enginetype):\n",
        "        self.windows=windows\n",
        "        self.doors=doors\n",
        "        self.enginetype=enginetype\n",
        "\n",
        "    def driving(self):\n",
        "        print(\"Car is ued for driving\")\n",
        "\n",
        "##Audi car is inherting from Car class\n",
        "class Audi(Car):\n",
        "    def __init__(self,windows,doors,enginetype,horsepower):\n",
        "        super().__init__(windows,doors,enginetype) #here super() is use for inheriting property from other class \n",
        "        self.horsepower=horsepower\n",
        "\n",
        "    def selfdriving(self):\n",
        "        print(\"IT is a self driving car\")\n",
        "\n",
        "\n",
        "audiq7=Audi(4,5,\"Diesel\",200)\n",
        "\n",
        "print(audiq7.horsepower)\n",
        "print(audiq7.windows)\n",
        "audiq7.driving()\n",
        "audiq7.selfdriving()\n",
        "\n",
        "car1=Car(4,5,\"Diesel\")\n",
        "print(car1)\n",
        "print(audiq7)\n",
        "\n",
        "print(dir(audiq7))\n",
        "print(dir(car1))"
      ],
      "metadata": {
        "colab": {
          "base_uri": "https://localhost:8080/"
        },
        "id": "40yQR4yD-Z0Z",
        "outputId": "b77e9744-daf5-49e2-c75b-f8e32456a452"
      },
      "execution_count": 31,
      "outputs": [
        {
          "output_type": "stream",
          "name": "stdout",
          "text": [
            "200\n",
            "4\n",
            "Car is ued for driving\n",
            "IT is a self driving car\n",
            "<__main__.Car object at 0x7ff0f223a550>\n",
            "<__main__.Audi object at 0x7ff0f21f44d0>\n",
            "['__class__', '__delattr__', '__dict__', '__dir__', '__doc__', '__eq__', '__format__', '__ge__', '__getattribute__', '__gt__', '__hash__', '__init__', '__init_subclass__', '__le__', '__lt__', '__module__', '__ne__', '__new__', '__reduce__', '__reduce_ex__', '__repr__', '__setattr__', '__sizeof__', '__str__', '__subclasshook__', '__weakref__', 'doors', 'driving', 'enginetype', 'horsepower', 'selfdriving', 'windows']\n",
            "['__class__', '__delattr__', '__dict__', '__dir__', '__doc__', '__eq__', '__format__', '__ge__', '__getattribute__', '__gt__', '__hash__', '__init__', '__init_subclass__', '__le__', '__lt__', '__module__', '__ne__', '__new__', '__reduce__', '__reduce_ex__', '__repr__', '__setattr__', '__sizeof__', '__str__', '__subclasshook__', '__weakref__', 'doors', 'driving', 'enginetype', 'windows']\n"
          ]
        }
      ]
    },
    {
      "cell_type": "markdown",
      "source": [
        "#Public,Private,protected\n",
        "\n",
        "\n",
        "**Access Modifiers**\n",
        "\n",
        "The access modifiers in Python are used to modify the default scope of variables. There are three types of access modifiers in Python: public, private, and protected.\n",
        "\n",
        "\n",
        "Variables with the public access modifiers can be accessed anywhere inside or outside the class, the private variables can only be accessed inside the class, while protected variables can be accessed within the same package.\n",
        "\n",
        "\n",
        "**To create a private variable, you need to prefix double underscores with the name of the variable. To create a protected variable, you need to prefix a single underscore with the variable name. For public variables, you do not have to add any prefixes at all. **"
      ],
      "metadata": {
        "id": "41VtF9lXBGO6"
      }
    },
    {
      "cell_type": "code",
      "source": [
        "class Car:\n",
        "    def __init__(self):\n",
        "        print (\"Engine started\")\n",
        "        self.name = \"corolla\"  #public\n",
        "        self.__make = \"toyota\"  #private\n",
        "        self._model = 1999  #protected"
      ],
      "metadata": {
        "id": "vy82XBVVBWwv"
      },
      "execution_count": 32,
      "outputs": []
    },
    {
      "cell_type": "markdown",
      "source": [
        "#**Polymorphism**"
      ],
      "metadata": {
        "id": "1EN02I7ADUnM"
      }
    },
    {
      "cell_type": "markdown",
      "source": [
        "The term polymorphism literally means having multiple forms. In the context of object-oriented programming, polymorphism refers to the ability of an object to behave in multiple ways.\n",
        "\n",
        "Polymorphism in programming is implemented via method-overloading and method overriding."
      ],
      "metadata": {
        "id": "3KMLHV-IDWkr"
      }
    }
  ]
}