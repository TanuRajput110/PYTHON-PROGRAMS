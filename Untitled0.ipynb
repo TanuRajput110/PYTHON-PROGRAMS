{
  "nbformat": 4,
  "nbformat_minor": 0,
  "metadata": {
    "colab": {
      "name": "Untitled0.ipynb",
      "provenance": [],
      "authorship_tag": "ABX9TyPS8G8k1B2cPSXfCGfYQu6y",
      "include_colab_link": true
    },
    "kernelspec": {
      "name": "python3",
      "display_name": "Python 3"
    },
    "language_info": {
      "name": "python"
    }
  },
  "cells": [
    {
      "cell_type": "markdown",
      "metadata": {
        "id": "view-in-github",
        "colab_type": "text"
      },
      "source": [
        "<a href=\"https://colab.research.google.com/github/TanuRajput110/PYTHON-PROGRAMS/blob/main/Untitled0.ipynb\" target=\"_parent\"><img src=\"https://colab.research.google.com/assets/colab-badge.svg\" alt=\"Open In Colab\"/></a>"
      ]
    },
    {
      "cell_type": "code",
      "metadata": {
        "colab": {
          "base_uri": "https://localhost:8080/"
        },
        "id": "NxJGyYM6qNL7",
        "outputId": "8a710ff1-5e28-4ccb-8af4-3b8e14df5237"
      },
      "source": [
        "#The program takes the elements of the list one by one and displays the average of the elements of the list.\n",
        "n=int(input(\"Enter the number of elements to be inserted: \"))\n",
        "a=[]\n",
        "for i in range(0,n):\n",
        "    elem=int(input(\"Enter element: \"))\n",
        "    a.append(elem)\n",
        "print(\"list :\",a)\n",
        "avg=sum(a)/n\n",
        "print(\"Average of elements in the list\",round(avg,2))\n"
      ],
      "execution_count": 4,
      "outputs": [
        {
          "output_type": "stream",
          "name": "stdout",
          "text": [
            "Enter the number of elements to be inserted: 4\n",
            "Enter element: 33\n",
            "Enter element: 44\n",
            "Enter element: 66\n",
            "Enter element: 33\n",
            "list : [33, 44, 66, 33]\n",
            "Average of elements in the list 44.0\n"
          ]
        }
      ]
    },
    {
      "cell_type": "code",
      "metadata": {
        "colab": {
          "base_uri": "https://localhost:8080/"
        },
        "id": "MhNhh5a6tlXx",
        "outputId": "90264228-c016-46d3-c1a4-95a04b81b8dd"
      },
      "source": [
        "#The program takes both the values from the user and swaps them without using temporary variable.\n",
        "a=int(input(\"Enter value of first variable: \"))\n",
        "b=int(input(\"Enter value of second variable: \"))\n",
        "a=a+b\n",
        "b=a-b\n",
        "a=a-b\n",
        "print(\"a is:\",a,\" b is:\",b)"
      ],
      "execution_count": 5,
      "outputs": [
        {
          "output_type": "stream",
          "name": "stdout",
          "text": [
            "Enter value of first variable: 34\n",
            "Enter value of second variable: 44\n",
            "a is: 44  b is: 34\n"
          ]
        }
      ]
    },
    {
      "cell_type": "code",
      "metadata": {
        "colab": {
          "base_uri": "https://localhost:8080/"
        },
        "id": "1VaGYD1HuNL-",
        "outputId": "78fc5cc0-6777-42b3-f50c-384fc1be2071"
      },
      "source": [
        "#The program takes a number n and computes n+nn+nnn.\n",
        "n=int(input(\"enter a number::\"))\n",
        "temp=str(n)  #integer is converted to string\n",
        "t1=temp+temp     #The string is then concatenated once \n",
        "t2=temp+temp+temp    #The string is then concatenated  twice and stored in a variable\n",
        "comp=n+int(t1)+int(t2) #Later to find the total sum, the string is converted back to integer.\n",
        "print(\"The value is:\",comp)"
      ],
      "execution_count": 8,
      "outputs": [
        {
          "output_type": "stream",
          "name": "stdout",
          "text": [
            "enter a number::66\n",
            "The value is: 673398\n"
          ]
        }
      ]
    },
    {
      "cell_type": "code",
      "metadata": {
        "colab": {
          "base_uri": "https://localhost:8080/"
        },
        "id": "csGwW5ijvam2",
        "outputId": "08f7f7aa-b5fb-45fc-ceb5-cb452484e1aa"
      },
      "source": [
        "#The program takes a number and reverses it.\n",
        "n=int(input(\"take a number::\"))\n",
        "rev=0\n",
        "while n>0:\n",
        "  dig=n%10\n",
        "  rev=rev*10+dig\n",
        "  n=n//10\n",
        "print(\"Reverse of the number:\",rev)"
      ],
      "execution_count": 10,
      "outputs": [
        {
          "output_type": "stream",
          "name": "stdout",
          "text": [
            "take a number::65443\n",
            "Reverse of the number: 34456\n"
          ]
        }
      ]
    },
    {
      "cell_type": "markdown",
      "metadata": {
        "id": "XoOWgJ04skst"
      },
      "source": [
        ""
      ]
    }
  ]
}