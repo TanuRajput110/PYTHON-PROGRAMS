{
  "nbformat": 4,
  "nbformat_minor": 0,
  "metadata": {
    "colab": {
      "name": "string_gfg.ipynb",
      "provenance": [],
      "collapsed_sections": [],
      "authorship_tag": "ABX9TyOBbqVWg3tXFjkKUS70f+YO",
      "include_colab_link": true
    },
    "kernelspec": {
      "name": "python3",
      "display_name": "Python 3"
    },
    "language_info": {
      "name": "python"
    }
  },
  "cells": [
    {
      "cell_type": "markdown",
      "metadata": {
        "id": "view-in-github",
        "colab_type": "text"
      },
      "source": [
        "<a href=\"https://colab.research.google.com/github/TanuRajput110/PYTHON-PROGRAMS/blob/main/string_gfg.ipynb\" target=\"_parent\"><img src=\"https://colab.research.google.com/assets/colab-badge.svg\" alt=\"Open In Colab\"/></a>"
      ]
    },
    {
      "cell_type": "markdown",
      "metadata": {
        "id": "GwWGLZ7WuoQW"
      },
      "source": [
        "1.Check palindrome number and symmetrical number."
      ]
    },
    {
      "cell_type": "code",
      "metadata": {
        "id": "-Z0IY5MWYlSp",
        "colab": {
          "base_uri": "https://localhost:8080/"
        },
        "outputId": "14e19959-88e0-455a-d81d-fe32da64ae5b"
      },
      "source": [
        "#slicing\n",
        "s=input(\"enter a string\")\n",
        "rev=s[::-1]\n",
        "if s==rev:\n",
        "  print(\"it is palindrome\")\n",
        "else:\n",
        "  print(\"not palindrome\")  \n",
        "half=int(len(s)/2)\n",
        "if len(s)%2==0:    #even\n",
        "  x=s[:half]\n",
        "  y=s[half:]\n",
        "else: #odd\n",
        "  x=s[:half]  \n",
        "  y=s[half+1:]\n",
        "#symmetric\n",
        "if x==y:\n",
        "  print(\"syym\")\n",
        "else:\n",
        "  print(\"not syym\")"
      ],
      "execution_count": null,
      "outputs": [
        {
          "output_type": "stream",
          "name": "stdout",
          "text": [
            "enter a stringtanu\n",
            "not palindrome\n",
            "not syym\n"
          ]
        }
      ]
    },
    {
      "cell_type": "code",
      "metadata": {
        "colab": {
          "base_uri": "https://localhost:8080/"
        },
        "id": "d1ggU8F8zW6P",
        "outputId": "bcfb9a00-bcdb-468e-cbd7-5ad10a1c38c5"
      },
      "source": [
        "#using for loop\n",
        "str_1=input(\"enter string\")\n",
        "revr=''\n",
        "for i in range(len(str_1)-1,-1,-1):\n",
        "  revr=revr+str_1[i]\n",
        "if str_1==revr:\n",
        "  print(\"palindrome\")  \n",
        "else:\n",
        "  print(\"not palindrome\")\n",
        "\n",
        "\n",
        "\n"
      ],
      "execution_count": null,
      "outputs": [
        {
          "output_type": "stream",
          "name": "stdout",
          "text": [
            "enter stringnaman\n",
            "palindrome\n"
          ]
        }
      ]
    },
    {
      "cell_type": "markdown",
      "metadata": {
        "id": "Ti__07L35OuY"
      },
      "source": [
        "2.Reverse words in a given string"
      ]
    },
    {
      "cell_type": "code",
      "metadata": {
        "colab": {
          "base_uri": "https://localhost:8080/",
          "height": 35
        },
        "id": "mRHcypou5UTl",
        "outputId": "369a4cc0-ed5e-44c0-b84a-05578b6eed40"
      },
      "source": [
        "st='hello i m tanu, how are you'\n",
        "rev=' '.join(reversed(x))\n",
        "rev\n",
        "#st.split(' ')\n",
        "#words=st[-1::-1]\n",
        "#print(words)"
      ],
      "execution_count": null,
      "outputs": [
        {
          "output_type": "execute_result",
          "data": {
            "application/vnd.google.colaboratory.intrinsic+json": {
              "type": "string"
            },
            "text/plain": [
              "'you are how tanu, m i hello'"
            ]
          },
          "metadata": {},
          "execution_count": 31
        }
      ]
    },
    {
      "cell_type": "markdown",
      "metadata": {
        "id": "BPitpETpHMXY"
      },
      "source": [
        "3.Ways to remove i'th character from string"
      ]
    },
    {
      "cell_type": "code",
      "metadata": {
        "colab": {
          "base_uri": "https://localhost:8080/",
          "height": 35
        },
        "id": "r_5L7gBLGz74",
        "outputId": "9154cf3e-c9bb-4780-8955-b9c7c45bee66"
      },
      "source": [
        "#using str.replace()  [drawback o this approach is that it fails in case of duplicates in string that match the char at pos i.]\n",
        "#[can use pos.i.replace() this function if replace first occurence ]\n",
        "stt=\"helo himi are you fine.good himi\"\n",
        "#rep=stt.replace('himi','hema')  \n",
        "rep=stt.replace('e','r',1)   #replace 1st occuring s to r\n",
        "rep"
      ],
      "execution_count": null,
      "outputs": [
        {
          "output_type": "execute_result",
          "data": {
            "application/vnd.google.colaboratory.intrinsic+json": {
              "type": "string"
            },
            "text/plain": [
              "'hrlo himi are you fine.good himi'"
            ]
          },
          "metadata": {},
          "execution_count": 42
        }
      ]
    },
    {
      "cell_type": "code",
      "metadata": {
        "colab": {
          "base_uri": "https://localhost:8080/",
          "height": 35
        },
        "id": "xycvVuEMLfDU",
        "outputId": "c4d8b828-8094-4941-ab8d-e6cfcef72c58"
      },
      "source": [
        "#using slice and +concatenation\n",
        "new_str=stt[:2]+stt[4:]\n",
        "new_str"
      ],
      "execution_count": null,
      "outputs": [
        {
          "output_type": "execute_result",
          "data": {
            "application/vnd.google.colaboratory.intrinsic+json": {
              "type": "string"
            },
            "text/plain": [
              "'he himi are you fine.good himi'"
            ]
          },
          "metadata": {},
          "execution_count": 44
        }
      ]
    },
    {
      "cell_type": "code",
      "metadata": {
        "colab": {
          "base_uri": "https://localhost:8080/"
        },
        "id": "iBAcWxAxMp8w",
        "outputId": "895ec3b3-2fab-4fa6-8133-976df2832b95"
      },
      "source": [
        "#using str.join() and list comprehension to remove i'th index char\n",
        "new_strr=''.join([stt[i] for i in range(len(stt)) if i!=2])\n",
        "print(\"the string ::\" + new_strr)"
      ],
      "execution_count": null,
      "outputs": [
        {
          "output_type": "stream",
          "name": "stdout",
          "text": [
            "the string ::heo himi are you fine.good himi\n"
          ]
        }
      ]
    },
    {
      "cell_type": "markdown",
      "metadata": {
        "id": "Ri6jTnSaO_BL"
      },
      "source": [
        "4.Find length of a string"
      ]
    },
    {
      "cell_type": "code",
      "metadata": {
        "colab": {
          "base_uri": "https://localhost:8080/"
        },
        "id": "OXD7fYCrO4bb",
        "outputId": "33109dbf-c777-4c43-df22-555bfe3a4094"
      },
      "source": [
        "#len()\n",
        "print(len(stt))"
      ],
      "execution_count": null,
      "outputs": [
        {
          "output_type": "stream",
          "name": "stdout",
          "text": [
            "32\n"
          ]
        }
      ]
    },
    {
      "cell_type": "code",
      "metadata": {
        "colab": {
          "base_uri": "https://localhost:8080/"
        },
        "id": "Z6uFMUCHPWAH",
        "outputId": "8df86a91-777e-4985-a2d7-f1d10846e36c"
      },
      "source": [
        "#using string method join and count\n",
        "def findlen(stt):\n",
        "  if not stt:\n",
        "    print(\"try again\")\n",
        "  else:\n",
        "    xx='py'\n",
        "    return ((xx).join(stt)).count(xx)+1   \n",
        "print(findlen(stt))      "
      ],
      "execution_count": null,
      "outputs": [
        {
          "output_type": "stream",
          "name": "stdout",
          "text": [
            "32\n"
          ]
        }
      ]
    },
    {
      "cell_type": "code",
      "metadata": {
        "colab": {
          "base_uri": "https://localhost:8080/"
        },
        "id": "VmcBOav_RRRx",
        "outputId": "73e27376-b570-4a7b-fef6-4822420bc5c4"
      },
      "source": [
        "#using while loop\n",
        "def findlen(stt):\n",
        "  counter=0\n",
        "  while stt[counter:]:\n",
        "    counter+=1\n",
        "  return counter\n",
        "print(findlen(stt))    "
      ],
      "execution_count": null,
      "outputs": [
        {
          "output_type": "stream",
          "name": "stdout",
          "text": [
            "32\n"
          ]
        }
      ]
    },
    {
      "cell_type": "markdown",
      "metadata": {
        "id": "1d7uVBvsSNhL"
      },
      "source": [
        "5.Avoid space in string length"
      ]
    },
    {
      "cell_type": "code",
      "metadata": {
        "id": "ZXsNrHVsSqfR"
      },
      "source": [
        "#using replace()\n",
        "def remove(stt):\n",
        "   return stt.replace(' ','')\n"
      ],
      "execution_count": null,
      "outputs": []
    },
    {
      "cell_type": "code",
      "metadata": {
        "colab": {
          "base_uri": "https://localhost:8080/"
        },
        "id": "inIlEO65TWl0",
        "outputId": "8996bb1b-3224-4a79-a168-96527503c2e0"
      },
      "source": [
        "#using split and join\n",
        "def remove(stt):\n",
        "  return ''.join(stt.split())\n",
        "print(remove(stt))  "
      ],
      "execution_count": null,
      "outputs": [
        {
          "output_type": "stream",
          "name": "stdout",
          "text": [
            "helohimiareyoufine.goodhimi\n"
          ]
        }
      ]
    },
    {
      "cell_type": "code",
      "metadata": {
        "colab": {
          "base_uri": "https://localhost:8080/",
          "height": 313
        },
        "id": "F07rMF0EVlm5",
        "outputId": "aaf80e27-f291-4592-e7cd-f05060fe3046"
      },
      "source": [
        "#using translate\n",
        "import string\n",
        "def remove(sttt):\n",
        "  return sttt.translate(None, '\\n\\t\\r')\n",
        "sttt='geeks'  \n",
        "print(remove(sttt))"
      ],
      "execution_count": null,
      "outputs": [
        {
          "output_type": "error",
          "ename": "TypeError",
          "evalue": "ignored",
          "traceback": [
            "\u001b[0;31m---------------------------------------------------------------------------\u001b[0m",
            "\u001b[0;31mTypeError\u001b[0m                                 Traceback (most recent call last)",
            "\u001b[0;32m<ipython-input-70-eb67ab5fff05>\u001b[0m in \u001b[0;36m<module>\u001b[0;34m()\u001b[0m\n\u001b[1;32m      4\u001b[0m   \u001b[0;32mreturn\u001b[0m \u001b[0msttt\u001b[0m\u001b[0;34m.\u001b[0m\u001b[0mtranslate\u001b[0m\u001b[0;34m(\u001b[0m\u001b[0;32mNone\u001b[0m\u001b[0;34m,\u001b[0m \u001b[0;34m'\\n\\t\\r'\u001b[0m\u001b[0;34m)\u001b[0m\u001b[0;34m\u001b[0m\u001b[0;34m\u001b[0m\u001b[0m\n\u001b[1;32m      5\u001b[0m \u001b[0msttt\u001b[0m\u001b[0;34m=\u001b[0m\u001b[0;34m'geeks'\u001b[0m\u001b[0;34m\u001b[0m\u001b[0;34m\u001b[0m\u001b[0m\n\u001b[0;32m----> 6\u001b[0;31m \u001b[0mprint\u001b[0m\u001b[0;34m(\u001b[0m\u001b[0mremove\u001b[0m\u001b[0;34m(\u001b[0m\u001b[0msttt\u001b[0m\u001b[0;34m)\u001b[0m\u001b[0;34m)\u001b[0m\u001b[0;34m\u001b[0m\u001b[0;34m\u001b[0m\u001b[0m\n\u001b[0m",
            "\u001b[0;32m<ipython-input-70-eb67ab5fff05>\u001b[0m in \u001b[0;36mremove\u001b[0;34m(sttt)\u001b[0m\n\u001b[1;32m      2\u001b[0m \u001b[0;32mimport\u001b[0m \u001b[0mstring\u001b[0m\u001b[0;34m\u001b[0m\u001b[0;34m\u001b[0m\u001b[0m\n\u001b[1;32m      3\u001b[0m \u001b[0;32mdef\u001b[0m \u001b[0mremove\u001b[0m\u001b[0;34m(\u001b[0m\u001b[0msttt\u001b[0m\u001b[0;34m)\u001b[0m\u001b[0;34m:\u001b[0m\u001b[0;34m\u001b[0m\u001b[0;34m\u001b[0m\u001b[0m\n\u001b[0;32m----> 4\u001b[0;31m   \u001b[0;32mreturn\u001b[0m \u001b[0msttt\u001b[0m\u001b[0;34m.\u001b[0m\u001b[0mtranslate\u001b[0m\u001b[0;34m(\u001b[0m\u001b[0;32mNone\u001b[0m\u001b[0;34m,\u001b[0m \u001b[0;34m'\\n\\t\\r'\u001b[0m\u001b[0;34m)\u001b[0m\u001b[0;34m\u001b[0m\u001b[0;34m\u001b[0m\u001b[0m\n\u001b[0m\u001b[1;32m      5\u001b[0m \u001b[0msttt\u001b[0m\u001b[0;34m=\u001b[0m\u001b[0;34m'geeks'\u001b[0m\u001b[0;34m\u001b[0m\u001b[0;34m\u001b[0m\u001b[0m\n\u001b[1;32m      6\u001b[0m \u001b[0mprint\u001b[0m\u001b[0;34m(\u001b[0m\u001b[0mremove\u001b[0m\u001b[0;34m(\u001b[0m\u001b[0msttt\u001b[0m\u001b[0;34m)\u001b[0m\u001b[0;34m)\u001b[0m\u001b[0;34m\u001b[0m\u001b[0;34m\u001b[0m\u001b[0m\n",
            "\u001b[0;31mTypeError\u001b[0m: translate() takes exactly one argument (2 given)"
          ]
        }
      ]
    },
    {
      "cell_type": "code",
      "metadata": {
        "colab": {
          "base_uri": "https://localhost:8080/"
        },
        "id": "9ukpSn8t9o4H",
        "outputId": "694f45b3-2897-4191-b790-c5637434c2e3"
      },
      "source": [
        "#Python program to print even length words in a string\n",
        "def printWords(s): \n",
        " \n",
        "\n",
        "    s = s.split(' ')  \n",
        "  \n",
        "\n",
        "    for word in s:\n",
        "  \n",
        "\n",
        "        if len(word)%2==0: \n",
        "\n",
        "            print(word)  \n",
        " \n",
        "\n",
        "s = \"i am muskan\" \n",
        "printWords(s)"
      ],
      "execution_count": null,
      "outputs": [
        {
          "output_type": "stream",
          "name": "stdout",
          "text": [
            "am\n",
            "muskan\n"
          ]
        }
      ]
    },
    {
      "cell_type": "code",
      "metadata": {
        "colab": {
          "base_uri": "https://localhost:8080/"
        },
        "id": "JYoPX9rD-N-l",
        "outputId": "0278cd3b-e3e7-415e-f9a0-933017cdbe18"
      },
      "source": [
        "#Python – Uppercase Half String\n",
        "str='geekforgeeks'\n",
        "def doupper(x):\n",
        "  st=\" \"\n",
        "  for i in range(len(s)):\n",
        "    l=len(s)//2\n",
        "    if i>=l:\n",
        "      st+=str[i].upper()\n",
        "    else:\n",
        "      st+=str[i].lower()\n",
        "  print(st)\n",
        "str=input()\n",
        "doupper(str)"
      ],
      "execution_count": null,
      "outputs": [
        {
          "output_type": "stream",
          "name": "stdout",
          "text": [
            "hy i m tanu\n",
            " hy i M TANU\n"
          ]
        }
      ]
    },
    {
      "cell_type": "code",
      "metadata": {
        "colab": {
          "base_uri": "https://localhost:8080/"
        },
        "id": "JBc-fIN2E5q9",
        "outputId": "de75befd-f0f4-4901-cfae-c31cf5f09e0f"
      },
      "source": [
        "#python program to capitalize the first and last character of each word in a string\n",
        "def word_both_cap(str): \n",
        "\n",
        "    return ' '.join(map(lambda s: s[:-1]+s[-1].upper(),  \n",
        "\n",
        "                        s.title().split())) \n",
        "\n",
        "s = \"welcome to geeksforgeeks\"\n",
        "\n",
        "print(\"String before:\", s) \n",
        "\n",
        "print(\"String after:\", word_both_cap(str))"
      ],
      "execution_count": null,
      "outputs": [
        {
          "output_type": "stream",
          "name": "stdout",
          "text": [
            "String before: welcome to geeksforgeeks\n",
            "String after: WelcomE TO GeeksforgeekS\n"
          ]
        }
      ]
    },
    {
      "cell_type": "code",
      "metadata": {
        "id": "KR8A8fVnGltx"
      },
      "source": [
        ""
      ],
      "execution_count": null,
      "outputs": []
    }
  ]
}