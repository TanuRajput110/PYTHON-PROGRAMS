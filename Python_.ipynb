{
  "nbformat": 4,
  "nbformat_minor": 0,
  "metadata": {
    "colab": {
      "provenance": [],
      "collapsed_sections": [
        "DAGF-LG_I3U_",
        "gZvXsaucN-P7",
        "cDFsuRisMcgb",
        "oO5c0-xoJtyX",
        "Woiuv_ePr3qI",
        "KdGrIXw3HgYy",
        "0Adf_9XZOfUf"
      ],
      "authorship_tag": "ABX9TyNlO0N0QUNF9PJXKnJigYCz",
      "include_colab_link": true
    },
    "kernelspec": {
      "name": "python3",
      "display_name": "Python 3"
    },
    "language_info": {
      "name": "python"
    }
  },
  "cells": [
    {
      "cell_type": "markdown",
      "metadata": {
        "id": "view-in-github",
        "colab_type": "text"
      },
      "source": [
        "<a href=\"https://colab.research.google.com/github/TanuRajput110/PYTHON-PROGRAMS/blob/main/Python_.ipynb\" target=\"_parent\"><img src=\"https://colab.research.google.com/assets/colab-badge.svg\" alt=\"Open In Colab\"/></a>"
      ]
    },
    {
      "cell_type": "markdown",
      "source": [
        "#**A)..VARIABLE**\n",
        "\n"
      ],
      "metadata": {
        "id": "DAGF-LG_I3U_"
      }
    },
    {
      "cell_type": "markdown",
      "source": [
        "![image.png](data:image/png;base64,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)"
      ],
      "metadata": {
        "id": "KJcJiD54JGEt"
      }
    },
    {
      "cell_type": "code",
      "execution_count": null,
      "metadata": {
        "colab": {
          "base_uri": "https://localhost:8080/"
        },
        "id": "fRpGZdDxIBTz",
        "outputId": "5ad87035-2690-402b-fbd9-2f0a14c067fc"
      },
      "outputs": [
        {
          "output_type": "stream",
          "name": "stdout",
          "text": [
            "2\n",
            "2\n"
          ]
        }
      ],
      "source": [
        "#let's see what should be a variable name.........\n",
        "x=2    #a variable can be any letter\n",
        "print(x)\n",
        "x1=2   # a variable can be a combination of letter and number\n",
        "print(x1)\n"
      ]
    },
    {
      "cell_type": "code",
      "source": [
        "1x=6   # a variable can't be start with a number  # it will throw an error\n",
        "print(1x)"
      ],
      "metadata": {
        "colab": {
          "base_uri": "https://localhost:8080/",
          "height": 131
        },
        "id": "LnrWa2mcKMSy",
        "outputId": "447d3a09-b77b-42a5-8bd9-1d2c6985cb93"
      },
      "execution_count": null,
      "outputs": [
        {
          "output_type": "error",
          "ename": "SyntaxError",
          "evalue": "ignored",
          "traceback": [
            "\u001b[0;36m  File \u001b[0;32m\"<ipython-input-31-76e852fa23a3>\"\u001b[0;36m, line \u001b[0;32m1\u001b[0m\n\u001b[0;31m    1x=6   # a variable can't be start with a number  # it will throw an error\u001b[0m\n\u001b[0m     ^\u001b[0m\n\u001b[0;31mSyntaxError\u001b[0m\u001b[0;31m:\u001b[0m invalid syntax\n"
          ]
        }
      ]
    },
    {
      "cell_type": "code",
      "source": [
        "#we can't start with a number but can start with an underscore\n",
        "_1x=4\n",
        "print(_1x)"
      ],
      "metadata": {
        "colab": {
          "base_uri": "https://localhost:8080/"
        },
        "id": "OGyQ9H4nKQTQ",
        "outputId": "230d4739-6cbe-46cd-ca00-e0e50b72ce85"
      },
      "execution_count": null,
      "outputs": [
        {
          "output_type": "stream",
          "name": "stdout",
          "text": [
            "4\n"
          ]
        }
      ]
    },
    {
      "cell_type": "code",
      "source": [
        "#we can't use space in variable name\n",
        "x y=56"
      ],
      "metadata": {
        "colab": {
          "base_uri": "https://localhost:8080/",
          "height": 131
        },
        "id": "7iwLFEB_KgKR",
        "outputId": "08e45995-fbc2-44c2-97c5-406aa1084d67"
      },
      "execution_count": null,
      "outputs": [
        {
          "output_type": "error",
          "ename": "SyntaxError",
          "evalue": "ignored",
          "traceback": [
            "\u001b[0;36m  File \u001b[0;32m\"<ipython-input-47-05a431364b31>\"\u001b[0;36m, line \u001b[0;32m2\u001b[0m\n\u001b[0;31m    x y=56\u001b[0m\n\u001b[0m      ^\u001b[0m\n\u001b[0;31mSyntaxError\u001b[0m\u001b[0;31m:\u001b[0m invalid syntax\n"
          ]
        }
      ]
    },
    {
      "cell_type": "code",
      "source": [
        "#python is case sensitive so 'A' and 'a' are two different things..\n",
        "a=9\n",
        "A=90\n",
        "print(a,A)\n",
        "\n"
      ],
      "metadata": {
        "colab": {
          "base_uri": "https://localhost:8080/"
        },
        "id": "qlCk4kN7Kp-v",
        "outputId": "85dd0f5b-a544-4da9-ff34-253a5b323a0e"
      },
      "execution_count": null,
      "outputs": [
        {
          "output_type": "stream",
          "name": "stdout",
          "text": [
            "9 90\n"
          ]
        }
      ]
    },
    {
      "cell_type": "code",
      "source": [
        "#don't use special character in variable name\n",
        "a@y=90"
      ],
      "metadata": {
        "colab": {
          "base_uri": "https://localhost:8080/",
          "height": 131
        },
        "id": "AU28j8PPLlbl",
        "outputId": "057a808f-9dd8-48f7-ebbb-1725f4cb6cb2"
      },
      "execution_count": null,
      "outputs": [
        {
          "output_type": "error",
          "ename": "SyntaxError",
          "evalue": "ignored",
          "traceback": [
            "\u001b[0;36m  File \u001b[0;32m\"<ipython-input-62-52e6dba5cd88>\"\u001b[0;36m, line \u001b[0;32m2\u001b[0m\n\u001b[0;31m    a@y=90\u001b[0m\n\u001b[0m          ^\u001b[0m\n\u001b[0;31mSyntaxError\u001b[0m\u001b[0;31m:\u001b[0m can't assign to operator\n"
          ]
        }
      ]
    },
    {
      "cell_type": "code",
      "source": [
        "#dont' ever use any keyword name as your variable name\n",
        "else=90\n",
        "print(else)\n",
        "type(else)\n"
      ],
      "metadata": {
        "id": "O5OK1VE6Lvv8"
      },
      "execution_count": null,
      "outputs": []
    },
    {
      "cell_type": "code",
      "source": [
        "#we can assign multiple variables\n",
        "a,b,c=1,4,\"tanu\"\n",
        "print(a)\n",
        "a=b=c=6\n",
        "print(a)\n"
      ],
      "metadata": {
        "id": "RxWdcTP9MxMR"
      },
      "execution_count": null,
      "outputs": []
    },
    {
      "cell_type": "code",
      "source": [
        "#if we assign different values to a samne variable then python consider the last assignment\n",
        "x=8\n",
        "x=9\n",
        "print(x)"
      ],
      "metadata": {
        "colab": {
          "base_uri": "https://localhost:8080/"
        },
        "id": "ZtCXs2PbNQCY",
        "outputId": "3d60f3a7-0fb7-4ec4-89b2-2cc3c01da2da"
      },
      "execution_count": null,
      "outputs": [
        {
          "output_type": "stream",
          "name": "stdout",
          "text": [
            "9\n"
          ]
        }
      ]
    },
    {
      "cell_type": "code",
      "source": [
        "#but what happen if we do something like this\n",
        "a,b,c=5,6"
      ],
      "metadata": {
        "colab": {
          "base_uri": "https://localhost:8080/",
          "height": 183
        },
        "id": "HOjaLodEM9lI",
        "outputId": "7b033b6f-9384-4195-dd37-4da823d43c44"
      },
      "execution_count": null,
      "outputs": [
        {
          "output_type": "error",
          "ename": "ValueError",
          "evalue": "ignored",
          "traceback": [
            "\u001b[0;31m---------------------------------------------------------------------------\u001b[0m",
            "\u001b[0;31mValueError\u001b[0m                                Traceback (most recent call last)",
            "\u001b[0;32m<ipython-input-64-b0d3643e2575>\u001b[0m in \u001b[0;36m<module>\u001b[0;34m\u001b[0m\n\u001b[1;32m      1\u001b[0m \u001b[0;31m#but what happen if we do something like this\u001b[0m\u001b[0;34m\u001b[0m\u001b[0;34m\u001b[0m\u001b[0;34m\u001b[0m\u001b[0m\n\u001b[0;32m----> 2\u001b[0;31m \u001b[0ma\u001b[0m\u001b[0;34m,\u001b[0m\u001b[0mb\u001b[0m\u001b[0;34m,\u001b[0m\u001b[0mc\u001b[0m\u001b[0;34m=\u001b[0m\u001b[0;36m5\u001b[0m\u001b[0;34m,\u001b[0m\u001b[0;36m6\u001b[0m\u001b[0;34m\u001b[0m\u001b[0;34m\u001b[0m\u001b[0m\n\u001b[0m",
            "\u001b[0;31mValueError\u001b[0m: not enough values to unpack (expected 3, got 2)"
          ]
        }
      ]
    },
    {
      "cell_type": "markdown",
      "source": [],
      "metadata": {
        "id": "DszKUyyRN5XC"
      }
    },
    {
      "cell_type": "markdown",
      "source": [
        "#**B)...OPERATORS**"
      ],
      "metadata": {
        "id": "gZvXsaucN-P7"
      }
    },
    {
      "cell_type": "markdown",
      "source": [
        "**There are seven types of operator in python**-----\n",
        "\n",
        "\n",
        "![python-operators.webp](data:image/webp;base64,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)"
      ],
      "metadata": {
        "id": "JCkWQzixOFBx"
      }
    },
    {
      "cell_type": "markdown",
      "source": [
        "**Airthmetic Operator**--->>\n",
        "          "
      ],
      "metadata": {
        "id": "ESxA1VtZOVtA"
      }
    },
    {
      "cell_type": "code",
      "source": [
        "a=56\n",
        "b=34\n",
        "#addition\n",
        "print(a+b)\n",
        "#substraction\n",
        "print(a-b)\n",
        "#division\n",
        "print(a/b)\n",
        "#multiplication\n",
        "print(a*b)\n"
      ],
      "metadata": {
        "colab": {
          "base_uri": "https://localhost:8080/"
        },
        "id": "JOYpxmN5ODEp",
        "outputId": "eca7152f-8ecb-4c36-c17e-3a5129bb9b31"
      },
      "execution_count": null,
      "outputs": [
        {
          "output_type": "stream",
          "name": "stdout",
          "text": [
            "90\n",
            "22\n",
            "1.6470588235294117\n",
            "1904\n"
          ]
        }
      ]
    },
    {
      "cell_type": "markdown",
      "source": [
        "**Relational Operator--->>**"
      ],
      "metadata": {
        "id": "mioyuGdMPeV1"
      }
    },
    {
      "cell_type": "code",
      "source": [
        "print(a<b)\n",
        "print(a>b)\n",
        "print(a==b)\n",
        "print(a!=b)\n",
        "print(a<=b)\n",
        "print(a>=b)"
      ],
      "metadata": {
        "id": "ng1YVqzLPg6U"
      },
      "execution_count": null,
      "outputs": []
    },
    {
      "cell_type": "markdown",
      "source": [
        "**Assignment Operator---->>**"
      ],
      "metadata": {
        "id": "nBRIH_VgP45S"
      }
    },
    {
      "cell_type": "code",
      "source": [
        "a=45    #assignging a value to a variable\n",
        "a+=67    # assignging an addition or a=a+67\n",
        "a-=67\n",
        "a*=6\n",
        "a/=3\n",
        "a%=5\n",
        "a<<=7\n",
        "a>>=6\n",
        "a**=3\n",
        "a&=5\n",
        "a//=3"
      ],
      "metadata": {
        "id": "CAtnDpQ3P9mM"
      },
      "execution_count": null,
      "outputs": []
    },
    {
      "cell_type": "markdown",
      "source": [
        "**Logical Operator---->>**\n",
        "\n",
        "                Logical operators are used on conditional statements (either True or False).\n",
        "                 They perform Logical AND, Logical OR and Logical NOT operations."
      ],
      "metadata": {
        "id": "mvN2Fh9GRNnB"
      }
    },
    {
      "cell_type": "code",
      "source": [],
      "metadata": {
        "id": "hIN1_8rbSJ3b"
      },
      "execution_count": null,
      "outputs": []
    },
    {
      "cell_type": "code",
      "source": [],
      "metadata": {
        "id": "Rzp7y8kVSKSe"
      },
      "execution_count": null,
      "outputs": []
    },
    {
      "cell_type": "markdown",
      "source": [
        "**membership Operator---->>**\n",
        "\n",
        "                     Membership Operators are the operators, which are used to check whether a value/variable exists in the sequence \n",
        "                     like string, list, tuples, sets, dictionary or not. These operator returns either True or False, \n",
        "                     if a value/variable found in the list, its returns True otherwise it returns False.\n",
        "\n",
        "                       \n",
        "                       Operator                              \tDescription\t                                                     Example\n",
        "                        in\t           Returns True if a sequence with the specified value is present in the object\t            x in y\n",
        "\n",
        "                      not in\t          Returns True if a sequence with the specified value is not present in the object         x not in y"
      ],
      "metadata": {
        "id": "1tQPOl8ZSANG"
      }
    },
    {
      "cell_type": "code",
      "source": [
        "# Python program to illustrate\n",
        "# Finding common member in list\n",
        "# using 'in' operator\n",
        "list1 = [1, 2, 3, 4, 5]\n",
        "list2 = [6, 7, 8, 9]\n",
        "for item in list1:\n",
        "    if item in list2:\n",
        "        print(\"overlapping\")\n",
        "    else:\n",
        "        print(\"not overlapping\")"
      ],
      "metadata": {
        "id": "nTXrSRONRSXg"
      },
      "execution_count": null,
      "outputs": []
    },
    {
      "cell_type": "code",
      "source": [
        "# Python program to illustrate\n",
        "# not 'in' operator\n",
        "x = 24\n",
        "y = 20\n",
        "list = [10, 20, 30, 40, 50]\n",
        " \n",
        "if (x not in list):\n",
        "    print(\"x is NOT present in given list\")\n",
        "else:\n",
        "    print(\"x is  present in given list\")\n",
        " \n",
        "if (y in list):\n",
        "    print(\"y is present in given list\")\n",
        "else:\n",
        "    print(\"y is NOT present in given list\")"
      ],
      "metadata": {
        "id": "ymYZ14FoSLQu"
      },
      "execution_count": null,
      "outputs": []
    },
    {
      "cell_type": "markdown",
      "source": [
        "**identity Operator---->>**\n",
        "\n",
        "                          Identity operators are used to compare the objects, not if they are equal, \n",
        "                          but if they are actually the same object, with the same memory location\n",
        "\n",
        "                          **is** -->>\tReturns true if both variables are the same object\tx is y\n",
        "                           \t\n",
        "                          **is not**-->>\tReturns true if both variables are not the same object\tx is not y"
      ],
      "metadata": {
        "id": "2puhcKL4SLne"
      }
    },
    {
      "cell_type": "code",
      "source": [
        "\n",
        "# Python program to illustrate the use\n",
        "# of 'is' identity operator\n",
        "x = 5\n",
        "y = 5\n",
        "print(x is y)\n",
        "id(x)\n",
        "id(y)"
      ],
      "metadata": {
        "id": "hyP83InuWwiQ"
      },
      "execution_count": null,
      "outputs": []
    },
    {
      "cell_type": "code",
      "source": [
        "x = [\"Geeks\", \"for\", \"Geeks\"]\n",
        "y = [\"Geeks\", \"for\", \"Geeks\"]\n",
        "z = x\n",
        " \n",
        "# Returns False because z is the same object as x\n",
        "print(x is not z)\n",
        " \n",
        "# Returns True because x is not the same object as y,\n",
        "# even if they have the same content\n",
        "print(x is not y)\n",
        " \n",
        "# To demonstrate the difference betweeen \"is not\" and \"!=\":\n",
        "# This comparison returns False because x is equal to y\n",
        "print(x != y)"
      ],
      "metadata": {
        "id": "4ONbtYfnWgsY"
      },
      "execution_count": null,
      "outputs": []
    },
    {
      "cell_type": "markdown",
      "source": [
        "**Bitwise Operator---->>**\n",
        "\n",
        "\n",
        "            ** OPERATOR \tDESCRIPTION\t        SYNTAX**\n",
        "                     &\tBitwise AND\t           x & y\n",
        "                     |\tBitwise OR\t           x | y\n",
        "                     ~\tBitwise NOT             ~x\n",
        "                     ^\tBitwise XOR\t           x ^ y\n",
        "                     >>\tBitwise right shift\t   x>>\n",
        "                     <<\tBitwise left shift\t   x<<"
      ],
      "metadata": {
        "id": "RRN2JS7nTe8L"
      }
    },
    {
      "cell_type": "code",
      "source": [
        "# Python program to show\n",
        "# bitwise operators\n",
        " \n",
        "a = 10\n",
        "b = 4\n",
        " \n",
        "# Print bitwise AND operation\n",
        "print(\"a & b =\", a & b)\n",
        " \n",
        "# Print bitwise OR operation\n",
        "print(\"a | b =\", a | b)\n",
        " \n",
        "# Print bitwise NOT operation\n",
        "print(\"~a =\", ~a)\n",
        " \n",
        "# print bitwise XOR operation\n",
        "print(\"a ^ b =\", a ^ b)"
      ],
      "metadata": {
        "id": "xcKOV_1gTwXY"
      },
      "execution_count": null,
      "outputs": []
    },
    {
      "cell_type": "markdown",
      "source": [
        "#**C)...DATA TYPES**"
      ],
      "metadata": {
        "id": "h43aVOObOuJ7"
      }
    },
    {
      "cell_type": "markdown",
      "source": [
        "##**1---> INT,BOOLEAN,FlOAT(Numeric Data Type)**"
      ],
      "metadata": {
        "id": "cDFsuRisMcgb"
      }
    },
    {
      "cell_type": "markdown",
      "source": [
        "\n",
        "\n",
        "**The Python Boolean type** is one of Python's built-in data types. It's used to represent the truth value of an expression. For example, the expression 1 <= 2 is True , while the expression 0 == 1 is False \n",
        "\n",
        "**The float type** in Python represents the floating point number. Float is used to represent real numbers and is written with a decimal point dividing the integer and fractional parts. For example, 97.98, 32.3+e18, -32.54e100 all are floating point numbers.\n",
        "\n",
        "**The Integer type** This value is represented by int class. It contains positive or negative whole numbers (without fraction or decimal). In Python there is no limit to how long an integer value can be."
      ],
      "metadata": {
        "id": "UN0t_k4sPAJ7"
      }
    },
    {
      "cell_type": "code",
      "source": [
        "type(8)"
      ],
      "metadata": {
        "id": "36eQILMNPrDY"
      },
      "execution_count": null,
      "outputs": []
    },
    {
      "cell_type": "code",
      "source": [
        "type(True)"
      ],
      "metadata": {
        "id": "LpQdmt1rPwDH"
      },
      "execution_count": null,
      "outputs": []
    },
    {
      "cell_type": "code",
      "source": [
        "type(\"True\")"
      ],
      "metadata": {
        "id": "UJHTSwYCPyYR"
      },
      "execution_count": null,
      "outputs": []
    },
    {
      "cell_type": "code",
      "source": [
        "type(8.6)"
      ],
      "metadata": {
        "id": "_CwppbbtP38P"
      },
      "execution_count": null,
      "outputs": []
    },
    {
      "cell_type": "markdown",
      "source": [
        "**Problem 1**\n",
        "\n",
        "In a game, based on the outcome of a particular match a team gets following points:\n",
        "\n",
        "wins gets **3** points\n",
        "\n",
        "draws gets **1** points\n",
        "\n",
        "losses gets **0** points \n",
        "\n",
        "Team 'A' plays 8 matches in this tournament. \n",
        "\n",
        "It wins 4 matches, loses 3 matches and draws 1. \n",
        "\n",
        "What is the total number of points gained by the Team 'A'?"
      ],
      "metadata": {
        "id": "ue4K5RLCN2Sl"
      }
    },
    {
      "cell_type": "code",
      "source": [
        "# The outcome variables are defined below\n",
        "wins = 4\n",
        "losses = 3\n",
        "draws = 1"
      ],
      "metadata": {
        "id": "N0tetxiENuf-"
      },
      "execution_count": null,
      "outputs": []
    },
    {
      "cell_type": "code",
      "source": [
        "# Calculate the total points gained by Team \"A\"\n",
        "A_points = wins*4+losses*3+draws*1"
      ],
      "metadata": {
        "id": "n-6c75KLONi1"
      },
      "execution_count": null,
      "outputs": []
    },
    {
      "cell_type": "code",
      "source": [
        "# Print the variable A_points\n",
        "A_points"
      ],
      "metadata": {
        "id": "lBDJUhbJOTaT"
      },
      "execution_count": null,
      "outputs": []
    },
    {
      "cell_type": "markdown",
      "source": [
        "\n",
        "\n",
        "```\n",
        "This is formatted as code\n",
        "```\n",
        "\n",
        " <u>Problem 2 </u>\n",
        "\n",
        "* Root of a function $f(x)$ is defined as the value $x$ where $f(x)=0$ \n",
        "* Consider a quadratic function $ f(x) = x^2 + 3x - 4$\n",
        "\n",
        "### Find the value of the function $f(x)$ at points   $x=2,x=-1, x=1$."
      ],
      "metadata": {
        "id": "Us177u2PQJ01"
      }
    },
    {
      "cell_type": "code",
      "source": [
        "# Calculate the value of the function f(x) at x = 2\n",
        "x=2\n",
        "func_evaluated_at_2 = x*x+3*x-4"
      ],
      "metadata": {
        "id": "kGn8jcpZQMWr"
      },
      "execution_count": null,
      "outputs": []
    },
    {
      "cell_type": "code",
      "source": [
        "# Print the value below\n",
        "print(func_evaluated_at_2)"
      ],
      "metadata": {
        "id": "q9CDMjGgQPQ7"
      },
      "execution_count": null,
      "outputs": []
    },
    {
      "cell_type": "code",
      "source": [
        "# Calculate the value of the function f(x) at x = -1\n",
        "x=-1\n",
        "func_evaluated_at_minus1 = x*x+3*x-4"
      ],
      "metadata": {
        "id": "4ADJtQueQSOb"
      },
      "execution_count": null,
      "outputs": []
    },
    {
      "cell_type": "code",
      "source": [
        "# Print the value below\n",
        "print(func_evaluated_at_minus1)"
      ],
      "metadata": {
        "id": "A4jpZvd8QSmM"
      },
      "execution_count": null,
      "outputs": []
    },
    {
      "cell_type": "code",
      "source": [
        "# Calculate the value of the function f(x) at x = 1\n",
        "x=1\n",
        "func_evaluated_at_1 = x*x+3*x-4"
      ],
      "metadata": {
        "id": "VNQ4o7k0QU3L"
      },
      "execution_count": null,
      "outputs": []
    },
    {
      "cell_type": "code",
      "source": [
        "# Print the type of the variable below\n",
        "func_evaluated_at_1"
      ],
      "metadata": {
        "id": "md5X_SjLQW3j"
      },
      "execution_count": null,
      "outputs": []
    },
    {
      "cell_type": "markdown",
      "source": [
        "Return the boolean for each value of  x  to find out whether that value is a root of  f(x)"
      ],
      "metadata": {
        "id": "og3yBLdLQbG8"
      }
    },
    {
      "cell_type": "code",
      "source": [
        "# Check whether 2 is a root of f(x)\n",
        "func_evaluated_at_2 == 0"
      ],
      "metadata": {
        "id": "9k8cryssQbwG"
      },
      "execution_count": null,
      "outputs": []
    },
    {
      "cell_type": "code",
      "source": [
        "# Check whether -1 is a root of f(x)\n",
        "func_evaluated_at_minus1 == 0"
      ],
      "metadata": {
        "id": "64_tXulQQdaN"
      },
      "execution_count": null,
      "outputs": []
    },
    {
      "cell_type": "code",
      "source": [
        "# Check whether 1 is a root of f(x)\n",
        "func_evaluated_at_1 == 0"
      ],
      "metadata": {
        "id": "mntA4hPiQe-O"
      },
      "execution_count": null,
      "outputs": []
    },
    {
      "cell_type": "markdown",
      "source": [
        "##**2---> STRING**"
      ],
      "metadata": {
        "id": "vaUz6J6IR84y"
      }
    },
    {
      "cell_type": "markdown",
      "source": [
        "Strings in python are used to record text information such as 'names',It could either be a word, a phrase,a sentence,a paragrap, or an entire encylopedia.\n",
        "\n",
        "string in python actually a sequence, which basically means python keeps track of every element in the string as a sequence."
      ],
      "metadata": {
        "id": "ize5qTK08RjK"
      }
    },
    {
      "cell_type": "code",
      "source": [
        "#creating a string\n",
        "string=\"joker\"\n",
        "print(string)"
      ],
      "metadata": {
        "id": "TutL6v7bSEPo",
        "colab": {
          "base_uri": "https://localhost:8080/"
        },
        "outputId": "6d23a791-7a25-491d-f5ee-484367607110"
      },
      "execution_count": null,
      "outputs": [
        {
          "output_type": "stream",
          "name": "stdout",
          "text": [
            "joker\n"
          ]
        }
      ]
    },
    {
      "cell_type": "code",
      "source": [
        "#if we print something without quotes\n",
        "s=hello\n",
        "print(s)"
      ],
      "metadata": {
        "colab": {
          "base_uri": "https://localhost:8080/",
          "height": 200
        },
        "id": "7gpk5ZWv-N0z",
        "outputId": "14d2cda8-7fda-4fbf-8b63-2e50d39b3c00"
      },
      "execution_count": null,
      "outputs": [
        {
          "output_type": "error",
          "ename": "NameError",
          "evalue": "ignored",
          "traceback": [
            "\u001b[0;31m---------------------------------------------------------------------------\u001b[0m",
            "\u001b[0;31mNameError\u001b[0m                                 Traceback (most recent call last)",
            "\u001b[0;32m<ipython-input-3-cee290679334>\u001b[0m in \u001b[0;36m<module>\u001b[0;34m\u001b[0m\n\u001b[1;32m      1\u001b[0m \u001b[0;31m#if we print something without quotes\u001b[0m\u001b[0;34m\u001b[0m\u001b[0;34m\u001b[0m\u001b[0;34m\u001b[0m\u001b[0m\n\u001b[0;32m----> 2\u001b[0;31m \u001b[0ms\u001b[0m\u001b[0;34m=\u001b[0m\u001b[0mhello\u001b[0m\u001b[0;34m\u001b[0m\u001b[0;34m\u001b[0m\u001b[0m\n\u001b[0m\u001b[1;32m      3\u001b[0m \u001b[0mprint\u001b[0m\u001b[0;34m(\u001b[0m\u001b[0ms\u001b[0m\u001b[0;34m)\u001b[0m\u001b[0;34m\u001b[0m\u001b[0;34m\u001b[0m\u001b[0m\n",
            "\u001b[0;31mNameError\u001b[0m: name 'hello' is not defined"
          ]
        }
      ]
    },
    {
      "cell_type": "code",
      "source": [
        "#indexing\n",
        "#indexing starts from 0 to end\n",
        "print(f\"indexing from starting to end is string[0:]:::--->>  {string[0:]}\")\n",
        "#or reverse indexing starts from -1 to the starting \n",
        "print(string[:-1])  # don't use[-1:] 3error\n",
        "#to print evrything in a string\n",
        "print(string[:])\n",
        "#grab everything ,but go in step size is 2\n",
        "print(string[::2])\n",
        "#to print reverse \n",
        "print(string[::-1])\n",
        "print(string[::-3])\n",
        "#but this can't be possible\n",
        "print(string[2:4:-1])   # it will not print anything\n",
        "print(string[4:1:-1])\n",
        "\n",
        "\n",
        "\n"
      ],
      "metadata": {
        "colab": {
          "base_uri": "https://localhost:8080/"
        },
        "id": "rimqLz-E98G2",
        "outputId": "4c317ee5-d7de-4c83-e7d4-f4cd3b428c3f"
      },
      "execution_count": null,
      "outputs": [
        {
          "output_type": "stream",
          "name": "stdout",
          "text": [
            "indexing from starting to end is string[0:]:::--->>  joker\n",
            "joke\n",
            "joker\n",
            "jkr\n",
            "rekoj\n",
            "\n",
            "rek\n"
          ]
        }
      ]
    },
    {
      "cell_type": "code",
      "source": [
        "#as it is immutable we cann't replace any index value\n",
        "string='hello'\n",
        "string[0]=y"
      ],
      "metadata": {
        "colab": {
          "base_uri": "https://localhost:8080/",
          "height": 200
        },
        "id": "V2KrWGq8DOl0",
        "outputId": "9eee96f9-2c08-4712-c080-c282ad3ec5a3"
      },
      "execution_count": null,
      "outputs": [
        {
          "output_type": "error",
          "ename": "NameError",
          "evalue": "ignored",
          "traceback": [
            "\u001b[0;31m---------------------------------------------------------------------------\u001b[0m",
            "\u001b[0;31mNameError\u001b[0m                                 Traceback (most recent call last)",
            "\u001b[0;32m<ipython-input-20-8e1bb7797469>\u001b[0m in \u001b[0;36m<module>\u001b[0;34m\u001b[0m\n\u001b[1;32m      1\u001b[0m \u001b[0;31m#as it is immutable we cann't replace any index value\u001b[0m\u001b[0;34m\u001b[0m\u001b[0;34m\u001b[0m\u001b[0;34m\u001b[0m\u001b[0m\n\u001b[1;32m      2\u001b[0m \u001b[0mstring\u001b[0m\u001b[0;34m=\u001b[0m\u001b[0;34m'hello'\u001b[0m\u001b[0;34m\u001b[0m\u001b[0;34m\u001b[0m\u001b[0m\n\u001b[0;32m----> 3\u001b[0;31m \u001b[0mstring\u001b[0m\u001b[0;34m[\u001b[0m\u001b[0;36m0\u001b[0m\u001b[0;34m]\u001b[0m\u001b[0;34m=\u001b[0m\u001b[0my\u001b[0m\u001b[0;34m\u001b[0m\u001b[0;34m\u001b[0m\u001b[0m\n\u001b[0m",
            "\u001b[0;31mNameError\u001b[0m: name 'y' is not defined"
          ]
        }
      ]
    },
    {
      "cell_type": "code",
      "source": [
        "#we can concatenate \n",
        "st=\"tanu\"\n",
        "string+\" \" +st\n",
        "#BUT  we can concatenate of same data type\n",
        "#string +\" \" + 67\n",
        "string +\" \" + str(67)  #typecasting\n",
        "string +\" \" + \"67\"\n",
        "string *2\n",
        "\n"
      ],
      "metadata": {
        "colab": {
          "base_uri": "https://localhost:8080/",
          "height": 235
        },
        "id": "ntkkzr8qDc_D",
        "outputId": "7fb49550-8fd4-4c2c-ad5e-b15365db39e1"
      },
      "execution_count": null,
      "outputs": [
        {
          "output_type": "error",
          "ename": "NameError",
          "evalue": "ignored",
          "traceback": [
            "\u001b[0;31m---------------------------------------------------------------------------\u001b[0m",
            "\u001b[0;31mNameError\u001b[0m                                 Traceback (most recent call last)",
            "\u001b[0;32m<ipython-input-1-5f052383ecc3>\u001b[0m in \u001b[0;36m<module>\u001b[0;34m\u001b[0m\n\u001b[1;32m      1\u001b[0m \u001b[0;31m#we can concatenate\u001b[0m\u001b[0;34m\u001b[0m\u001b[0;34m\u001b[0m\u001b[0;34m\u001b[0m\u001b[0m\n\u001b[1;32m      2\u001b[0m \u001b[0mst\u001b[0m\u001b[0;34m=\u001b[0m\u001b[0;34m\"tanu\"\u001b[0m\u001b[0;34m\u001b[0m\u001b[0;34m\u001b[0m\u001b[0m\n\u001b[0;32m----> 3\u001b[0;31m \u001b[0mstring\u001b[0m\u001b[0;34m+\u001b[0m\u001b[0;34m\" \"\u001b[0m \u001b[0;34m+\u001b[0m\u001b[0mst\u001b[0m\u001b[0;34m\u001b[0m\u001b[0;34m\u001b[0m\u001b[0m\n\u001b[0m\u001b[1;32m      4\u001b[0m \u001b[0;31m#BUT  we can concatenate of same data type\u001b[0m\u001b[0;34m\u001b[0m\u001b[0;34m\u001b[0m\u001b[0;34m\u001b[0m\u001b[0m\n\u001b[1;32m      5\u001b[0m \u001b[0;31m#string +\" \" + 67\u001b[0m\u001b[0;34m\u001b[0m\u001b[0;34m\u001b[0m\u001b[0;34m\u001b[0m\u001b[0m\n",
            "\u001b[0;31mNameError\u001b[0m: name 'string' is not defined"
          ]
        }
      ]
    },
    {
      "cell_type": "markdown",
      "source": [
        "**###questions on string-------**"
      ],
      "metadata": {
        "id": "HvTfz5YPC89l"
      }
    },
    {
      "cell_type": "markdown",
      "source": [
        "Python – Convert Snake case to Pascal case"
      ],
      "metadata": {
        "id": "igcsoon8E_AM"
      }
    },
    {
      "cell_type": "code",
      "source": [
        "#Python – Convert Snake case to Pascal case\n",
        "\n",
        "# initializing string\n",
        "test_str = 'geeksforgeeks_is_best'\n",
        " \n",
        "# printing original string\n",
        "print(\"The original string is : \" + test_str)\n",
        " \n",
        "# Convert Snake case to Pascal case\n",
        "# Using title() + replace()\n",
        "res = test_str.replace(\"_\", \" \").title().replace(\" \", \"\")\n",
        " \n",
        "# printing result\n",
        "print(\"The String after changing case : \" + str(res))"
      ],
      "metadata": {
        "colab": {
          "base_uri": "https://localhost:8080/"
        },
        "id": "Ba2LobbLC_mj",
        "outputId": "6cd05618-cc04-4a9d-952e-ccbb21373360"
      },
      "execution_count": null,
      "outputs": [
        {
          "output_type": "stream",
          "name": "stdout",
          "text": [
            "The original string is : geeksforgeeks_is_best\n",
            "The String after changing case : GeeksforgeeksIsBest\n"
          ]
        }
      ]
    },
    {
      "cell_type": "code",
      "source": [
        "\n",
        "res = test_str.replace(\"_\", \"\").title()\n",
        "\n",
        "print(\"The String after changing case : \" + str(res))"
      ],
      "metadata": {
        "colab": {
          "base_uri": "https://localhost:8080/"
        },
        "id": "oUFTravcDM8D",
        "outputId": "24006751-e318-402b-c98e-98e6f57fc0e7"
      },
      "execution_count": null,
      "outputs": [
        {
          "output_type": "stream",
          "name": "stdout",
          "text": [
            "The String after changing case : Geeksforgeeksisbest\n"
          ]
        }
      ]
    },
    {
      "cell_type": "code",
      "source": [
        "test_str = 'geeksforgeeks_is_best'\n",
        "x=test_str.split(\"_\")\n",
        "print(x)\n",
        "res=[i.title() for i in x ]\n",
        "print(res)\n",
        "res=\"\".join(res)\n",
        "print(res)"
      ],
      "metadata": {
        "colab": {
          "base_uri": "https://localhost:8080/"
        },
        "id": "kamWpAI9EG8Y",
        "outputId": "24e75248-5d12-4e9a-ad40-b4936edf3d58"
      },
      "execution_count": null,
      "outputs": [
        {
          "output_type": "stream",
          "name": "stdout",
          "text": [
            "['geeksforgeeks', 'is', 'best']\n",
            "['Geeksforgeeks', 'Is', 'Best']\n",
            "GeeksforgeeksIsBest\n"
          ]
        }
      ]
    },
    {
      "cell_type": "markdown",
      "source": [
        "Find length of a string in python (6 ways)"
      ],
      "metadata": {
        "id": "ivad9b8WE8eO"
      }
    },
    {
      "cell_type": "code",
      "source": [
        "str = \"apple\"\n",
        "print(len(str))"
      ],
      "metadata": {
        "colab": {
          "base_uri": "https://localhost:8080/"
        },
        "id": "p4ap5HyjE9a9",
        "outputId": "2b048db6-0ba4-455d-f248-ac56c3e24069"
      },
      "execution_count": null,
      "outputs": [
        {
          "output_type": "stream",
          "name": "stdout",
          "text": [
            "5\n"
          ]
        }
      ]
    },
    {
      "cell_type": "code",
      "source": [
        "c=0\n",
        "for i in str:\n",
        "    c=c+1\n",
        "print(c)"
      ],
      "metadata": {
        "colab": {
          "base_uri": "https://localhost:8080/"
        },
        "id": "KyEE64RdFK8d",
        "outputId": "d96a022e-8a4e-4d80-9a03-24d028b5ac7f"
      },
      "execution_count": null,
      "outputs": [
        {
          "output_type": "stream",
          "name": "stdout",
          "text": [
            "5\n"
          ]
        }
      ]
    },
    {
      "cell_type": "code",
      "source": [
        "# Returns length of string\n",
        "def findLen(str):\n",
        "    counter = 0\n",
        "    while str[counter:]:\n",
        "        counter += 1\n",
        "    return counter\n",
        " \n",
        "str = \"geeks\"\n",
        "print(findLen(str))"
      ],
      "metadata": {
        "id": "YmHX18VVWSAu"
      },
      "execution_count": null,
      "outputs": []
    },
    {
      "cell_type": "code",
      "source": [
        "counter = 0\n",
        "while str[counter:]:\n",
        "  counter += 1\n",
        "print(counter)  "
      ],
      "metadata": {
        "colab": {
          "base_uri": "https://localhost:8080/"
        },
        "id": "mbzT1HAzWZUd",
        "outputId": "580dbe0e-d3ed-4a0d-aac9-863d48974928"
      },
      "execution_count": null,
      "outputs": [
        {
          "output_type": "stream",
          "name": "stdout",
          "text": [
            "5\n"
          ]
        }
      ]
    },
    {
      "cell_type": "code",
      "source": [
        "sum( 1 for i in str)"
      ],
      "metadata": {
        "colab": {
          "base_uri": "https://localhost:8080/"
        },
        "id": "LSBnLEm0XPxj",
        "outputId": "e47c83ba-3066-40b8-f892-2bdb8dcbba80"
      },
      "execution_count": null,
      "outputs": [
        {
          "output_type": "execute_result",
          "data": {
            "text/plain": [
              "5"
            ]
          },
          "metadata": {},
          "execution_count": 4
        }
      ]
    },
    {
      "cell_type": "markdown",
      "source": [
        "Python program to print even length words in a string"
      ],
      "metadata": {
        "id": "Qa1Ngq9lbSkl"
      }
    },
    {
      "cell_type": "code",
      "source": [
        "s = \"This is a python language\"\n",
        "res=s.split(\" \")\n",
        "for i in res:\n",
        "  if len(i)%2==0:\n",
        "    print(i)\n",
        "  "
      ],
      "metadata": {
        "id": "MMzwd3-aXS9q",
        "colab": {
          "base_uri": "https://localhost:8080/"
        },
        "outputId": "0c669306-847d-4a7d-c4c4-10db8e1e44ab"
      },
      "execution_count": null,
      "outputs": [
        {
          "output_type": "stream",
          "name": "stdout",
          "text": [
            "This\n",
            "is\n",
            "python\n",
            "language\n"
          ]
        }
      ]
    },
    {
      "cell_type": "code",
      "source": [
        "print([i for i in res if len(i)%2==0])"
      ],
      "metadata": {
        "colab": {
          "base_uri": "https://localhost:8080/"
        },
        "id": "Y-Yc5qButIvT",
        "outputId": "ef3c65ae-22a7-45a7-b4cf-958392a31102"
      },
      "execution_count": null,
      "outputs": [
        {
          "output_type": "stream",
          "name": "stdout",
          "text": [
            "['This', 'is', 'python', 'language']\n"
          ]
        }
      ]
    },
    {
      "cell_type": "code",
      "source": [
        "list(filter(lambda x: (len(x)%2==0),res))"
      ],
      "metadata": {
        "colab": {
          "base_uri": "https://localhost:8080/"
        },
        "id": "3YmPEylgtic5",
        "outputId": "24f25b9d-f718-4ff4-9f07-feab42221211"
      },
      "execution_count": null,
      "outputs": [
        {
          "output_type": "execute_result",
          "data": {
            "text/plain": [
              "['This', 'is', 'python', 'language']"
            ]
          },
          "metadata": {},
          "execution_count": 15
        }
      ]
    },
    {
      "cell_type": "code",
      "source": [
        "print([x for i,x in enumerate(res) if len(x)%2==0])"
      ],
      "metadata": {
        "colab": {
          "base_uri": "https://localhost:8080/"
        },
        "id": "T9YIMu5Lts74",
        "outputId": "56cf5941-936d-411e-a7b1-2e80a0d57ba6"
      },
      "execution_count": null,
      "outputs": [
        {
          "output_type": "stream",
          "name": "stdout",
          "text": [
            "['This', 'is', 'python', 'language']\n"
          ]
        }
      ]
    },
    {
      "cell_type": "markdown",
      "source": [
        "Program to accept the strings which contains all vowels"
      ],
      "metadata": {
        "id": "T-oUj-hHt2Yo"
      }
    },
    {
      "cell_type": "code",
      "source": [
        "s = \"This is a python language\"\n",
        "s1=set(\"aeiou\")\n",
        "#The set() function will convert the empty dictionary into an empty set\n",
        "s2=set({})\n",
        "for i in s:\n",
        "  if i in set(\"aeiou\"):\n",
        "    s2.add(i)\n",
        "  else:\n",
        "    pass\n",
        "if s1==s2:\n",
        "  print(\"accepted\")      \n",
        "else:\n",
        "  print(\"not accepted\")  "
      ],
      "metadata": {
        "colab": {
          "base_uri": "https://localhost:8080/"
        },
        "id": "EnL5VqqHt5kp",
        "outputId": "cb0ed3a9-cdab-4d72-c629-1aeb7cbfecf2"
      },
      "execution_count": null,
      "outputs": [
        {
          "output_type": "stream",
          "name": "stdout",
          "text": [
            "accepted\n"
          ]
        }
      ]
    },
    {
      "cell_type": "markdown",
      "source": [
        "Count the Number of matching characters in a pair of string"
      ],
      "metadata": {
        "id": "pCCodsDHyvIl"
      }
    },
    {
      "cell_type": "code",
      "source": [
        "str1 = 'abcdef'\n",
        "str2 = 'defghia'\n",
        "ss=set({})\n",
        "for i in str1:\n",
        "  if i in str2:\n",
        "    ss.add(i)\n",
        "print(f\"mathing characters are---{ss}\")    "
      ],
      "metadata": {
        "colab": {
          "base_uri": "https://localhost:8080/"
        },
        "id": "hJ5f3ibOyvm2",
        "outputId": "76a5601d-02d4-4af7-9871-08de8b896bc3"
      },
      "execution_count": null,
      "outputs": [
        {
          "output_type": "stream",
          "name": "stdout",
          "text": [
            "mathing characters are---{'a', 'f', 'd', 'e'}\n"
          ]
        }
      ]
    },
    {
      "cell_type": "markdown",
      "source": [
        "Remove all duplicates from a given string "
      ],
      "metadata": {
        "id": "CRz3wJLV0SUE"
      }
    },
    {
      "cell_type": "code",
      "source": [
        "test_str = 'geeksforgeeks_is_best'\n",
        "re=set(test_str)\n",
        "print(''.join(re))\n"
      ],
      "metadata": {
        "colab": {
          "base_uri": "https://localhost:8080/"
        },
        "id": "aPQI0JeP0WAA",
        "outputId": "c1c5250e-28c8-415b-dd34-5f494b5f4cc8"
      },
      "execution_count": null,
      "outputs": [
        {
          "output_type": "stream",
          "name": "stdout",
          "text": [
            "bgf_setorik\n"
          ]
        }
      ]
    },
    {
      "cell_type": "markdown",
      "source": [
        "Least Frequent Character in String"
      ],
      "metadata": {
        "id": "_wDma-V809ER"
      }
    },
    {
      "cell_type": "code",
      "source": [
        "sstr = 'geeksforgeeks_is_best'\n",
        "c={}\n",
        "\n",
        "s=list(sstr)\n",
        "print(s)\n",
        "for i in s:\n",
        "  if i in c:\n",
        "    c[i]+=1\n",
        "  else:\n",
        "     c[i]=1\n",
        "print(\"\\n\")     \n",
        "print(c)   \n",
        "print(\"\\n\")\n",
        "#print(f\"least frequent character----{min(c, key = c.get)}\")  \n",
        "\n",
        "print(f\"least frequent character----{min(c, key = (lambda k: c[k]))}\") "
      ],
      "metadata": {
        "colab": {
          "base_uri": "https://localhost:8080/"
        },
        "id": "HtoxuJ7-0-CR",
        "outputId": "c710b741-55d9-42d5-c93d-ade69328cdd2"
      },
      "execution_count": null,
      "outputs": [
        {
          "output_type": "stream",
          "name": "stdout",
          "text": [
            "['g', 'e', 'e', 'k', 's', 'f', 'o', 'r', 'g', 'e', 'e', 'k', 's', '_', 'i', 's', '_', 'b', 'e', 's', 't']\n",
            "\n",
            "\n",
            "{'g': 2, 'e': 5, 'k': 2, 's': 4, 'f': 1, 'o': 1, 'r': 1, '_': 2, 'i': 1, 'b': 1, 't': 1}\n",
            "\n",
            "\n",
            "least frequent character----f\n"
          ]
        }
      ]
    },
    {
      "cell_type": "markdown",
      "source": [
        "Remove all duplicates from a given string in Python"
      ],
      "metadata": {
        "id": "v_VoVdElWX2w"
      }
    },
    {
      "cell_type": "code",
      "source": [
        "foo=\"geekforgeek\"\n",
        "without_order=\"\".join(set(foo))\n",
        "print(without_order)\n",
        "with_order = \"\".join(dict.fromkeys(foo))\n",
        "print(with_order)"
      ],
      "metadata": {
        "colab": {
          "base_uri": "https://localhost:8080/"
        },
        "id": "h7NSCLNcWYeT",
        "outputId": "07b429d9-9c55-43c6-85fe-fe6aaa742ee0"
      },
      "execution_count": null,
      "outputs": [
        {
          "output_type": "stream",
          "name": "stdout",
          "text": [
            "fgerok\n",
            "gekfor\n"
          ]
        }
      ]
    },
    {
      "cell_type": "markdown",
      "source": [
        "Program to check if a string contains any special character"
      ],
      "metadata": {
        "id": "q8eYrnjuXNFN"
      }
    },
    {
      "cell_type": "code",
      "source": [
        "# Python program to check special character\n",
        "\n",
        "# import required package\n",
        "import re\n",
        "\n",
        "# take inputs\n",
        "string = input('Enter any string: ')\n",
        " \n",
        "# special characters\n",
        "special_char = re.compile('[@_!#$%^&*()<>?/\\|}{~:]')\n",
        "\n",
        "# check string contains special characters or not\n",
        "if(special_char.search(string) == None):\n",
        "    print('String does not contain any special characters.')\n",
        "else:\n",
        "    print('The string contains special characters.')"
      ],
      "metadata": {
        "colab": {
          "base_uri": "https://localhost:8080/"
        },
        "id": "pPsfJiSnEI8l",
        "outputId": "fbcf99f1-a04d-4165-dad1-d13089d8de25"
      },
      "execution_count": null,
      "outputs": [
        {
          "output_type": "stream",
          "name": "stdout",
          "text": [
            "Enter any string: tahujh$dtsgxy^k\n",
            "The string contains special characters.\n"
          ]
        }
      ]
    },
    {
      "cell_type": "code",
      "source": [
        "import re\n",
        "\n",
        "def check_string(my_string):\n",
        "\n",
        "   regex = re.compile('[@_!#$%^&*()<>?/\\|}{~:]')\n",
        "   if(regex.search(my_string) == None):\n",
        "      print(\"String contains special characters.\")\n",
        "   else:\n",
        "      print(\"String does not contain any special character.\")\n",
        "\n",
        "my_string = \"PythonInterpreter\"\n",
        "print(\"The string is :\")\n",
        "print(my_string)\n",
        "check_string(my_string)"
      ],
      "metadata": {
        "colab": {
          "base_uri": "https://localhost:8080/"
        },
        "id": "ZCYN3MoYCpR5",
        "outputId": "ab871d0a-b066-488e-b651-c44068f16cc3"
      },
      "execution_count": null,
      "outputs": [
        {
          "output_type": "stream",
          "name": "stdout",
          "text": [
            "The string is :\n",
            "PythonInterpreter\n",
            "String contains special characters.\n"
          ]
        }
      ]
    },
    {
      "cell_type": "markdown",
      "source": [
        "find words which are greater than given length"
      ],
      "metadata": {
        "id": "gx6TBkgBFH6G"
      }
    },
    {
      "cell_type": "code",
      "source": [
        "str = \"hello geeks for geeks is computer science portal\" \n",
        "length=int(input())\n",
        "a=[i for i in str.split() if len(i)>length]\n",
        "a\n",
        "\n"
      ],
      "metadata": {
        "colab": {
          "base_uri": "https://localhost:8080/"
        },
        "id": "_2oIyGAJFLmt",
        "outputId": "b71bf34a-969d-4d6d-e70a-5e34b455c5f2"
      },
      "execution_count": null,
      "outputs": [
        {
          "name": "stdout",
          "output_type": "stream",
          "text": [
            "5\n"
          ]
        },
        {
          "output_type": "execute_result",
          "data": {
            "text/plain": [
              "['computer', 'science', 'portal']"
            ]
          },
          "metadata": {},
          "execution_count": 6
        }
      ]
    },
    {
      "cell_type": "markdown",
      "source": [
        "Python program for removing i-th character from a string"
      ],
      "metadata": {
        "id": "WxfgkylQGT1D"
      }
    },
    {
      "cell_type": "code",
      "source": [
        "s=\"tanu\"\n",
        "n=int(input())\n",
        "for i in range(len(s)+1):\n",
        "  if i==n:\n",
        "    s=s.replace(s[i], \"\", 1) \n",
        "s    "
      ],
      "metadata": {
        "colab": {
          "base_uri": "https://localhost:8080/",
          "height": 53
        },
        "id": "nr8-WJ-aGUm1",
        "outputId": "b65e790c-7f52-448d-9ca0-365f5f387d7a"
      },
      "execution_count": null,
      "outputs": [
        {
          "name": "stdout",
          "output_type": "stream",
          "text": [
            "2\n"
          ]
        },
        {
          "output_type": "execute_result",
          "data": {
            "text/plain": [
              "'tau'"
            ],
            "application/vnd.google.colaboratory.intrinsic+json": {
              "type": "string"
            }
          },
          "metadata": {},
          "execution_count": 14
        }
      ]
    },
    {
      "cell_type": "code",
      "source": [
        "s='Tanuu Rajput'\n",
        "i=int(input())\n",
        "s=s[0:i]+s[i+1:]\n",
        "s"
      ],
      "metadata": {
        "colab": {
          "base_uri": "https://localhost:8080/",
          "height": 53
        },
        "id": "rii4ZAJ0IxHs",
        "outputId": "e5972cc8-0c42-46a2-eec2-3f64f9728883"
      },
      "execution_count": null,
      "outputs": [
        {
          "name": "stdout",
          "output_type": "stream",
          "text": [
            "3\n"
          ]
        },
        {
          "output_type": "execute_result",
          "data": {
            "text/plain": [
              "'Tanu Rajput'"
            ],
            "application/vnd.google.colaboratory.intrinsic+json": {
              "type": "string"
            }
          },
          "metadata": {},
          "execution_count": 15
        }
      ]
    },
    {
      "cell_type": "code",
      "source": [
        "range(len(s))"
      ],
      "metadata": {
        "colab": {
          "base_uri": "https://localhost:8080/"
        },
        "id": "Y2nzjtzeH9OI",
        "outputId": "5110a533-a63b-465d-ba82-da6115802231"
      },
      "execution_count": null,
      "outputs": [
        {
          "output_type": "execute_result",
          "data": {
            "text/plain": [
              "range(0, 3)"
            ]
          },
          "metadata": {},
          "execution_count": 12
        }
      ]
    },
    {
      "cell_type": "markdown",
      "source": [
        "Check if a given string is binary string or not"
      ],
      "metadata": {
        "id": "fS43l9BqN-U8"
      }
    },
    {
      "cell_type": "code",
      "source": [
        "s=\"10110\"\n",
        "p=set(s)\n",
        "b={'0','1'}\n",
        "if p==b or p=={'0'} or p=={'1'}:\n",
        "  print('string is binary')\n",
        "else:\n",
        "  print('string is not binary')  "
      ],
      "metadata": {
        "colab": {
          "base_uri": "https://localhost:8080/"
        },
        "id": "03sVrQpXN9Yu",
        "outputId": "6e3404c0-d271-446c-fc69-2aba788f97a2"
      },
      "execution_count": null,
      "outputs": [
        {
          "output_type": "stream",
          "name": "stdout",
          "text": [
            "string is binary\n"
          ]
        }
      ]
    },
    {
      "cell_type": "markdown",
      "source": [
        "Python program to find uncommon words from two Strings"
      ],
      "metadata": {
        "id": "1fDF6nXMOrPP"
      }
    },
    {
      "cell_type": "code",
      "source": [
        "A = \"Geeks for Geeks\" \n",
        "B = \"Learning from Geeks for Geeks\"\n",
        "uncommon=[i for i in A.split() if i not in B.split()]\n",
        "print(uncommon)\n",
        "uncom=[i for i in B.split() if i not in A.split()]\n",
        "print(uncom)"
      ],
      "metadata": {
        "colab": {
          "base_uri": "https://localhost:8080/"
        },
        "id": "ZlSgcmA0Orzk",
        "outputId": "f5994406-ed7f-4638-aed3-04417539012f"
      },
      "execution_count": null,
      "outputs": [
        {
          "output_type": "stream",
          "name": "stdout",
          "text": [
            "[]\n",
            "['Learning', 'from']\n"
          ]
        }
      ]
    },
    {
      "cell_type": "markdown",
      "source": [
        "Python program to split and join a string"
      ],
      "metadata": {
        "id": "TiJgOzRnJOMM"
      }
    },
    {
      "cell_type": "code",
      "source": [
        "sr=\"hello I am Tanu\"\n",
        "for i in sr.split():\n",
        "  print(\" \".join(i))\n",
        "  "
      ],
      "metadata": {
        "colab": {
          "base_uri": "https://localhost:8080/"
        },
        "id": "IFtOU94CJNxN",
        "outputId": "f45e7ed9-3e52-4127-8752-b220ac72ea6a"
      },
      "execution_count": null,
      "outputs": [
        {
          "output_type": "stream",
          "name": "stdout",
          "text": [
            "h e l l o\n",
            "I\n",
            "a m\n",
            "T a n u\n"
          ]
        }
      ]
    },
    {
      "cell_type": "markdown",
      "source": [
        "Replace duplicate Occurrence in String"
      ],
      "metadata": {
        "id": "a5H5iP3GP5oH"
      }
    },
    {
      "cell_type": "code",
      "source": [
        "test_str = 'Gfg is best . Gfg also has Classes now.Classes help understand better . '\n",
        " \n",
        "# printing original string\n",
        "print(\"The original string is : \" + str(test_str))\n",
        " \n",
        "# initializing replace mapping\n",
        "repl_dict = {'Gfg' : 'It', 'Classes' : 'They' }\n",
        " \n",
        "# Replace duplicate Occurrence in String\n",
        "# Using split() + enumerate() + loop\n",
        "test_list = test_str.split(' ')\n",
        "res = set()\n",
        "for idx, ele in enumerate(test_list):\n",
        "    if ele in repl_dict:\n",
        "        if ele in res:\n",
        "            test_list[idx] = repl_dict[ele]\n",
        "        else:\n",
        "            res.add(ele)\n",
        "res = ' '.join(test_list)\n",
        " \n",
        "# printing result\n",
        "print(\"The string after replacing : \" + str(res))"
      ],
      "metadata": {
        "colab": {
          "base_uri": "https://localhost:8080/"
        },
        "id": "2KJV-8wPP9l8",
        "outputId": "87c329c3-7162-4cf5-909f-6933b5246ddc"
      },
      "execution_count": null,
      "outputs": [
        {
          "output_type": "stream",
          "name": "stdout",
          "text": [
            "The original string is : Gfg is best . Gfg also has Classes now.Classes help understand better . \n",
            "The string after replacing : Gfg is best . It also has Classes now.Classes help understand better . \n"
          ]
        }
      ]
    },
    {
      "cell_type": "code",
      "source": [
        "ress=set()\n",
        "for idx, ele in enumerate(test_list):\n",
        "    if ele in repl_dict:\n",
        "        if ele in res:\n",
        "            test_list[idx] = repl_dict[ele]\n",
        "        else:\n",
        "           ress.add(ele)   \n",
        "             "
      ],
      "metadata": {
        "id": "ZGmnTGgiR6U9"
      },
      "execution_count": null,
      "outputs": []
    },
    {
      "cell_type": "code",
      "source": [
        "repl_dict['Gfg']"
      ],
      "metadata": {
        "colab": {
          "base_uri": "https://localhost:8080/",
          "height": 36
        },
        "id": "LKacZYQKUXHu",
        "outputId": "b45c6fc1-0b10-4629-8314-b52629a00d2a"
      },
      "execution_count": null,
      "outputs": [
        {
          "output_type": "execute_result",
          "data": {
            "text/plain": [
              "'It'"
            ],
            "application/vnd.google.colaboratory.intrinsic+json": {
              "type": "string"
            }
          },
          "metadata": {},
          "execution_count": 34
        }
      ]
    },
    {
      "cell_type": "code",
      "source": [
        "test_list[0]"
      ],
      "metadata": {
        "colab": {
          "base_uri": "https://localhost:8080/",
          "height": 36
        },
        "id": "hT4zOoKnURxs",
        "outputId": "33e1e59f-bec6-4624-d070-947c1a14b3c0"
      },
      "execution_count": null,
      "outputs": [
        {
          "output_type": "execute_result",
          "data": {
            "text/plain": [
              "'It'"
            ],
            "application/vnd.google.colaboratory.intrinsic+json": {
              "type": "string"
            }
          },
          "metadata": {},
          "execution_count": 30
        }
      ]
    },
    {
      "cell_type": "code",
      "source": [
        "repl_dict"
      ],
      "metadata": {
        "colab": {
          "base_uri": "https://localhost:8080/"
        },
        "id": "7tnhvQlgTWSO",
        "outputId": "6a5c5102-392f-4712-e493-0698184c0d28"
      },
      "execution_count": null,
      "outputs": [
        {
          "output_type": "execute_result",
          "data": {
            "text/plain": [
              "{'Gfg': 'It', 'Classes': 'They'}"
            ]
          },
          "metadata": {},
          "execution_count": 25
        }
      ]
    },
    {
      "cell_type": "code",
      "source": [
        "res"
      ],
      "metadata": {
        "colab": {
          "base_uri": "https://localhost:8080/",
          "height": 36
        },
        "id": "FqktafrMTh_z",
        "outputId": "eca4d154-9a80-4db1-a5b9-be243e58b8db"
      },
      "execution_count": null,
      "outputs": [
        {
          "output_type": "execute_result",
          "data": {
            "text/plain": [
              "'Gfg is best . It also has Classes now.Classes help understand better . '"
            ],
            "application/vnd.google.colaboratory.intrinsic+json": {
              "type": "string"
            }
          },
          "metadata": {},
          "execution_count": 26
        }
      ]
    },
    {
      "cell_type": "code",
      "source": [
        "list(enumerate(test_list))"
      ],
      "metadata": {
        "colab": {
          "base_uri": "https://localhost:8080/"
        },
        "id": "4iTPT-ztSkxd",
        "outputId": "132fd681-a36a-4f0f-f909-e6baab022e18"
      },
      "execution_count": null,
      "outputs": [
        {
          "output_type": "execute_result",
          "data": {
            "text/plain": [
              "[(0, 'It'),\n",
              " (1, 'is'),\n",
              " (2, 'best'),\n",
              " (3, '.'),\n",
              " (4, 'It'),\n",
              " (5, 'also'),\n",
              " (6, 'has'),\n",
              " (7, 'They'),\n",
              " (8, 'now.Classes'),\n",
              " (9, 'help'),\n",
              " (10, 'understand'),\n",
              " (11, 'better'),\n",
              " (12, '.'),\n",
              " (13, '')]"
            ]
          },
          "metadata": {},
          "execution_count": 24
        }
      ]
    },
    {
      "cell_type": "markdown",
      "source": [
        " Replace multiple words with K"
      ],
      "metadata": {
        "id": "A3cnSp6qVbQE"
      }
    },
    {
      "cell_type": "code",
      "source": [
        "sstr = 'Geeksforgeeks is best for geeks and CS'\n",
        "word=['best','CS']\n",
        "rep='good'\n",
        "res = ' '.join([rep if i in word else i for i in sstr.split()])\n",
        "res "
      ],
      "metadata": {
        "id": "VOAuAcUCVoli",
        "colab": {
          "base_uri": "https://localhost:8080/",
          "height": 36
        },
        "outputId": "997de230-b61f-4044-803b-8a76fd31eba4"
      },
      "execution_count": 18,
      "outputs": [
        {
          "output_type": "execute_result",
          "data": {
            "text/plain": [
              "'Geeksforgeeks is good for geeks and good'"
            ],
            "application/vnd.google.colaboratory.intrinsic+json": {
              "type": "string"
            }
          },
          "metadata": {},
          "execution_count": 18
        }
      ]
    },
    {
      "cell_type": "markdown",
      "source": [],
      "metadata": {
        "id": "X8hWTOFYUDfV"
      }
    },
    {
      "cell_type": "markdown",
      "source": [
        "###***String Function and Method***"
      ],
      "metadata": {
        "id": "oO5c0-xoJtyX"
      }
    },
    {
      "cell_type": "markdown",
      "source": [
        "**i)-->Len()**----\n",
        "\n",
        "             It returns the length of the string\n",
        "\n",
        "\n",
        "**ii)-->lower()**----\n",
        "\n",
        "             It convert the string to lowercase\n",
        "\n",
        "\n",
        "**iii)-->upper()**----   \n",
        "\n",
        "             It convert the string to uppercase\n",
        "\n",
        "\n",
        "**iv)-->count()**----      \n",
        "\n",
        "             It return the count of a substring in a string \n",
        "\n",
        "**v)-->Find()**----  \n",
        "\n",
        "             It returns the index of the first occurance in a given string.\n",
        "             similar to the count function,find() also take a string.\n",
        "\n",
        "**vi)-->Replace()**----      \n",
        "\n",
        "            It takes two argument---\n",
        "                   the string to replace and the string to replace with.\n",
        "            and return a modified string after operation.\n",
        "\n",
        "\n",
        "\n",
        "NOTE-----> Applying any method on a string doesn't change the original string.but we can store the modified string into a new variable.                   "
      ],
      "metadata": {
        "id": "-0J-Qp9OKMlW"
      }
    },
    {
      "cell_type": "code",
      "source": [
        "string1=\"hello I am a data Science Aspirant\""
      ],
      "metadata": {
        "id": "cXdZg8ruL7rQ"
      },
      "execution_count": null,
      "outputs": []
    },
    {
      "cell_type": "code",
      "source": [
        "len(string1)"
      ],
      "metadata": {
        "id": "uEczGcPoMGM_"
      },
      "execution_count": null,
      "outputs": []
    },
    {
      "cell_type": "code",
      "source": [
        "lower(string1)"
      ],
      "metadata": {
        "id": "obVH5usWMU5u"
      },
      "execution_count": null,
      "outputs": []
    },
    {
      "cell_type": "code",
      "source": [
        "upper(string1)"
      ],
      "metadata": {
        "id": "Zx7bXLWCMWx-"
      },
      "execution_count": null,
      "outputs": []
    },
    {
      "cell_type": "code",
      "source": [
        "count('hello')"
      ],
      "metadata": {
        "id": "esnxIBoEMYX2"
      },
      "execution_count": null,
      "outputs": []
    },
    {
      "cell_type": "code",
      "source": [
        "find('hello')"
      ],
      "metadata": {
        "id": "-8MGUgLNMb12"
      },
      "execution_count": null,
      "outputs": []
    },
    {
      "cell_type": "code",
      "source": [
        "replace(\"hello\",\"hiii\")"
      ],
      "metadata": {
        "id": "QdHCDPJSMzO8"
      },
      "execution_count": null,
      "outputs": []
    },
    {
      "cell_type": "markdown",
      "source": [
        "programs on string-----\n",
        "           https://www.geeksforgeeks.org/python-programming-examples/"
      ],
      "metadata": {
        "id": "01pYfxUsXGjV"
      }
    },
    {
      "cell_type": "markdown",
      "source": [
        "assignment on string----"
      ],
      "metadata": {
        "id": "pjm6SQ0rXlZl"
      }
    },
    {
      "cell_type": "code",
      "source": [],
      "metadata": {
        "id": "2uds6sh4XMq3"
      },
      "execution_count": null,
      "outputs": []
    },
    {
      "cell_type": "markdown",
      "source": [
        "##**3---> LIST**"
      ],
      "metadata": {
        "id": "Woiuv_ePr3qI"
      }
    },
    {
      "cell_type": "markdown",
      "source": [
        "List are the quintessential Python container. They provide a way to store an arbitrary number of Python objects such as strings, floating-point numbers, other lists, or any other object and to access them using a numerical index. In Python lists are denoted by brackets and their elements are separated by commas. \n",
        "\n",
        "       ordered,can be changed ,Duplicates are allowed in List\n",
        "\n",
        "\n",
        "       1--> List can be thought of the most general version of a sequence in python.\n",
        "       2--> unlike strings,they are mutable.\n",
        "       3-->List are constructed within brackets [] and commas seperating every element in the list.\n",
        "       4-->List are heterogeneous."
      ],
      "metadata": {
        "id": "1l5qWr4OtIR9"
      }
    },
    {
      "cell_type": "code",
      "source": [
        "#assign a list to an variable named my_list\n",
        "my_list=[1,2,3,4]\n",
        "print(my_list)"
      ],
      "metadata": {
        "colab": {
          "base_uri": "https://localhost:8080/"
        },
        "id": "x2z7URxctIEN",
        "outputId": "4ec7cc16-aa39-4ed2-a603-60e503501902"
      },
      "execution_count": null,
      "outputs": [
        {
          "output_type": "stream",
          "name": "stdout",
          "text": [
            "[1, 2, 3, 4]\n"
          ]
        }
      ]
    },
    {
      "cell_type": "code",
      "source": [
        "my_list[1]='List'"
      ],
      "metadata": {
        "id": "Tq3-p60WsNPv"
      },
      "execution_count": null,
      "outputs": []
    },
    {
      "cell_type": "code",
      "source": [
        "print(my_list)"
      ],
      "metadata": {
        "colab": {
          "base_uri": "https://localhost:8080/"
        },
        "id": "kl8lkQJrzmnz",
        "outputId": "583628b6-56fa-4e60-bbf5-a770ea10a67d"
      },
      "execution_count": null,
      "outputs": [
        {
          "output_type": "stream",
          "name": "stdout",
          "text": [
            "[1, 'List', 3, 4]\n"
          ]
        }
      ]
    },
    {
      "cell_type": "code",
      "source": [
        "list1='list'"
      ],
      "metadata": {
        "id": "L-sZ0y8NATIK"
      },
      "execution_count": null,
      "outputs": []
    },
    {
      "cell_type": "code",
      "source": [
        "list1.replace('i','a')"
      ],
      "metadata": {
        "colab": {
          "base_uri": "https://localhost:8080/",
          "height": 35
        },
        "id": "ULL5-W6x0GdQ",
        "outputId": "99b44f7b-54ea-4c12-e61a-0e13b5858c5c"
      },
      "execution_count": null,
      "outputs": [
        {
          "output_type": "execute_result",
          "data": {
            "text/plain": [
              "'last'"
            ],
            "application/vnd.google.colaboratory.intrinsic+json": {
              "type": "string"
            }
          },
          "metadata": {},
          "execution_count": 9
        }
      ]
    },
    {
      "cell_type": "code",
      "source": [
        "list1[1]='a'"
      ],
      "metadata": {
        "colab": {
          "base_uri": "https://localhost:8080/",
          "height": 165
        },
        "id": "k23b_oJcAoQZ",
        "outputId": "e48c4189-e662-44db-e75c-74e8f301e748"
      },
      "execution_count": null,
      "outputs": [
        {
          "output_type": "error",
          "ename": "TypeError",
          "evalue": "ignored",
          "traceback": [
            "\u001b[0;31m---------------------------------------------------------------------------\u001b[0m",
            "\u001b[0;31mTypeError\u001b[0m                                 Traceback (most recent call last)",
            "\u001b[0;32m<ipython-input-10-9f8a1d3bda82>\u001b[0m in \u001b[0;36m<module>\u001b[0;34m\u001b[0m\n\u001b[0;32m----> 1\u001b[0;31m \u001b[0mlist1\u001b[0m\u001b[0;34m[\u001b[0m\u001b[0;36m1\u001b[0m\u001b[0;34m]\u001b[0m\u001b[0;34m=\u001b[0m\u001b[0;34m'a'\u001b[0m\u001b[0;34m\u001b[0m\u001b[0;34m\u001b[0m\u001b[0m\n\u001b[0m",
            "\u001b[0;31mTypeError\u001b[0m: 'str' object does not support item assignment"
          ]
        }
      ]
    },
    {
      "cell_type": "markdown",
      "source": [
        "as string is immutable,we can't change indexing in it but we can replcae characters.but In list we can change the indexing as well as elements inside a list."
      ],
      "metadata": {
        "id": "W4GBt6RxBAzv"
      }
    },
    {
      "cell_type": "code",
      "source": [
        "#list can hold different data types\n",
        "list2=[56,'hello',4.5,True]\n",
        "print(list2)"
      ],
      "metadata": {
        "colab": {
          "base_uri": "https://localhost:8080/"
        },
        "id": "T40-MYSnBDlH",
        "outputId": "42baed62-3e59-426a-9362-631030910331"
      },
      "execution_count": null,
      "outputs": [
        {
          "output_type": "stream",
          "name": "stdout",
          "text": [
            "[56, 'hello', 4.5, True]\n"
          ]
        }
      ]
    },
    {
      "cell_type": "code",
      "source": [
        "#indexing is also allowed in list just like string\n",
        "list2[3]"
      ],
      "metadata": {
        "colab": {
          "base_uri": "https://localhost:8080/"
        },
        "id": "LQ9xV1r0BP0H",
        "outputId": "6d5f57ab-dcd5-47c4-ee5e-d9d0e6be809f"
      },
      "execution_count": null,
      "outputs": [
        {
          "output_type": "execute_result",
          "data": {
            "text/plain": [
              "True"
            ]
          },
          "metadata": {},
          "execution_count": 12
        }
      ]
    },
    {
      "cell_type": "code",
      "source": [
        "#list slicing \n",
        "list2[0:4]\n",
        "list2[::-1]"
      ],
      "metadata": {
        "colab": {
          "base_uri": "https://localhost:8080/"
        },
        "id": "h65sx9IeBdQt",
        "outputId": "52aaba5f-f19d-473b-f91a-788e2dc84a46"
      },
      "execution_count": null,
      "outputs": [
        {
          "output_type": "execute_result",
          "data": {
            "text/plain": [
              "[True, 4.5, 'hello', 56]"
            ]
          },
          "metadata": {},
          "execution_count": 14
        }
      ]
    },
    {
      "cell_type": "code",
      "source": [
        "list2[:]   #grab everything"
      ],
      "metadata": {
        "colab": {
          "base_uri": "https://localhost:8080/"
        },
        "id": "IN0g1auNBqJG",
        "outputId": "9c2f7dd6-b231-49d1-8214-e14831fda913"
      },
      "execution_count": null,
      "outputs": [
        {
          "output_type": "execute_result",
          "data": {
            "text/plain": [
              "[56, 'hello', 4.5, True]"
            ]
          },
          "metadata": {},
          "execution_count": 15
        }
      ]
    },
    {
      "cell_type": "code",
      "source": [
        "#we can perform m,any operation on list...like concatenation,multiplication\n",
        "print(list1+my_list)"
      ],
      "metadata": {
        "colab": {
          "base_uri": "https://localhost:8080/",
          "height": 182
        },
        "id": "h_xz50aGBvHO",
        "outputId": "3e4c5db1-4caa-4eb4-aeb1-f0c66934829f"
      },
      "execution_count": null,
      "outputs": [
        {
          "output_type": "error",
          "ename": "TypeError",
          "evalue": "ignored",
          "traceback": [
            "\u001b[0;31m---------------------------------------------------------------------------\u001b[0m",
            "\u001b[0;31mTypeError\u001b[0m                                 Traceback (most recent call last)",
            "\u001b[0;32m<ipython-input-16-9bcad777108b>\u001b[0m in \u001b[0;36m<module>\u001b[0;34m\u001b[0m\n\u001b[1;32m      1\u001b[0m \u001b[0;31m#we can perform m,any operation on list...like concatenation,multiplication\u001b[0m\u001b[0;34m\u001b[0m\u001b[0;34m\u001b[0m\u001b[0;34m\u001b[0m\u001b[0m\n\u001b[0;32m----> 2\u001b[0;31m \u001b[0mprint\u001b[0m\u001b[0;34m(\u001b[0m\u001b[0mlist1\u001b[0m\u001b[0;34m+\u001b[0m\u001b[0mlist2\u001b[0m\u001b[0;34m)\u001b[0m\u001b[0;34m\u001b[0m\u001b[0;34m\u001b[0m\u001b[0m\n\u001b[0m",
            "\u001b[0;31mTypeError\u001b[0m: can only concatenate str (not \"list\") to str"
          ]
        }
      ]
    },
    {
      "cell_type": "code",
      "source": [
        "print(list1*2)"
      ],
      "metadata": {
        "id": "ycnYbBS2CStc"
      },
      "execution_count": null,
      "outputs": []
    },
    {
      "cell_type": "code",
      "source": [
        "#List Function------------\n",
        "#len\n",
        "print(len(my_list))\n",
        "#minimum in list\n",
        "print(min(list2))\n",
        "print(max(list2))\n",
        "print(sum(my_list))\n",
        "print(sorted(list2))  #returns a sorted list"
      ],
      "metadata": {
        "id": "V_qMqG2bCWOb"
      },
      "execution_count": null,
      "outputs": []
    },
    {
      "cell_type": "code",
      "source": [
        "#list methods\n",
        "#append()---use to add an item at the end of the list permanently(append method takes an argument as it is and it changes the original list)\n",
        "my_list.append(\"hello\")\n",
        "\n",
        "#extend()---use to merge a list(or any iterable) to an exixting list(if you want to merge two or more list together)\n",
        "my_list.extend(list2)\n",
        "\n",
        "#pop()---to pop off an item from the list by default it will pop the last item of the list(it takes index as an argument)\n",
        "my_list.pop(3)\n",
        "\n",
        "#remove()---use to remove a item at an certain index(it take element as an argument)\n",
        "my_list.remove('list')\n",
        "\n",
        "#index()---it return the index of an specified element\n",
        "my_list.index('list')\n",
        "\n",
        "#sort()--it will sort the list either in ascending or descending order(by deafault it will sort in ascending order)(it only works on a list with same data type)\n",
        "my_list.sort(reverse=True)\n",
        "\n",
        "#count()---it returns the total occurance of a specified elemenet in the list\n",
        "my_list.sount('list')\n",
        "\n",
        "#reverse((---it will reverse the list))\n",
        "my_list.reverse()\n",
        "\n"
      ],
      "metadata": {
        "id": "4LmK6IvhCuZA"
      },
      "execution_count": null,
      "outputs": []
    },
    {
      "cell_type": "markdown",
      "source": [
        "![image.png](data:image/png;base64,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)"
      ],
      "metadata": {
        "id": "ePVfrxTrEmoF"
      }
    },
    {
      "cell_type": "code",
      "source": [
        "#nested list\n",
        "l1=[4,5,2,3]\n",
        "l2=[7,9,3,2]\n",
        "l3=[7.99,78,33]\n",
        "\n",
        "list_of_list=[l1,l2,l3]\n",
        "print(list_of_list)"
      ],
      "metadata": {
        "id": "u_NZ1yHJEorF"
      },
      "execution_count": null,
      "outputs": []
    },
    {
      "cell_type": "markdown",
      "source": [
        "<u>Problem 1</u>\n",
        "\n",
        "A list contains the average daily temperature(in degree Celsius) of a city over a particular week. Write a Python code to swap the highest and the lowest temperatures"
      ],
      "metadata": {
        "id": "zTCDBXd5GiC_"
      }
    },
    {
      "cell_type": "code",
      "source": [
        "# A list containing average daily temperature over a week \n",
        "temperatures = [34, 40, 29, 33, 42, 37, 39 ]\n",
        "\n",
        "# The expected output \n",
        "# output_temperatures = [34, 40, 42, 33, 29, 37, 39]"
      ],
      "metadata": {
        "id": "tQBech-yGR8Q"
      },
      "execution_count": null,
      "outputs": []
    },
    {
      "cell_type": "code",
      "source": [
        "# Store the highest temperature\n",
        "max_temp =max(temperatures)\n",
        "\n",
        "# Index of the element with the highest temperature\n",
        "max_temp_index = temperatures.index(max_temp)\n",
        "print(max_temp)\n",
        "print(max_temp_index)"
      ],
      "metadata": {
        "id": "G4pgKU-qGl6e"
      },
      "execution_count": null,
      "outputs": []
    },
    {
      "cell_type": "code",
      "source": [
        "# Store the lowest temperature \n",
        "min_temp = min(temperatures)\n",
        "print(min_temp)\n",
        "# Index of the element with the lowest temperature\n",
        "min_temp_index =temperatures.index(min_temp)\n",
        "print(min_temp_index)"
      ],
      "metadata": {
        "id": "RJQ9HQvrGnc3"
      },
      "execution_count": null,
      "outputs": []
    },
    {
      "cell_type": "code",
      "source": [
        "print(f\"maximum number before swapping  {max_temp}\")\n",
        "print(f\"minimum number before swapping  {min_temp}\")"
      ],
      "metadata": {
        "id": "lWXkpLEvGpqx"
      },
      "execution_count": null,
      "outputs": []
    },
    {
      "cell_type": "code",
      "source": [
        "#t=max_temp\n",
        "#max_temp=min_temp\n",
        "#min_temp = t"
      ],
      "metadata": {
        "id": "ej--WwSQGvWX"
      },
      "execution_count": null,
      "outputs": []
    },
    {
      "cell_type": "code",
      "source": [
        "#print(f\"maximum number after swapping  {max_temp}\")\n",
        "#print(f\"minimum number after swapping  {min_temp}\")"
      ],
      "metadata": {
        "id": "QcnJWbCbGw8v"
      },
      "execution_count": null,
      "outputs": []
    },
    {
      "cell_type": "code",
      "source": [
        "# Swap the highest and the lowest temperatures\n",
        "temperatures[max_temp_index] = min_temp\n",
        "temperatures[min_temp_index] = max_temp"
      ],
      "metadata": {
        "id": "fLC3QApdGzj3"
      },
      "execution_count": null,
      "outputs": []
    },
    {
      "cell_type": "code",
      "source": [
        "# Print the output list\n",
        "temperatures"
      ],
      "metadata": {
        "id": "ogV_yHahG1P2"
      },
      "execution_count": null,
      "outputs": []
    },
    {
      "cell_type": "markdown",
      "source": [
        "<u> Problem 2 </u>\n",
        "\n",
        "Having a nested list sometimes might be a bit problematic. An individual was asked to collect the names of companies in the technology sector. While creating the list, by mistake the last three companies were subsumed in a list as shown below. You are required to get rid of the nesting"
      ],
      "metadata": {
        "id": "Rwoqq8QJG_SO"
      }
    },
    {
      "cell_type": "code",
      "source": [
        "# The list of tech companies curated by the individual\n",
        "tech_companies = ['Qualcomm','Google','Apple',['Nvidia','Cisco','Samsung']]\n",
        "\n",
        "# The final list that we want\n",
        "# correct_tech_companies = ['Qualcomm','Google','Apple','Nvidia','Cisco','Samsung']"
      ],
      "metadata": {
        "id": "Fja0yv60HGRW"
      },
      "execution_count": null,
      "outputs": []
    },
    {
      "cell_type": "code",
      "source": [
        "# Write your code below\n",
        "a = tech_companies[:3]\n",
        "b = tech_companies[-1]\n",
        "correct = a+b\n",
        "correct"
      ],
      "metadata": {
        "id": "WBFKjDOhHJct"
      },
      "execution_count": null,
      "outputs": []
    },
    {
      "cell_type": "markdown",
      "source": [
        "###**question on LIST**"
      ],
      "metadata": {
        "id": "JHWgjt9y7-Bj"
      }
    },
    {
      "cell_type": "markdown",
      "source": [
        "program to interchange first and last elements in a list"
      ],
      "metadata": {
        "id": "TKyCnvj38Doi"
      }
    },
    {
      "cell_type": "code",
      "source": [
        "l1=[12, 35, 9, 56, 24]\n",
        "l1[0],l1[-1]=l1[-1],l1[0]\n",
        "print(l1)"
      ],
      "metadata": {
        "id": "GsP-1jZuHLtl",
        "colab": {
          "base_uri": "https://localhost:8080/"
        },
        "outputId": "115d08b0-8de4-4f74-967f-2f188431d13e"
      },
      "execution_count": null,
      "outputs": [
        {
          "output_type": "stream",
          "name": "stdout",
          "text": [
            "[24, 35, 9, 56, 12]\n"
          ]
        }
      ]
    },
    {
      "cell_type": "markdown",
      "source": [
        "Check if element exists in list "
      ],
      "metadata": {
        "id": "INhRZ-w2-5na"
      }
    },
    {
      "cell_type": "code",
      "source": [
        "lst=[ 1, 6, 3, 5, 3, 4 ]\n",
        "#checking if element 7 is present\n",
        "# in the given list or not\n",
        "i=7\n",
        "# if element present then return\n",
        "# exist otherwise not exist\n",
        "if i in lst:\n",
        "    print(\"exist\")\n",
        "else:\n",
        "    print(\"not exist\")"
      ],
      "metadata": {
        "colab": {
          "base_uri": "https://localhost:8080/"
        },
        "id": "Jay-CzDhFqrM",
        "outputId": "b1453714-c053-4f36-e8bb-0854cd480f1f"
      },
      "execution_count": null,
      "outputs": [
        {
          "output_type": "stream",
          "name": "stdout",
          "text": [
            "not exist\n"
          ]
        }
      ]
    },
    {
      "cell_type": "code",
      "source": [
        "# Initializing list\n",
        "test_list = [10, 15, 20, 7, 46, 2808]\n",
        " \n",
        "print(\"Checking if 15 exists in list\")\n",
        " \n",
        "# number of times element exists in list\n",
        "exist_count = test_list.count(15)\n",
        " \n",
        "# checking if it is more than 0\n",
        "if exist_count > 0:\n",
        "    print(\"Yes, 15 exists in list\")\n",
        "else:\n",
        "    print(\"No, 15 does not exists in list\")"
      ],
      "metadata": {
        "colab": {
          "base_uri": "https://localhost:8080/"
        },
        "id": "KdGThe-mF8Uu",
        "outputId": "3e6f82c4-3faa-47c5-cd23-6a125150e836"
      },
      "execution_count": null,
      "outputs": [
        {
          "output_type": "stream",
          "name": "stdout",
          "text": [
            "Checking if 15 exists in list\n",
            "Yes, 15 exists in list\n"
          ]
        }
      ]
    },
    {
      "cell_type": "markdown",
      "source": [
        "Different ways to clear a list "
      ],
      "metadata": {
        "id": "dFEUoGZ9GE2w"
      }
    },
    {
      "cell_type": "code",
      "source": [
        "\n",
        "# Python program to clear a list\n",
        "# using clear() method\n",
        " \n",
        "# Creating list\n",
        "GEEK = [6, 0, 4, 1]\n",
        "print('GEEK before clear:', GEEK)\n",
        " \n",
        "# Clearing list\n",
        "GEEK.clear()\n",
        "print('GEEK after clear:', GEEK)"
      ],
      "metadata": {
        "colab": {
          "base_uri": "https://localhost:8080/"
        },
        "id": "mAjZQpnWGFe5",
        "outputId": "da25179b-861a-4ab6-d1ca-3cfd719186f7"
      },
      "execution_count": 21,
      "outputs": [
        {
          "output_type": "stream",
          "name": "stdout",
          "text": [
            "GEEK before clear: [6, 0, 4, 1]\n",
            "GEEK after clear: []\n"
          ]
        }
      ]
    },
    {
      "cell_type": "markdown",
      "source": [
        "reversing a list"
      ],
      "metadata": {
        "id": "H-42BP18UQmg"
      }
    },
    {
      "cell_type": "code",
      "source": [
        "d=[5,6,7,\"heelo\"]\n",
        "d[::-1]"
      ],
      "metadata": {
        "colab": {
          "base_uri": "https://localhost:8080/"
        },
        "id": "94JidceNUUpH",
        "outputId": "d7effd5d-4646-4dda-acd7-b786546bd5e5"
      },
      "execution_count": 23,
      "outputs": [
        {
          "output_type": "execute_result",
          "data": {
            "text/plain": [
              "['heelo', 7, 6, 5]"
            ]
          },
          "metadata": {},
          "execution_count": 23
        }
      ]
    },
    {
      "cell_type": "markdown",
      "source": [
        "sum of element"
      ],
      "metadata": {
        "id": "JtJAgFFHUkEo"
      }
    },
    {
      "cell_type": "code",
      "source": [
        "e=[6,6,4,3,2,7,8]\n",
        "sum(e)"
      ],
      "metadata": {
        "colab": {
          "base_uri": "https://localhost:8080/"
        },
        "id": "rjqBsoczUnLq",
        "outputId": "f235349b-335e-4ace-9615-7f2291a95ff5"
      },
      "execution_count": 25,
      "outputs": [
        {
          "output_type": "execute_result",
          "data": {
            "text/plain": [
              "36"
            ]
          },
          "metadata": {},
          "execution_count": 25
        }
      ]
    },
    {
      "cell_type": "markdown",
      "source": [
        "multiply all the number in list"
      ],
      "metadata": {
        "id": "ouu89woHUvUn"
      }
    },
    {
      "cell_type": "code",
      "source": [
        "mul=1\n",
        "for i in e:\n",
        "  mul=mul*i\n",
        "mul"
      ],
      "metadata": {
        "colab": {
          "base_uri": "https://localhost:8080/"
        },
        "id": "MMULODygVGbd",
        "outputId": "238a53d1-0b88-45bb-f1e5-dc38a337ba77"
      },
      "execution_count": 26,
      "outputs": [
        {
          "output_type": "execute_result",
          "data": {
            "text/plain": [
              "48384"
            ]
          },
          "metadata": {},
          "execution_count": 26
        }
      ]
    },
    {
      "cell_type": "markdown",
      "source": [
        "smallest,larget and second largest number\n"
      ],
      "metadata": {
        "id": "NXafluOzVSB9"
      }
    },
    {
      "cell_type": "code",
      "source": [
        "print(max(e))\n",
        "print(min(e))"
      ],
      "metadata": {
        "colab": {
          "base_uri": "https://localhost:8080/"
        },
        "id": "Q9y2OajXVbZY",
        "outputId": "55c054f7-b1fd-4b8c-825f-e4de0d2a2d3d"
      },
      "execution_count": 27,
      "outputs": [
        {
          "output_type": "stream",
          "name": "stdout",
          "text": [
            "8\n",
            "2\n"
          ]
        }
      ]
    },
    {
      "cell_type": "code",
      "source": [
        "#second largest\n",
        "#firstly sort in ascending or descending\n",
        "e.sort()  # it will by default sort in ascending\n",
        "e[-2]"
      ],
      "metadata": {
        "colab": {
          "base_uri": "https://localhost:8080/"
        },
        "id": "zfFXgIh3VnDD",
        "outputId": "fd680728-7cb0-4110-cd43-6f6053ea7251"
      },
      "execution_count": 31,
      "outputs": [
        {
          "output_type": "execute_result",
          "data": {
            "text/plain": [
              "7"
            ]
          },
          "metadata": {},
          "execution_count": 31
        }
      ]
    },
    {
      "cell_type": "markdown",
      "source": [
        "even and odd number in list"
      ],
      "metadata": {
        "id": "U8tzx1L8WXgr"
      }
    },
    {
      "cell_type": "code",
      "source": [
        "[i for i in e if i%2==0]"
      ],
      "metadata": {
        "colab": {
          "base_uri": "https://localhost:8080/"
        },
        "id": "Ax9zbaogWafT",
        "outputId": "a5017b6b-a037-4ebf-8691-f56ab4bf7df1"
      },
      "execution_count": 34,
      "outputs": [
        {
          "output_type": "execute_result",
          "data": {
            "text/plain": [
              "[2, 4, 6, 6, 8]"
            ]
          },
          "metadata": {},
          "execution_count": 34
        }
      ]
    },
    {
      "cell_type": "code",
      "source": [
        "[i for i in e if i%2!=0]"
      ],
      "metadata": {
        "colab": {
          "base_uri": "https://localhost:8080/"
        },
        "id": "b_T4xaOWWvl7",
        "outputId": "bf9c8840-a1df-43f5-f696-273b7cfb0a87"
      },
      "execution_count": 35,
      "outputs": [
        {
          "output_type": "execute_result",
          "data": {
            "text/plain": [
              "[3, 7]"
            ]
          },
          "metadata": {},
          "execution_count": 35
        }
      ]
    },
    {
      "cell_type": "code",
      "source": [
        "[i for i in range(1,20) if i%2==0]"
      ],
      "metadata": {
        "colab": {
          "base_uri": "https://localhost:8080/"
        },
        "id": "bUXs9FU2WyMH",
        "outputId": "45de87aa-27ee-4701-fdf4-b02cb7afa505"
      },
      "execution_count": 36,
      "outputs": [
        {
          "output_type": "execute_result",
          "data": {
            "text/plain": [
              "[2, 4, 6, 8, 10, 12, 14, 16, 18]"
            ]
          },
          "metadata": {},
          "execution_count": 36
        }
      ]
    },
    {
      "cell_type": "code",
      "source": [
        "f=[-4,-6,6,8,-9]\n",
        "[i for i in f if i>=0]"
      ],
      "metadata": {
        "colab": {
          "base_uri": "https://localhost:8080/"
        },
        "id": "0qfIT9qtW6FT",
        "outputId": "1b5ad0f3-3e16-48a6-e457-b15bb61e70ba"
      },
      "execution_count": 37,
      "outputs": [
        {
          "output_type": "execute_result",
          "data": {
            "text/plain": [
              "[6, 8]"
            ]
          },
          "metadata": {},
          "execution_count": 37
        }
      ]
    },
    {
      "cell_type": "markdown",
      "source": [
        "remove multiple element from list"
      ],
      "metadata": {
        "id": "gG0ZJBuMWrSR"
      }
    },
    {
      "cell_type": "code",
      "source": [
        "# creating a list\n",
        "list1 = [11, 5, 17, 18, 23, 50]\n",
        " \n",
        "# will create a new list,\n",
        "# excluding all even numbers\n",
        "list1 = [ elem for elem in list1 if elem % 2 != 0]\n",
        " \n",
        "print(*list1)"
      ],
      "metadata": {
        "colab": {
          "base_uri": "https://localhost:8080/"
        },
        "id": "jrzfsIbrXLot",
        "outputId": "d3e896db-bcd7-48d1-d247-1e66614bb3a2"
      },
      "execution_count": 38,
      "outputs": [
        {
          "output_type": "stream",
          "name": "stdout",
          "text": [
            "11 5 17 23\n"
          ]
        }
      ]
    },
    {
      "cell_type": "markdown",
      "source": [
        "Remove empty List from List"
      ],
      "metadata": {
        "id": "zL6_WTPHXrq4"
      }
    },
    {
      "cell_type": "code",
      "source": [
        "list1 = [11, 5, 17, 18, 23, 50,[]]\n",
        "for i in list1:\n",
        "  if i==[]:\n",
        "    list1.remove(i)\n",
        "    "
      ],
      "metadata": {
        "id": "Itk47jddXxpZ"
      },
      "execution_count": 39,
      "outputs": []
    },
    {
      "cell_type": "code",
      "source": [
        "list1"
      ],
      "metadata": {
        "colab": {
          "base_uri": "https://localhost:8080/"
        },
        "id": "Z6JtGHvLX-_W",
        "outputId": "7064d3f5-49bd-418c-a107-abf0ecaee591"
      },
      "execution_count": 40,
      "outputs": [
        {
          "output_type": "execute_result",
          "data": {
            "text/plain": [
              "[11, 5, 17, 18, 23, 50]"
            ]
          },
          "metadata": {},
          "execution_count": 40
        }
      ]
    },
    {
      "cell_type": "markdown",
      "source": [
        "Cloning or Copying a list"
      ],
      "metadata": {
        "id": "grPThH2UYCb-"
      }
    },
    {
      "cell_type": "code",
      "source": [
        "list2=list1.copy()\n",
        "list2"
      ],
      "metadata": {
        "colab": {
          "base_uri": "https://localhost:8080/"
        },
        "id": "FShvkirdYGTH",
        "outputId": "162149aa-ba91-4315-b225-3ce2dcc8b0ca"
      },
      "execution_count": 41,
      "outputs": [
        {
          "output_type": "execute_result",
          "data": {
            "text/plain": [
              "[11, 5, 17, 18, 23, 50]"
            ]
          },
          "metadata": {},
          "execution_count": 41
        }
      ]
    },
    {
      "cell_type": "code",
      "source": [
        "list3=list2[:]\n",
        "list3"
      ],
      "metadata": {
        "colab": {
          "base_uri": "https://localhost:8080/"
        },
        "id": "b5VG25NuYhXF",
        "outputId": "3a4e315b-e260-425f-e9c5-4179da628d60"
      },
      "execution_count": 46,
      "outputs": [
        {
          "output_type": "execute_result",
          "data": {
            "text/plain": [
              "[11, 5, 17, 18, 23, 50, [6, 7]]"
            ]
          },
          "metadata": {},
          "execution_count": 46
        }
      ]
    },
    {
      "cell_type": "code",
      "source": [
        "list2.append([6,7])\n",
        "list2"
      ],
      "metadata": {
        "colab": {
          "base_uri": "https://localhost:8080/"
        },
        "id": "LISljSj9YKdG",
        "outputId": "90447fc5-e533-4fdb-b85a-7f16217e1c5f"
      },
      "execution_count": 43,
      "outputs": [
        {
          "output_type": "execute_result",
          "data": {
            "text/plain": [
              "[11, 5, 17, 18, 23, 50, [6, 7]]"
            ]
          },
          "metadata": {},
          "execution_count": 43
        }
      ]
    },
    {
      "cell_type": "code",
      "source": [
        "list1.append([9,40,3])\n",
        "list2"
      ],
      "metadata": {
        "colab": {
          "base_uri": "https://localhost:8080/"
        },
        "id": "-DLkiq-GYU3L",
        "outputId": "aa60f8d9-ad5b-4f25-dad6-9f9567baf72a"
      },
      "execution_count": 45,
      "outputs": [
        {
          "output_type": "execute_result",
          "data": {
            "text/plain": [
              "[11, 5, 17, 18, 23, 50, [6, 7]]"
            ]
          },
          "metadata": {},
          "execution_count": 45
        }
      ]
    },
    {
      "cell_type": "markdown",
      "source": [
        "##**4---> Tuple**"
      ],
      "metadata": {
        "id": "KdGrIXw3HgYy"
      }
    },
    {
      "cell_type": "markdown",
      "source": [
        "          In python tuples are very similar to lists,but they are immutable unlike lists.\n",
        "          you would use tuple to the things which shouldn't be changed,such as---days of my week,dates on calender.\n",
        "\n",
        "          tuples are **immutable,ordered,with duplication allowed**.\n",
        "\n",
        "          syntax---**tup=(1,)**\n",
        "\n",
        "          it enclosed within round bracket and seperated by comma.\n",
        "\n",
        "          but for instance if we have a=(1)--this is not a tuple,because tuple is copmma seperated.\n",
        "          so a=(1,)-   or tup([4])--is tuple\n",
        "\n",
        "          it is also heterogenous(can contain any type of data)\n"
      ],
      "metadata": {
        "id": "0_kvl0h7Hs3I"
      }
    },
    {
      "cell_type": "code",
      "source": [
        "tup=(3,5.5,'heelo',4)\n",
        "print(tup)\n",
        "\n",
        "#data type conversion\n",
        "print(tuple(1))   #---will give error(because tuple takes any iteration as an argument)\n",
        "\n",
        "print(tuple([1]))        #--now as it is an list(iterable)\n",
        "\n",
        "print(tuple('abc'))       #---it will output ('a','b','c') each element as different string(treat as different element of tuple) \n",
        "\n",
        "print(tuple(['abc']))     #outpur will be-----('abc',)--treat as a tuple because it gave abc as an iterable\n",
        "\n",
        "print(tuple([1,2]))       #output will be (1,2)"
      ],
      "metadata": {
        "id": "3ofUiQ3XJEUf"
      },
      "execution_count": null,
      "outputs": []
    },
    {
      "cell_type": "markdown",
      "source": [
        "Packing and unpacking can be used for any iterable object but one of the well-known usages has belonged to tuple objects. One of the biggest impacts of using packing and unpacking, it improves the readability of your code.\n",
        "\n",
        "                       Packing and unpacking can be used for any iterable \n",
        "                       object but one of the well-known usages has belonged\n",
        "                       to  tuple objects. One of the biggest impacts of using  packing and unpacking, it \n",
        "                       improves the readability of your code."
      ],
      "metadata": {
        "id": "O-n9FzBYLPFh"
      }
    },
    {
      "cell_type": "code",
      "source": [
        "#Tuple Packing\n",
        "#Packing tuples assigns multiple Python objects to a tuple\n",
        "tup1=1,2,3\n",
        "print(type(tup1))\n",
        "print(len(tup1))\n",
        "print(tup1)\n",
        "\n",
        "\n",
        "#tuple unpacking\n",
        "#length of tuple should be equal to the lemgth of variable in which we are assigning them\n",
        " a,b,c=1,2,3\n",
        " print(a)\n",
        " print(b)\n"
      ],
      "metadata": {
        "id": "Ozdod7n9Ka-7"
      },
      "execution_count": null,
      "outputs": []
    },
    {
      "cell_type": "code",
      "source": [
        "#tuple slicing"
      ],
      "metadata": {
        "id": "v5RNfO07MSvG"
      },
      "execution_count": null,
      "outputs": []
    },
    {
      "cell_type": "code",
      "source": [
        "#Tuple Methods----\n",
        "\n",
        "#index()---return the index of specified element\n",
        "\n",
        "#count()----return the count of specified element in a tuple\n",
        "\n",
        "\n",
        "#as tuple are immutable we can't change it...that's why it doesn't support append(),extend(),remove(),pop(),etc\n",
        "#so we will use these ---zip(),lis()\n",
        "\n",
        "print(tup[3]='change')   #---error"
      ],
      "metadata": {
        "id": "_Wb2aDiSMUbm"
      },
      "execution_count": null,
      "outputs": []
    },
    {
      "cell_type": "markdown",
      "source": [
        "more about tuples---https://towardsdatascience.com/python-basics-tuples-9bb3851257b5#:~:text=Summary,while%20the%20lists%20are%20mutable."
      ],
      "metadata": {
        "id": "cZ1MbEB3OAKH"
      }
    },
    {
      "cell_type": "markdown",
      "source": [
        "###Questions on tuple"
      ],
      "metadata": {
        "id": "XLEfMHd-H2Tr"
      }
    },
    {
      "cell_type": "markdown",
      "source": [
        "Maximum and Minimum K elements in Tuple"
      ],
      "metadata": {
        "id": "vbv0S3gTII_r"
      }
    },
    {
      "cell_type": "code",
      "source": [
        "test_tup = (5, 20, 3, 7, 6, 8)\n",
        "tup=list(test_tup)\n",
        "print(max(tup),min(tup))"
      ],
      "metadata": {
        "colab": {
          "base_uri": "https://localhost:8080/"
        },
        "id": "34GWMq-nH5aM",
        "outputId": "489a1241-e1df-480d-863c-df71b3549342"
      },
      "execution_count": null,
      "outputs": [
        {
          "output_type": "stream",
          "name": "stdout",
          "text": [
            "20 3\n"
          ]
        }
      ]
    },
    {
      "cell_type": "markdown",
      "source": [
        "Python program to create a list of tuples from given list having number and its cube in each tuple"
      ],
      "metadata": {
        "id": "Jw5HSwasIpPB"
      }
    },
    {
      "cell_type": "code",
      "source": [
        "# Python program to create a list of tuples\n",
        "# from given list having number and\n",
        "# its cube in each tuple\n",
        " \n",
        "# creating a list\n",
        "list1 = [1, 2, 5, 6]\n",
        " \n",
        "# using list comprehension to iterate each\n",
        "# values in list and create a tuple as specified\n",
        "res = [(val, pow(val, 3)) for val in list1]\n",
        "#res = [(val, val**3) for val in list1]\n",
        " \n",
        "# print the result\n",
        "print(res)"
      ],
      "metadata": {
        "colab": {
          "base_uri": "https://localhost:8080/"
        },
        "id": "gX-bIdXhIqZJ",
        "outputId": "e3841bde-a4f6-40da-99c7-3f3c137ef2da"
      },
      "execution_count": null,
      "outputs": [
        {
          "output_type": "stream",
          "name": "stdout",
          "text": [
            "[(1, 1), (2, 8), (5, 125), (6, 216)]\n"
          ]
        }
      ]
    },
    {
      "cell_type": "markdown",
      "source": [
        "Adding Tuple to List and vice – versa"
      ],
      "metadata": {
        "id": "VAx2GptdI6By"
      }
    },
    {
      "cell_type": "code",
      "source": [
        "\n",
        "# Python3 code to demonstrate working of\n",
        "# Adding Tuple to List and vice - versa\n",
        "# Using += operator (list + tuple)\n",
        " \n",
        "# initializing list\n",
        "test_list = [5, 6, 7]\n",
        " \n",
        "# printing original list\n",
        "print(\"The original list is : \" + str(test_list))\n",
        " \n",
        "# initializing tuple\n",
        "test_tup = (9, 10)\n",
        " \n",
        "# Adding Tuple to List and vice - versa\n",
        "# Using += operator (list + tuple)\n",
        "test_list += test_tup\n",
        " \n",
        "# printing result\n",
        "print(\"The container after addition : \" + str(test_list))"
      ],
      "metadata": {
        "colab": {
          "base_uri": "https://localhost:8080/"
        },
        "id": "d2VSuSAOIx0J",
        "outputId": "36f9e746-1219-401c-df8c-43fb73de8e7f"
      },
      "execution_count": null,
      "outputs": [
        {
          "output_type": "stream",
          "name": "stdout",
          "text": [
            "The original list is : [5, 6, 7]\n",
            "The container after addition : [5, 6, 7, 9, 10]\n"
          ]
        }
      ]
    },
    {
      "cell_type": "code",
      "source": [
        "my_list = [3, 6, 9, 45, 66]\n",
        "my_tup = (11, 14, 21)\n",
        "#print(my_list + my_tup)\n",
        "my_list += my_tup\n",
        "my_list"
      ],
      "metadata": {
        "colab": {
          "base_uri": "https://localhost:8080/"
        },
        "id": "FEM_dZ_IQ0TV",
        "outputId": "6508ec5d-8a26-4c6e-eb17-906bc6d3f40d"
      },
      "execution_count": null,
      "outputs": [
        {
          "output_type": "execute_result",
          "data": {
            "text/plain": [
              "[3, 6, 9, 45, 66, 11, 14, 21]"
            ]
          },
          "metadata": {},
          "execution_count": 5
        }
      ]
    },
    {
      "cell_type": "code",
      "source": [
        "my_list = [3, 6, 9, 45, 66]\n",
        "my_tup = (11, 14, 21)\n",
        "#print(my_list + my_tup)\n",
        "my_tup += tuple(my_list)\n",
        "tuple(my_tup)"
      ],
      "metadata": {
        "colab": {
          "base_uri": "https://localhost:8080/"
        },
        "id": "J7E9OShvT20k",
        "outputId": "a1d7255f-ea88-4b4a-cda3-16596cc109c6"
      },
      "execution_count": null,
      "outputs": [
        {
          "output_type": "execute_result",
          "data": {
            "text/plain": [
              "(11, 14, 21, 3, 6, 9, 45, 66)"
            ]
          },
          "metadata": {},
          "execution_count": 7
        }
      ]
    },
    {
      "cell_type": "markdown",
      "source": [
        "Closest Pair to Kth index element in Tuple"
      ],
      "metadata": {
        "id": "L74_vqCQUKWZ"
      }
    },
    {
      "cell_type": "code",
      "source": [],
      "metadata": {
        "id": "Ohc3UJdbTnF-"
      },
      "execution_count": null,
      "outputs": []
    },
    {
      "cell_type": "markdown",
      "source": [
        "##**5---> Set**"
      ],
      "metadata": {
        "id": "0Adf_9XZOfUf"
      }
    },
    {
      "cell_type": "markdown",
      "source": [
        "                unordered,mutable,can't be indexed,no slicing,with no duplicate entries,it is used when you need uniqness.."
      ],
      "metadata": {
        "id": "GDQD2VYOO-nO"
      }
    },
    {
      "cell_type": "markdown",
      "source": [
        "![image.png](data:image/png;base64,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)"
      ],
      "metadata": {
        "id": "TZszNpU_QF6L"
      }
    },
    {
      "cell_type": "code",
      "source": [
        "#you can create empty set as set() and we can create a set by curly braces items seperated by commas\n",
        "set1=set()\n",
        "print(type(set1))\n",
        "set2={2,3,5,6,4}\n",
        "ptint(type(set2))"
      ],
      "metadata": {
        "id": "jxY-OUa8QEtb"
      },
      "execution_count": null,
      "outputs": []
    },
    {
      "cell_type": "code",
      "source": [
        "#an empty set can't be represented as {}\n",
        "set3={}\n",
        "print(type(set3))"
      ],
      "metadata": {
        "id": "QgoN7-B6Oj2B"
      },
      "execution_count": null,
      "outputs": []
    },
    {
      "cell_type": "code",
      "source": [
        "#we can cast a list with multiple elements to a set to get unique elemenets\n",
        "listt=[1,2,2,3,4,3,4,5]\n",
        "print(set(listt))"
      ],
      "metadata": {
        "id": "ufNdNitlRE4A"
      },
      "execution_count": null,
      "outputs": []
    },
    {
      "cell_type": "code",
      "source": [
        "#a set can't have mutable items(list,set,dictionary) it will throw type error\n",
        "myset={1,2,[3,4]}\n",
        "myset={1,2,{3,4}}\n",
        "\n"
      ],
      "metadata": {
        "id": "0ow65HFGRcNm"
      },
      "execution_count": null,
      "outputs": []
    },
    {
      "cell_type": "code",
      "source": [
        "#we can have tuple in set as it is immutable\n",
        "myset={1,2,(3,4)}"
      ],
      "metadata": {
        "id": "S72L0RSsR6cG"
      },
      "execution_count": null,
      "outputs": []
    },
    {
      "cell_type": "code",
      "source": [
        "#SET METHODS\n",
        "#------------------add()----it add an element to a set (it takes the element to be added as an argument)\n",
        "myset.add('a')\n",
        "\n",
        "#we can't add mutable in set\n",
        "myset.add([1])\n",
        "\n",
        "#we can add tuple\n",
        "myset.add((1,))\n",
        "\n",
        "#if i add duplicate value in set then it will consider only one not both or more duolication\n",
        "myset.add((1))   #---here after removing comma it become a int..which is already present in set\n",
        "\n",
        "\n",
        "#-----------------update()--it helps to add multiple element to a set at a time\n",
        "myset.update([3,4,5,6])\n",
        "\n",
        "#-----------------remove()---use to remove an item/element(by default it will remove the specified element from the set)\n",
        "myset.remove(3)\n",
        "\n",
        "\n",
        "#----------------union()----(use to union of two sets also denopted by operator |)\n",
        "a={3,4,5,6}\n",
        "b={6,7,8,9,3}\n",
        "a|b\n",
        "a.union(b)\n",
        "\n",
        "#----------------intersection()----(use to intersection of two sets also denopted by operator &)\n",
        "a={3,4,5,6}\n",
        "b={6,7,8,9,3}\n",
        "a&b\n",
        "a.intersection(b)\n",
        "\n",
        "#----------------difference()----(use to return the difference of two sets also denopted by operator -)\n",
        "a={3,4,5,6}\n",
        "b={6,7,8,9,3}\n",
        "a-b\n",
        "a.difference(b)\n",
        "\n",
        "#----------------symmetric_difference()----(return the  sets of element of a and b,but not in both(excluding the intersection) also denopted by operator ^)\n",
        "a={3,4,5,6}\n",
        "b={6,7,8,9,3}\n",
        "a^b\n",
        "a.symmetric_difference(b)\n",
        "\n"
      ],
      "metadata": {
        "id": "N--8fM2xR75j"
      },
      "execution_count": null,
      "outputs": []
    },
    {
      "cell_type": "markdown",
      "source": [
        "##**6---> Dictionary**"
      ],
      "metadata": {
        "id": "MqckMMEsVaes"
      }
    },
    {
      "cell_type": "markdown",
      "source": [
        "![image.png](data:image/png;base64,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)"
      ],
      "metadata": {
        "id": "yLv90qU4Vryi"
      }
    },
    {
      "cell_type": "markdown",
      "source": [
        "![image.png](data:image/png;base64,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)"
      ],
      "metadata": {
        "id": "DfCh6jpDV7u5"
      }
    },
    {
      "cell_type": "code",
      "source": [],
      "metadata": {
        "id": "xOGrNXqMVbtB"
      },
      "execution_count": null,
      "outputs": []
    }
  ]
}