{
  "nbformat": 4,
  "nbformat_minor": 0,
  "metadata": {
    "colab": {
      "name": "python practice.ipynb",
      "provenance": [],
      "collapsed_sections": [],
      "authorship_tag": "ABX9TyNiHJOtkw/4NgvnjTEyP4qU",
      "include_colab_link": true
    },
    "kernelspec": {
      "name": "python3",
      "display_name": "Python 3"
    },
    "language_info": {
      "name": "python"
    }
  },
  "cells": [
    {
      "cell_type": "markdown",
      "metadata": {
        "id": "view-in-github",
        "colab_type": "text"
      },
      "source": [
        "<a href=\"https://colab.research.google.com/github/TanuRajput110/PYTHON-PROGRAMS/blob/main/python_practice.ipynb\" target=\"_parent\"><img src=\"https://colab.research.google.com/assets/colab-badge.svg\" alt=\"Open In Colab\"/></a>"
      ]
    },
    {
      "cell_type": "markdown",
      "metadata": {
        "id": "wMOxz4EFXs2P"
      },
      "source": [
        "##INPUT AND OUTPUT"
      ]
    },
    {
      "cell_type": "code",
      "metadata": {
        "colab": {
          "base_uri": "https://localhost:8080/"
        },
        "id": "uWfUM3gAYFmW",
        "outputId": "f8db8695-db87-42fa-c994-619101af2fb2"
      },
      "source": [
        "print(\"THANK YOU GOD\")"
      ],
      "execution_count": null,
      "outputs": [
        {
          "output_type": "stream",
          "name": "stdout",
          "text": [
            "THANK YOU GOD\n"
          ]
        }
      ]
    },
    {
      "cell_type": "code",
      "metadata": {
        "colab": {
          "base_uri": "https://localhost:8080/"
        },
        "id": "eWJDiFy1Xnne",
        "outputId": "937a25f4-1427-419c-bb8e-70a8e4609038"
      },
      "source": [
        "\n",
        "x=\"pinky\"\n",
        "print(\"believe youself\",x)\n",
        "print(x + \" pinku\")"
      ],
      "execution_count": null,
      "outputs": [
        {
          "output_type": "stream",
          "name": "stdout",
          "text": [
            "believe youself pinky\n",
            "pinky pinku\n"
          ]
        }
      ]
    },
    {
      "cell_type": "code",
      "metadata": {
        "colab": {
          "base_uri": "https://localhost:8080/"
        },
        "id": "ES287EzMYaJg",
        "outputId": "a5365a34-fc0c-49e0-804e-41573b86f26c"
      },
      "source": [
        "print(\"3 raised to power 4=\",3**4)"
      ],
      "execution_count": null,
      "outputs": [
        {
          "output_type": "stream",
          "name": "stdout",
          "text": [
            "3 raised to power 4= 81\n"
          ]
        }
      ]
    },
    {
      "cell_type": "code",
      "metadata": {
        "colab": {
          "base_uri": "https://localhost:8080/"
        },
        "id": "2QMmUmhDZOVf",
        "outputId": "4b60fd05-c75e-4a3f-e95d-e84ac557ae47"
      },
      "source": [
        "m=10\n",
        "n=20\n",
        "print(m ,\"+\" ,n ,\"=\" ,m+n)\n",
        "\n"
      ],
      "execution_count": null,
      "outputs": [
        {
          "output_type": "stream",
          "name": "stdout",
          "text": [
            "10 + 20 = 30\n"
          ]
        }
      ]
    },
    {
      "cell_type": "code",
      "metadata": {
        "colab": {
          "base_uri": "https://localhost:8080/"
        },
        "id": "8hvKnqz3aIJd",
        "outputId": "2f6d0584-059a-4e0f-c66d-f9454a689894"
      },
      "source": [
        "print(2+4,6/3,90*8)"
      ],
      "execution_count": null,
      "outputs": [
        {
          "output_type": "stream",
          "name": "stdout",
          "text": [
            "6 2.0 720\n"
          ]
        }
      ]
    },
    {
      "cell_type": "code",
      "metadata": {
        "colab": {
          "base_uri": "https://localhost:8080/",
          "height": 52
        },
        "id": "6vjtEk86aXnx",
        "outputId": "31414967-971e-4297-bbdb-8c0969c26ea2"
      },
      "source": [
        "x=input()\n",
        "x\n"
      ],
      "execution_count": null,
      "outputs": [
        {
          "name": "stdout",
          "output_type": "stream",
          "text": [
            "55\n"
          ]
        },
        {
          "output_type": "execute_result",
          "data": {
            "application/vnd.google.colaboratory.intrinsic+json": {
              "type": "string"
            },
            "text/plain": [
              "'55'"
            ]
          },
          "metadata": {},
          "execution_count": 13
        }
      ]
    },
    {
      "cell_type": "code",
      "metadata": {
        "colab": {
          "base_uri": "https://localhost:8080/"
        },
        "id": "hzXsRpMdas9U",
        "outputId": "c0cbea60-9fc8-4cee-e958-30ba43173844"
      },
      "source": [
        "print(x)"
      ],
      "execution_count": null,
      "outputs": [
        {
          "output_type": "stream",
          "name": "stdout",
          "text": [
            "55\n"
          ]
        }
      ]
    },
    {
      "cell_type": "code",
      "metadata": {
        "colab": {
          "base_uri": "https://localhost:8080/"
        },
        "id": "2Ub2p318avur",
        "outputId": "b9ce4b3c-ee73-41ae-d892-bcfbfa61dc8d"
      },
      "source": [
        "x1=int(input('enter an integer number'))\n",
        "x1"
      ],
      "execution_count": null,
      "outputs": [
        {
          "name": "stdout",
          "output_type": "stream",
          "text": [
            "enter an integer number56\n"
          ]
        },
        {
          "output_type": "execute_result",
          "data": {
            "text/plain": [
              "56"
            ]
          },
          "metadata": {},
          "execution_count": 15
        }
      ]
    },
    {
      "cell_type": "code",
      "metadata": {
        "colab": {
          "base_uri": "https://localhost:8080/"
        },
        "id": "2l74iBSja-V7",
        "outputId": "b4e4abcc-fe8e-4058-89d7-0db609da4e96"
      },
      "source": [
        "x=input()\n",
        "x1=int(input(\"enter a value\"))\n",
        "print(x1+1)"
      ],
      "execution_count": null,
      "outputs": [
        {
          "output_type": "stream",
          "name": "stdout",
          "text": [
            "15\n",
            "enter a value4\n",
            "5\n"
          ]
        }
      ]
    },
    {
      "cell_type": "code",
      "metadata": {
        "colab": {
          "base_uri": "https://localhost:8080/"
        },
        "id": "M5Y_cKcebby_",
        "outputId": "3904648e-2dba-46c5-87d0-f1c9ead84a9f"
      },
      "source": [
        "val=int(input(\"enter a value\"))"
      ],
      "execution_count": null,
      "outputs": [
        {
          "name": "stdout",
          "output_type": "stream",
          "text": [
            "enter a value56\n"
          ]
        }
      ]
    },
    {
      "cell_type": "code",
      "metadata": {
        "colab": {
          "base_uri": "https://localhost:8080/"
        },
        "id": "eK--DA5sb_A1",
        "outputId": "38cc4408-f083-4922-fe53-e64e47fb8e80"
      },
      "source": [
        "y=float(input(\"enter value\"))"
      ],
      "execution_count": null,
      "outputs": [
        {
          "name": "stdout",
          "output_type": "stream",
          "text": [
            "enter value45\n"
          ]
        }
      ]
    },
    {
      "cell_type": "code",
      "metadata": {
        "colab": {
          "base_uri": "https://localhost:8080/"
        },
        "id": "ZNt2ISRscKIv",
        "outputId": "af3dc095-4040-4873-d422-c9ce9015e1b1"
      },
      "source": [
        "import string\n",
        "for i in range(5):\n",
        "  print(repr(i).rjust(5))\n",
        "\n",
        "#repr=itis an builtin function which is used to return the string representation of the value passed to eval function by default\n",
        "#(eval function = mostly used in situations or application which need to evaluate math expression)\n",
        "#rjust=(it is a built in function which returns a new string of given length after substituting a give character in left side of original string)\n",
        "#syntax ====string.rjust(length,fillchar)"
      ],
      "execution_count": null,
      "outputs": [
        {
          "output_type": "stream",
          "name": "stdout",
          "text": [
            "    0\n",
            "    1\n",
            "    2\n",
            "    3\n",
            "    4\n"
          ]
        }
      ]
    },
    {
      "cell_type": "code",
      "metadata": {
        "colab": {
          "base_uri": "https://localhost:8080/"
        },
        "id": "5jMRLcJ2elHt",
        "outputId": "82da95d1-e800-461f-94e0-c5a87d3ccf95"
      },
      "source": [
        "string=\"greeks\"\n",
        "length=10\n",
        "fillchar='*'\n",
        "print(string.rjust(length))\n",
        "print(string.rjust(length,fillchar))"
      ],
      "execution_count": null,
      "outputs": [
        {
          "output_type": "stream",
          "name": "stdout",
          "text": [
            "    greeks\n",
            "****greeks\n"
          ]
        }
      ]
    },
    {
      "cell_type": "code",
      "metadata": {
        "colab": {
          "base_uri": "https://localhost:8080/"
        },
        "id": "qfTdIlnNfeks",
        "outputId": "194abf4a-2e37-4a9b-f466-2fc9152c2288"
      },
      "source": [
        "string=\"greeks\"\n",
        "length=10\n",
        "fillchar='*'\n",
        "print(string.ljust(length))\n",
        "print(string.ljust(length,fillchar))"
      ],
      "execution_count": null,
      "outputs": [
        {
          "output_type": "stream",
          "name": "stdout",
          "text": [
            "greeks    \n",
            "greeks****\n"
          ]
        }
      ]
    },
    {
      "cell_type": "code",
      "metadata": {
        "colab": {
          "base_uri": "https://localhost:8080/"
        },
        "id": "qBFAualLfo1C",
        "outputId": "2f812d14-386f-4a66-f782-c8f48c1cb7b5"
      },
      "source": [
        "for i in range(6):\n",
        "  print(repr(0).rjust(6))\n",
        "  print(repr(3).rjust(6))"
      ],
      "execution_count": null,
      "outputs": [
        {
          "output_type": "stream",
          "name": "stdout",
          "text": [
            "     0\n",
            "     3\n",
            "     0\n",
            "     3\n",
            "     0\n",
            "     3\n",
            "     0\n",
            "     3\n",
            "     0\n",
            "     3\n",
            "     0\n",
            "     3\n"
          ]
        }
      ]
    },
    {
      "cell_type": "code",
      "metadata": {
        "colab": {
          "base_uri": "https://localhost:8080/"
        },
        "id": "RD9QZ6bWgH0Q",
        "outputId": "b7645b80-b38b-4b2a-c9d4-991c770af1bc"
      },
      "source": [
        "print(repr(23.3))"
      ],
      "execution_count": null,
      "outputs": [
        {
          "output_type": "stream",
          "name": "stdout",
          "text": [
            "23.3\n"
          ]
        }
      ]
    },
    {
      "cell_type": "code",
      "metadata": {
        "colab": {
          "base_uri": "https://localhost:8080/",
          "height": 35
        },
        "id": "GDyRoG7ehL6n",
        "outputId": "9b3e938f-ef28-4739-f3aa-e654b328c1a2"
      },
      "source": [
        "\"12\".zfill(5)\n",
        "#zfill() method adds zeros at the beginning of the string ,untill it reaches the specified length\n",
        "#syntax====string.zfill(len)"
      ],
      "execution_count": null,
      "outputs": [
        {
          "output_type": "execute_result",
          "data": {
            "application/vnd.google.colaboratory.intrinsic+json": {
              "type": "string"
            },
            "text/plain": [
              "'00012'"
            ]
          },
          "metadata": {},
          "execution_count": 38
        }
      ]
    },
    {
      "cell_type": "code",
      "metadata": {
        "colab": {
          "base_uri": "https://localhost:8080/"
        },
        "id": "OipNEisAhaxH",
        "outputId": "237f48f5-04f8-4fa5-cccf-4aca6f8b728d"
      },
      "source": [
        "print(('{0:.3f}'.format(5.7416)))\n",
        "#print(('{4:.3f}'.format(10.7416))) #index should start from 0\n",
        "print(('{0:.6f}'.format(5.7416)))\n",
        "print(('{0:.4f}'.format(5.7416)))\n",
        "\n",
        "#it print a decimal number ,with 3 decimal digit accuracy here f is floating point..if digits are less then 0 will be added at last"
      ],
      "execution_count": null,
      "outputs": [
        {
          "output_type": "stream",
          "name": "stdout",
          "text": [
            "5.742\n",
            "5.741600\n",
            "5.7416\n"
          ]
        }
      ]
    },
    {
      "cell_type": "code",
      "metadata": {
        "colab": {
          "base_uri": "https://localhost:8080/"
        },
        "id": "hWQvYFk2jL8E",
        "outputId": "4670ddf2-e4f8-4686-8729-6f25889a648b"
      },
      "source": [
        "for x in ['sunny','monty']:\n",
        "  print('hi\"{}!\"'.format(x))"
      ],
      "execution_count": null,
      "outputs": [
        {
          "output_type": "stream",
          "name": "stdout",
          "text": [
            "hi\"sunny!\"\n",
            "hi\"monty!\"\n"
          ]
        }
      ]
    },
    {
      "cell_type": "code",
      "metadata": {
        "colab": {
          "base_uri": "https://localhost:8080/"
        },
        "id": "vV50Jzyaj3OJ",
        "outputId": "49762544-d632-4682-9d04-b95572ca5e24"
      },
      "source": [
        "for x in ['sunny','monty']:\n",
        "  print('hi\"{}!\"'.format(2))"
      ],
      "execution_count": null,
      "outputs": [
        {
          "output_type": "stream",
          "name": "stdout",
          "text": [
            "hi\"2!\"\n",
            "hi\"2!\"\n"
          ]
        }
      ]
    },
    {
      "cell_type": "code",
      "metadata": {
        "colab": {
          "base_uri": "https://localhost:8080/"
        },
        "id": "W4CRPwi4j7gp",
        "outputId": "08190586-cbb0-44ed-dc80-64d80a7692a8"
      },
      "source": [
        "print(('{0:3d},{2:6.1f},{1:4d}'.format(1,2,3.0)))"
      ],
      "execution_count": null,
      "outputs": [
        {
          "output_type": "stream",
          "name": "stdout",
          "text": [
            "  1,   3.0,   2\n"
          ]
        }
      ]
    },
    {
      "cell_type": "code",
      "metadata": {
        "colab": {
          "base_uri": "https://localhost:8080/"
        },
        "id": "t0ZR2_TRj7FX",
        "outputId": "e9089b23-6709-4a58-9798-4a57dd4f6868"
      },
      "source": [
        "count={'Unit':1,'tenth':10,'hundred':100}\n",
        "for place,value in count.items():\n",
        "  print(('{0:10}==>{1:10d}'.format(place,value)))"
      ],
      "execution_count": null,
      "outputs": [
        {
          "output_type": "stream",
          "name": "stdout",
          "text": [
            "Unit      ==>         1\n",
            "tenth     ==>        10\n",
            "hundred   ==>       100\n"
          ]
        }
      ]
    },
    {
      "cell_type": "code",
      "metadata": {
        "id": "URwQt7Fmmr-S",
        "colab": {
          "base_uri": "https://localhost:8080/"
        },
        "outputId": "eba08ffb-f191-4ab6-e26e-68a61fd763ff"
      },
      "source": [
        "#ask for users first name and display the output message\n",
        "first_name=input(\"enter first name:\")\n",
        "print(\"hello\",first_name)"
      ],
      "execution_count": null,
      "outputs": [
        {
          "output_type": "stream",
          "name": "stdout",
          "text": [
            "enter first name:tanu\n",
            "hello tanu\n"
          ]
        }
      ]
    },
    {
      "cell_type": "code",
      "metadata": {
        "colab": {
          "base_uri": "https://localhost:8080/"
        },
        "id": "A8ieYWWXLlnP",
        "outputId": "410e7855-4977-4010-d2b0-0bf3d12c3a06"
      },
      "source": [
        "num1=int(input(\"enter first team:\"))\n",
        "num2=int(input(\"enter second team:\"))\n",
        "ans=num1+num2\n",
        "print(\"the answer is\",ans)"
      ],
      "execution_count": null,
      "outputs": [
        {
          "output_type": "stream",
          "name": "stdout",
          "text": [
            "enter first team:56\n",
            "enter second team:78\n",
            "the answer is 134\n"
          ]
        }
      ]
    },
    {
      "cell_type": "code",
      "metadata": {
        "colab": {
          "base_uri": "https://localhost:8080/"
        },
        "id": "y03nTnGCMFiL",
        "outputId": "aaefbcb0-fe85-4109-8f08-c3229e9b87ac"
      },
      "source": [
        "num3=int(input(\"enter third number:\"))\n",
        "answer=ans*num3\n",
        "print(\"the answer is\",answer)"
      ],
      "execution_count": null,
      "outputs": [
        {
          "output_type": "stream",
          "name": "stdout",
          "text": [
            "enter third number:56\n",
            "the answer is 7504\n"
          ]
        }
      ]
    },
    {
      "cell_type": "code",
      "metadata": {
        "colab": {
          "base_uri": "https://localhost:8080/"
        },
        "id": "2_MW5YHwNeaJ",
        "outputId": "c37c133d-794a-49e9-9733-7fcbd24ee63c"
      },
      "source": [
        "x=int(input(\"how many slices you started:\"))\n",
        "y=int(input(\"how many slices you have eaten:\"))\n",
        "remain=x-y\n",
        "print(\"remaining slices you have is:\",remain)"
      ],
      "execution_count": null,
      "outputs": [
        {
          "output_type": "stream",
          "name": "stdout",
          "text": [
            "how many slices you started:7\n",
            "how many slices you have eaten:4\n",
            "remaining slices you have is: 3\n"
          ]
        }
      ]
    },
    {
      "cell_type": "code",
      "metadata": {
        "colab": {
          "base_uri": "https://localhost:8080/"
        },
        "id": "KRi6ezfOODgB",
        "outputId": "13ef1b90-2e49-460f-8f47-4d99e029a83a"
      },
      "source": [
        "name=input(\"enter your name:\")\n",
        "age=int(input(\"enter your age\"))\n",
        "new_age=age+1\n",
        "print(name,\"next bdday you will be\",new_age)"
      ],
      "execution_count": null,
      "outputs": [
        {
          "output_type": "stream",
          "name": "stdout",
          "text": [
            "enter your name:tanu\n",
            "enter your age21\n",
            "tanu next bdday you will be 22\n"
          ]
        }
      ]
    },
    {
      "cell_type": "code",
      "metadata": {
        "colab": {
          "base_uri": "https://localhost:8080/"
        },
        "id": "GxnchPIvPL_K",
        "outputId": "6082fcb5-c3f1-4a61-db45-f8e1f6bbc5fe"
      },
      "source": [
        "x=int(input(\"enter the total price of the bill:\"))\n",
        "y=int(input(\"how many dinners you have:\"))\n",
        "result=x/y\n",
        "print(\"each person must pay:\",result)"
      ],
      "execution_count": null,
      "outputs": [
        {
          "output_type": "stream",
          "name": "stdout",
          "text": [
            "enter the total price of the bill:500\n",
            "how many dinners you have:5\n",
            "each person must pay: 100.0\n"
          ]
        }
      ]
    },
    {
      "cell_type": "code",
      "metadata": {
        "colab": {
          "base_uri": "https://localhost:8080/"
        },
        "id": "CHQ6sHvLRwS6",
        "outputId": "a879c42b-e0ae-4de6-8cd0-a941265053e2"
      },
      "source": [
        "days=int(input(\"enter the number of days:\"))\n",
        "hours=days*24\n",
        "minutes=hours*60\n",
        "seconds=minutes*60\n",
        "print(\"In\",days,\"days there are...\")\n",
        "print(hours,\"hours\")\n",
        "print(minutes,\"minutes\")\n",
        "print(seconds,\"seconds\")"
      ],
      "execution_count": null,
      "outputs": [
        {
          "output_type": "stream",
          "name": "stdout",
          "text": [
            "enter the number of days:45\n",
            "In 45 days there are...\n",
            "1080 hours\n",
            "64800 minutes\n",
            "3888000 seconds\n"
          ]
        }
      ]
    },
    {
      "cell_type": "code",
      "metadata": {
        "colab": {
          "base_uri": "https://localhost:8080/"
        },
        "id": "jbzGZX5QTMnR",
        "outputId": "f95a3c48-c245-48d1-dc6e-03883499083d"
      },
      "source": [
        "kilo=int(input(\"enter the number of kilos:\"))\n",
        "pound=kilo*2.204\n",
        "print(\"that is\",pound,\"pounds\")"
      ],
      "execution_count": null,
      "outputs": [
        {
          "output_type": "stream",
          "name": "stdout",
          "text": [
            "enter the number of kilos:56\n",
            "that is 123.424 pounds\n"
          ]
        }
      ]
    },
    {
      "cell_type": "code",
      "metadata": {
        "colab": {
          "base_uri": "https://localhost:8080/"
        },
        "id": "1Rj8uYbyTqj4",
        "outputId": "b6460080-aad9-450b-83a2-015563df3ded"
      },
      "source": [
        "larger=int(input(\"enter the number over 100:\"))\n",
        "smaller=int(input(\"enter a number under 10:\"))\n",
        "ans=larger/smaller\n",
        "print(smaller,\"goes into\",larger,answer,\"times\")"
      ],
      "execution_count": null,
      "outputs": [
        {
          "output_type": "stream",
          "name": "stdout",
          "text": [
            "enter the number over 100:300\n",
            "enter a number under 10:23\n",
            "23 goes into 300 7504 times\n"
          ]
        }
      ]
    },
    {
      "cell_type": "code",
      "metadata": {
        "colab": {
          "base_uri": "https://localhost:8080/"
        },
        "id": "nlnHpb38UYi-",
        "outputId": "0c7b8a69-a5a8-4968-abff-be5259fda2f0"
      },
      "source": [
        "num1=int(input(\"enter first number:\"))\n",
        "num2=int(input(\"enter second number:\"))\n",
        "if num1>num2:\n",
        "  print(num1,num2)\n",
        "else:\n",
        "  print(num2,num1)  \n"
      ],
      "execution_count": null,
      "outputs": [
        {
          "output_type": "stream",
          "name": "stdout",
          "text": [
            "enter first number:45\n",
            "enter second number:67\n",
            "67 45\n"
          ]
        }
      ]
    },
    {
      "cell_type": "code",
      "metadata": {
        "colab": {
          "base_uri": "https://localhost:8080/"
        },
        "id": "Z-v4Mm7jVIek",
        "outputId": "93d1ecc7-34ed-42ea-83c9-b3898406c204"
      },
      "source": [
        "num=int(input(\"enter a number under 20:  \"))\n",
        "if num >= 20:\n",
        "  print(\"too high\")\n",
        "else:\n",
        "  print(\"thank you\")  "
      ],
      "execution_count": null,
      "outputs": [
        {
          "output_type": "stream",
          "name": "stdout",
          "text": [
            "enter a number under 20:  23\n",
            "too high\n"
          ]
        }
      ]
    },
    {
      "cell_type": "code",
      "metadata": {
        "colab": {
          "base_uri": "https://localhost:8080/"
        },
        "id": "i6_IVbVGWZ3B",
        "outputId": "87e91e20-82e6-4b69-d5ac-fef2c6bde8ee"
      },
      "source": [
        "colour=input(\"enter you fav. colour:\")\n",
        "if colour == \"red\" or colour ==\"Red\" or colour ==\"RED\":\n",
        "  print(\"i like red too!\")\n",
        "else:\n",
        "  print(\"i don't like\",colour,\"colour\",\"i prefer red\")  "
      ],
      "execution_count": null,
      "outputs": [
        {
          "output_type": "stream",
          "name": "stdout",
          "text": [
            "enter you fav. colour:df\n",
            "i don't like df colour i prefer red\n"
          ]
        }
      ]
    },
    {
      "cell_type": "code",
      "metadata": {
        "colab": {
          "base_uri": "https://localhost:8080/"
        },
        "id": "vWLuJvopXtf4",
        "outputId": "7940633a-d25c-4c60-e721-b2d0d57e75fb"
      },
      "source": [
        "raining=input(\"is it raining outside?\")\n",
        "raining=str.lower(raining)\n",
        "if raining==\"yes\":\n",
        "  windy=input(\"is it windy?\")\n",
        "  windy=str.lower(windy)\n",
        "  if windy==\"yes\":\n",
        "    print(\"its too windy for umbrella\")\n",
        "  else:\n",
        "    print(\"take an umbrella\")\n",
        "else:\n",
        "  print(\"have a good day\")          \n"
      ],
      "execution_count": null,
      "outputs": [
        {
          "output_type": "stream",
          "name": "stdout",
          "text": [
            "is it raining outside?yes\n",
            "is it windy?yes\n",
            "its too windy for umbrella\n"
          ]
        }
      ]
    },
    {
      "cell_type": "code",
      "metadata": {
        "colab": {
          "base_uri": "https://localhost:8080/"
        },
        "id": "bVLfvzNQaXLW",
        "outputId": "afc7124d-0b66-4d4a-9a17-1a42543ebe0b"
      },
      "source": [
        "first_name=input(\"enter your first name::\")\n",
        "len=len(first_name)\n",
        "print(\"length of your first name is\",len)"
      ],
      "execution_count": null,
      "outputs": [
        {
          "output_type": "stream",
          "name": "stdout",
          "text": [
            "enter your first name::Tanu\n",
            "length of your first name is 4\n"
          ]
        }
      ]
    },
    {
      "cell_type": "code",
      "metadata": {
        "colab": {
          "base_uri": "https://localhost:8080/"
        },
        "id": "wtuvLpdUF6lB",
        "outputId": "9acb33cc-7ee7-467e-90bf-ca4ac5664b4e"
      },
      "source": [
        "num=float(input(\"enter a number with lots of decimal places:\"))\n",
        "ans=num*2\n",
        "print(ans)"
      ],
      "execution_count": 5,
      "outputs": [
        {
          "output_type": "stream",
          "name": "stdout",
          "text": [
            "enter a number with lots of decimal places:56.87876\n",
            "113.75752\n"
          ]
        }
      ]
    },
    {
      "cell_type": "code",
      "metadata": {
        "colab": {
          "base_uri": "https://localhost:8080/"
        },
        "id": "EKvLWXB-I0mg",
        "outputId": "62aa0333-0176-41f6-e657-b22e62665dc2"
      },
      "source": [
        "#update program 027 so that it display the answer to two decimal places\n",
        "numm=float(input(\"enter a number with lots\"))\n",
        "anss=numm*2\n",
        "print(round(anss,2))"
      ],
      "execution_count": 6,
      "outputs": [
        {
          "output_type": "stream",
          "name": "stdout",
          "text": [
            "enter a number with lots65.887\n",
            "131.77\n"
          ]
        }
      ]
    },
    {
      "cell_type": "code",
      "metadata": {
        "colab": {
          "base_uri": "https://localhost:8080/"
        },
        "id": "3mdbhe5eKStr",
        "outputId": "b83f8279-c77b-44a4-d542-10fb3728d3de"
      },
      "source": [
        "import math\n",
        "nummm=int(input(\"enter an integer over 500::\"))\n",
        "answerr=math.sqrt(nummm)\n",
        "print(round(answerr,2))\n"
      ],
      "execution_count": 7,
      "outputs": [
        {
          "output_type": "stream",
          "name": "stdout",
          "text": [
            "enter an integer over 500::6788\n",
            "82.39\n"
          ]
        }
      ]
    },
    {
      "cell_type": "code",
      "metadata": {
        "colab": {
          "base_uri": "https://localhost:8080/"
        },
        "id": "GpgLwOzWKyD2",
        "outputId": "99464d7f-8de1-4bb3-8f18-e8dcb339c348"
      },
      "source": [
        "#display pi to five decimal places\n",
        "print(round(math.pi,5))"
      ],
      "execution_count": 8,
      "outputs": [
        {
          "output_type": "stream",
          "name": "stdout",
          "text": [
            "3.14159\n"
          ]
        }
      ]
    },
    {
      "cell_type": "code",
      "metadata": {
        "colab": {
          "base_uri": "https://localhost:8080/"
        },
        "id": "s1YwyVr2K6gc",
        "outputId": "dadca9cd-e746-4133-f2bb-eba436a2c937"
      },
      "source": [
        "radius=float(input(\"enter the radius of a circle\"))\n",
        "area=3.14*radius*radius\n",
        "print(area)"
      ],
      "execution_count": 9,
      "outputs": [
        {
          "output_type": "stream",
          "name": "stdout",
          "text": [
            "enter the radius of a circle67\n",
            "14095.46\n"
          ]
        }
      ]
    },
    {
      "cell_type": "code",
      "metadata": {
        "colab": {
          "base_uri": "https://localhost:8080/"
        },
        "id": "ZDdKIVIcMx41",
        "outputId": "fbc0687c-7ffe-4929-fe19-b49a3ce2ce9e"
      },
      "source": [
        "import math\n",
        "areaa=math.pi*(radius**2)\n",
        "print(areaa)"
      ],
      "execution_count": 10,
      "outputs": [
        {
          "output_type": "stream",
          "name": "stdout",
          "text": [
            "14102.609421964582\n"
          ]
        }
      ]
    },
    {
      "cell_type": "code",
      "metadata": {
        "colab": {
          "base_uri": "https://localhost:8080/"
        },
        "id": "emmB-3mHNAR1",
        "outputId": "87434d1f-31f0-456d-b2af-d7661fc6e0b9"
      },
      "source": [
        "numm1=int(input(\"enter first number::\"))\n",
        "numm2=int(input(\"enter second number::\"))\n",
        "rem=numm1%numm2\n",
        "div=numm1//numm2\n",
        "print(numm1,\"divide by\",numm2,\"is\",div,\"with\",rem,\"remaining\")\n"
      ],
      "execution_count": 13,
      "outputs": [
        {
          "output_type": "stream",
          "name": "stdout",
          "text": [
            "enter first number::66\n",
            "enter second number::77\n",
            "66 divide by 77 is 0 with 66 remaining\n"
          ]
        }
      ]
    },
    {
      "cell_type": "code",
      "metadata": {
        "colab": {
          "base_uri": "https://localhost:8080/"
        },
        "id": "Sy6Dd_IcOfod",
        "outputId": "2d6b5dd6-0ef8-423d-c19e-be0f0f91528c"
      },
      "source": [
        "print('''1).Square\n",
        "       2).Triangle''')\n",
        "nn=int(input(\"enter a number: 1 or 2\"))\n",
        "if nn==1:\n",
        "  a=int(input(\"enter the length of one side of square::\"))\n",
        "  area1=a*a\n",
        "  print(\"area of square is \",area1)\n",
        "elif nn==2:\n",
        "  b=int(input(\"enter the base of traingle\"))\n",
        "  c=int(input(\"enter the height of triangle\"))  \n",
        "  areaaaa=(b*c)/2\n",
        "  print(areaaaa)\n",
        "else:\n",
        "  print(\"invalid number please enter only from 1 or 2\")  "
      ],
      "execution_count": 14,
      "outputs": [
        {
          "output_type": "stream",
          "name": "stdout",
          "text": [
            "1).Square\n",
            "       2).Triangle\n",
            "enter a number: 1 or 22\n",
            "enter the base of traingle56\n",
            "enter the height of triangle65\n",
            "1820.0\n"
          ]
        }
      ]
    },
    {
      "cell_type": "code",
      "metadata": {
        "colab": {
          "base_uri": "https://localhost:8080/"
        },
        "id": "tOLSXsbXQEIH",
        "outputId": "b8acb9ea-4bd3-49bb-ba58-d144173d229c"
      },
      "source": [
        "name_1=input(\"enter your name::\")\n",
        "for i in range(1,6):\n",
        "  print(name_1)"
      ],
      "execution_count": 16,
      "outputs": [
        {
          "output_type": "stream",
          "name": "stdout",
          "text": [
            "enter your name::Tanu Rajput\n",
            "Tanu Rajput\n",
            "Tanu Rajput\n",
            "Tanu Rajput\n",
            "Tanu Rajput\n",
            "Tanu Rajput\n"
          ]
        }
      ]
    },
    {
      "cell_type": "code",
      "metadata": {
        "colab": {
          "base_uri": "https://localhost:8080/"
        },
        "id": "IJljiZgUSfuj",
        "outputId": "08e53797-cc37-476c-8463-655dc021a21f"
      },
      "source": [
        "n=int(input(\"enter a number how muvh times you want to print\"))\n",
        "for k in range(0,n):\n",
        "  print(name_1)"
      ],
      "execution_count": 18,
      "outputs": [
        {
          "output_type": "stream",
          "name": "stdout",
          "text": [
            "enter a number how muvh times you want to print4\n",
            "Tanu Rajput\n",
            "Tanu Rajput\n",
            "Tanu Rajput\n",
            "Tanu Rajput\n"
          ]
        }
      ]
    },
    {
      "cell_type": "code",
      "metadata": {
        "colab": {
          "base_uri": "https://localhost:8080/"
        },
        "id": "wQxbRAkZS59B",
        "outputId": "c0c14e35-b33d-4fa9-d28d-b6182cb4a633"
      },
      "source": [
        "for i in range(0,3):\n",
        "  print(i)"
      ],
      "execution_count": 19,
      "outputs": [
        {
          "output_type": "stream",
          "name": "stdout",
          "text": [
            "0\n",
            "1\n",
            "2\n"
          ]
        }
      ]
    },
    {
      "cell_type": "code",
      "metadata": {
        "colab": {
          "base_uri": "https://localhost:8080/"
        },
        "id": "y6Rh-xXpTRA_",
        "outputId": "6c666042-53d8-4ede-dcce-035fdbd24d18"
      },
      "source": [
        "for i in range(0,n):\n",
        "  for k in name_1:\n",
        "    print(i)"
      ],
      "execution_count": 20,
      "outputs": [
        {
          "output_type": "stream",
          "name": "stdout",
          "text": [
            "0\n",
            "0\n",
            "0\n",
            "0\n",
            "0\n",
            "0\n",
            "0\n",
            "0\n",
            "0\n",
            "0\n",
            "0\n",
            "1\n",
            "1\n",
            "1\n",
            "1\n",
            "1\n",
            "1\n",
            "1\n",
            "1\n",
            "1\n",
            "1\n",
            "1\n",
            "2\n",
            "2\n",
            "2\n",
            "2\n",
            "2\n",
            "2\n",
            "2\n",
            "2\n",
            "2\n",
            "2\n",
            "2\n",
            "3\n",
            "3\n",
            "3\n",
            "3\n",
            "3\n",
            "3\n",
            "3\n",
            "3\n",
            "3\n",
            "3\n",
            "3\n"
          ]
        }
      ]
    }
  ]
}