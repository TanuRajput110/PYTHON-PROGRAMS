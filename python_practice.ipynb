{
  "nbformat": 4,
  "nbformat_minor": 0,
  "metadata": {
    "colab": {
      "name": "python practice.ipynb",
      "provenance": [],
      "collapsed_sections": [],
      "authorship_tag": "ABX9TyNScEqRdo+hkmCd96POYxkE",
      "include_colab_link": true
    },
    "kernelspec": {
      "name": "python3",
      "display_name": "Python 3"
    },
    "language_info": {
      "name": "python"
    }
  },
  "cells": [
    {
      "cell_type": "markdown",
      "metadata": {
        "id": "view-in-github",
        "colab_type": "text"
      },
      "source": [
        "<a href=\"https://colab.research.google.com/github/TanuRajput110/PYTHON-PROGRAMS/blob/main/python_practice.ipynb\" target=\"_parent\"><img src=\"https://colab.research.google.com/assets/colab-badge.svg\" alt=\"Open In Colab\"/></a>"
      ]
    },
    {
      "cell_type": "markdown",
      "metadata": {
        "id": "wMOxz4EFXs2P"
      },
      "source": [
        "##INPUT AND OUTPUT"
      ]
    },
    {
      "cell_type": "code",
      "metadata": {
        "colab": {
          "base_uri": "https://localhost:8080/"
        },
        "id": "uWfUM3gAYFmW",
        "outputId": "f8db8695-db87-42fa-c994-619101af2fb2"
      },
      "source": [
        "print(\"THANK YOU GOD\")"
      ],
      "execution_count": 1,
      "outputs": [
        {
          "output_type": "stream",
          "name": "stdout",
          "text": [
            "THANK YOU GOD\n"
          ]
        }
      ]
    },
    {
      "cell_type": "code",
      "metadata": {
        "colab": {
          "base_uri": "https://localhost:8080/"
        },
        "id": "eWJDiFy1Xnne",
        "outputId": "937a25f4-1427-419c-bb8e-70a8e4609038"
      },
      "source": [
        "\n",
        "x=\"pinky\"\n",
        "print(\"believe youself\",x)\n",
        "print(x + \" pinku\")"
      ],
      "execution_count": 4,
      "outputs": [
        {
          "output_type": "stream",
          "name": "stdout",
          "text": [
            "believe youself pinky\n",
            "pinky pinku\n"
          ]
        }
      ]
    },
    {
      "cell_type": "code",
      "metadata": {
        "colab": {
          "base_uri": "https://localhost:8080/"
        },
        "id": "ES287EzMYaJg",
        "outputId": "a5365a34-fc0c-49e0-804e-41573b86f26c"
      },
      "source": [
        "print(\"3 raised to power 4=\",3**4)"
      ],
      "execution_count": 5,
      "outputs": [
        {
          "output_type": "stream",
          "name": "stdout",
          "text": [
            "3 raised to power 4= 81\n"
          ]
        }
      ]
    },
    {
      "cell_type": "code",
      "metadata": {
        "colab": {
          "base_uri": "https://localhost:8080/"
        },
        "id": "2QMmUmhDZOVf",
        "outputId": "4b60fd05-c75e-4a3f-e95d-e84ac557ae47"
      },
      "source": [
        "m=10\n",
        "n=20\n",
        "print(m ,\"+\" ,n ,\"=\" ,m+n)\n",
        "\n"
      ],
      "execution_count": 9,
      "outputs": [
        {
          "output_type": "stream",
          "name": "stdout",
          "text": [
            "10 + 20 = 30\n"
          ]
        }
      ]
    },
    {
      "cell_type": "code",
      "metadata": {
        "colab": {
          "base_uri": "https://localhost:8080/"
        },
        "id": "8hvKnqz3aIJd",
        "outputId": "2f6d0584-059a-4e0f-c66d-f9454a689894"
      },
      "source": [
        "print(2+4,6/3,90*8)"
      ],
      "execution_count": 10,
      "outputs": [
        {
          "output_type": "stream",
          "name": "stdout",
          "text": [
            "6 2.0 720\n"
          ]
        }
      ]
    },
    {
      "cell_type": "code",
      "metadata": {
        "colab": {
          "base_uri": "https://localhost:8080/",
          "height": 52
        },
        "id": "6vjtEk86aXnx",
        "outputId": "31414967-971e-4297-bbdb-8c0969c26ea2"
      },
      "source": [
        "x=input()\n",
        "x\n"
      ],
      "execution_count": 13,
      "outputs": [
        {
          "name": "stdout",
          "output_type": "stream",
          "text": [
            "55\n"
          ]
        },
        {
          "output_type": "execute_result",
          "data": {
            "application/vnd.google.colaboratory.intrinsic+json": {
              "type": "string"
            },
            "text/plain": [
              "'55'"
            ]
          },
          "metadata": {},
          "execution_count": 13
        }
      ]
    },
    {
      "cell_type": "code",
      "metadata": {
        "colab": {
          "base_uri": "https://localhost:8080/"
        },
        "id": "hzXsRpMdas9U",
        "outputId": "c0cbea60-9fc8-4cee-e958-30ba43173844"
      },
      "source": [
        "print(x)"
      ],
      "execution_count": 14,
      "outputs": [
        {
          "output_type": "stream",
          "name": "stdout",
          "text": [
            "55\n"
          ]
        }
      ]
    },
    {
      "cell_type": "code",
      "metadata": {
        "colab": {
          "base_uri": "https://localhost:8080/"
        },
        "id": "2Ub2p318avur",
        "outputId": "b9ce4b3c-ee73-41ae-d892-bcfbfa61dc8d"
      },
      "source": [
        "x1=int(input('enter an integer number'))\n",
        "x1"
      ],
      "execution_count": 15,
      "outputs": [
        {
          "name": "stdout",
          "output_type": "stream",
          "text": [
            "enter an integer number56\n"
          ]
        },
        {
          "output_type": "execute_result",
          "data": {
            "text/plain": [
              "56"
            ]
          },
          "metadata": {},
          "execution_count": 15
        }
      ]
    },
    {
      "cell_type": "code",
      "metadata": {
        "colab": {
          "base_uri": "https://localhost:8080/"
        },
        "id": "2l74iBSja-V7",
        "outputId": "b4e4abcc-fe8e-4058-89d7-0db609da4e96"
      },
      "source": [
        "x=input()\n",
        "x1=int(input(\"enter a value\"))\n",
        "print(x1+1)"
      ],
      "execution_count": 16,
      "outputs": [
        {
          "output_type": "stream",
          "name": "stdout",
          "text": [
            "15\n",
            "enter a value4\n",
            "5\n"
          ]
        }
      ]
    },
    {
      "cell_type": "code",
      "metadata": {
        "colab": {
          "base_uri": "https://localhost:8080/"
        },
        "id": "M5Y_cKcebby_",
        "outputId": "3904648e-2dba-46c5-87d0-f1c9ead84a9f"
      },
      "source": [
        "val=int(input(\"enter a value\"))"
      ],
      "execution_count": 19,
      "outputs": [
        {
          "name": "stdout",
          "output_type": "stream",
          "text": [
            "enter a value56\n"
          ]
        }
      ]
    },
    {
      "cell_type": "code",
      "metadata": {
        "colab": {
          "base_uri": "https://localhost:8080/"
        },
        "id": "eK--DA5sb_A1",
        "outputId": "38cc4408-f083-4922-fe53-e64e47fb8e80"
      },
      "source": [
        "y=float(input(\"enter value\"))"
      ],
      "execution_count": 21,
      "outputs": [
        {
          "name": "stdout",
          "output_type": "stream",
          "text": [
            "enter value45\n"
          ]
        }
      ]
    },
    {
      "cell_type": "code",
      "metadata": {
        "colab": {
          "base_uri": "https://localhost:8080/"
        },
        "id": "ZNt2ISRscKIv",
        "outputId": "af3dc095-4040-4873-d422-c9ce9015e1b1"
      },
      "source": [
        "import string\n",
        "for i in range(5):\n",
        "  print(repr(i).rjust(5))\n",
        "\n",
        "#repr=itis an builtin function which is used to return the string representation of the value passed to eval function by default\n",
        "#(eval function = mostly used in situations or application which need to evaluate math expression)\n",
        "#rjust=(it is a built in function which returns a new string of given length after substituting a give character in left side of original string)\n",
        "#syntax ====string.rjust(length,fillchar)"
      ],
      "execution_count": 25,
      "outputs": [
        {
          "output_type": "stream",
          "name": "stdout",
          "text": [
            "    0\n",
            "    1\n",
            "    2\n",
            "    3\n",
            "    4\n"
          ]
        }
      ]
    },
    {
      "cell_type": "code",
      "metadata": {
        "colab": {
          "base_uri": "https://localhost:8080/"
        },
        "id": "5jMRLcJ2elHt",
        "outputId": "82da95d1-e800-461f-94e0-c5a87d3ccf95"
      },
      "source": [
        "string=\"greeks\"\n",
        "length=10\n",
        "fillchar='*'\n",
        "print(string.rjust(length))\n",
        "print(string.rjust(length,fillchar))"
      ],
      "execution_count": 31,
      "outputs": [
        {
          "output_type": "stream",
          "name": "stdout",
          "text": [
            "    greeks\n",
            "****greeks\n"
          ]
        }
      ]
    },
    {
      "cell_type": "code",
      "metadata": {
        "colab": {
          "base_uri": "https://localhost:8080/"
        },
        "id": "qfTdIlnNfeks",
        "outputId": "194abf4a-2e37-4a9b-f466-2fc9152c2288"
      },
      "source": [
        "string=\"greeks\"\n",
        "length=10\n",
        "fillchar='*'\n",
        "print(string.ljust(length))\n",
        "print(string.ljust(length,fillchar))"
      ],
      "execution_count": 32,
      "outputs": [
        {
          "output_type": "stream",
          "name": "stdout",
          "text": [
            "greeks    \n",
            "greeks****\n"
          ]
        }
      ]
    },
    {
      "cell_type": "code",
      "metadata": {
        "colab": {
          "base_uri": "https://localhost:8080/"
        },
        "id": "qBFAualLfo1C",
        "outputId": "2f812d14-386f-4a66-f782-c8f48c1cb7b5"
      },
      "source": [
        "for i in range(6):\n",
        "  print(repr(0).rjust(6))\n",
        "  print(repr(3).rjust(6))"
      ],
      "execution_count": 35,
      "outputs": [
        {
          "output_type": "stream",
          "name": "stdout",
          "text": [
            "     0\n",
            "     3\n",
            "     0\n",
            "     3\n",
            "     0\n",
            "     3\n",
            "     0\n",
            "     3\n",
            "     0\n",
            "     3\n",
            "     0\n",
            "     3\n"
          ]
        }
      ]
    },
    {
      "cell_type": "code",
      "metadata": {
        "colab": {
          "base_uri": "https://localhost:8080/"
        },
        "id": "RD9QZ6bWgH0Q",
        "outputId": "b7645b80-b38b-4b2a-c9d4-991c770af1bc"
      },
      "source": [
        "print(repr(23.3))"
      ],
      "execution_count": 36,
      "outputs": [
        {
          "output_type": "stream",
          "name": "stdout",
          "text": [
            "23.3\n"
          ]
        }
      ]
    },
    {
      "cell_type": "code",
      "metadata": {
        "colab": {
          "base_uri": "https://localhost:8080/",
          "height": 35
        },
        "id": "GDyRoG7ehL6n",
        "outputId": "9b3e938f-ef28-4739-f3aa-e654b328c1a2"
      },
      "source": [
        "\"12\".zfill(5)\n",
        "#zfill() method adds zeros at the beginning of the string ,untill it reaches the specified length\n",
        "#syntax====string.zfill(len)"
      ],
      "execution_count": 38,
      "outputs": [
        {
          "output_type": "execute_result",
          "data": {
            "application/vnd.google.colaboratory.intrinsic+json": {
              "type": "string"
            },
            "text/plain": [
              "'00012'"
            ]
          },
          "metadata": {},
          "execution_count": 38
        }
      ]
    },
    {
      "cell_type": "code",
      "metadata": {
        "colab": {
          "base_uri": "https://localhost:8080/"
        },
        "id": "OipNEisAhaxH",
        "outputId": "237f48f5-04f8-4fa5-cccf-4aca6f8b728d"
      },
      "source": [
        "print(('{0:.3f}'.format(5.7416)))\n",
        "#print(('{4:.3f}'.format(10.7416))) #index should start from 0\n",
        "print(('{0:.6f}'.format(5.7416)))\n",
        "print(('{0:.4f}'.format(5.7416)))\n",
        "\n",
        "#it print a decimal number ,with 3 decimal digit accuracy here f is floating point..if digits are less then 0 will be added at last"
      ],
      "execution_count": 48,
      "outputs": [
        {
          "output_type": "stream",
          "name": "stdout",
          "text": [
            "5.742\n",
            "5.741600\n",
            "5.7416\n"
          ]
        }
      ]
    },
    {
      "cell_type": "code",
      "metadata": {
        "colab": {
          "base_uri": "https://localhost:8080/"
        },
        "id": "hWQvYFk2jL8E",
        "outputId": "4670ddf2-e4f8-4686-8729-6f25889a648b"
      },
      "source": [
        "for x in ['sunny','monty']:\n",
        "  print('hi\"{}!\"'.format(x))"
      ],
      "execution_count": 49,
      "outputs": [
        {
          "output_type": "stream",
          "name": "stdout",
          "text": [
            "hi\"sunny!\"\n",
            "hi\"monty!\"\n"
          ]
        }
      ]
    },
    {
      "cell_type": "code",
      "metadata": {
        "colab": {
          "base_uri": "https://localhost:8080/"
        },
        "id": "vV50Jzyaj3OJ",
        "outputId": "49762544-d632-4682-9d04-b95572ca5e24"
      },
      "source": [
        "for x in ['sunny','monty']:\n",
        "  print('hi\"{}!\"'.format(2))"
      ],
      "execution_count": 50,
      "outputs": [
        {
          "output_type": "stream",
          "name": "stdout",
          "text": [
            "hi\"2!\"\n",
            "hi\"2!\"\n"
          ]
        }
      ]
    },
    {
      "cell_type": "code",
      "metadata": {
        "colab": {
          "base_uri": "https://localhost:8080/"
        },
        "id": "W4CRPwi4j7gp",
        "outputId": "08190586-cbb0-44ed-dc80-64d80a7692a8"
      },
      "source": [
        "print(('{0:3d},{2:6.1f},{1:4d}'.format(1,2,3.0)))"
      ],
      "execution_count": 51,
      "outputs": [
        {
          "output_type": "stream",
          "name": "stdout",
          "text": [
            "  1,   3.0,   2\n"
          ]
        }
      ]
    },
    {
      "cell_type": "code",
      "metadata": {
        "colab": {
          "base_uri": "https://localhost:8080/"
        },
        "id": "t0ZR2_TRj7FX",
        "outputId": "e9089b23-6709-4a58-9798-4a57dd4f6868"
      },
      "source": [
        "count={'Unit':1,'tenth':10,'hundred':100}\n",
        "for place,value in count.items():\n",
        "  print(('{0:10}==>{1:10d}'.format(place,value)))"
      ],
      "execution_count": 52,
      "outputs": [
        {
          "output_type": "stream",
          "name": "stdout",
          "text": [
            "Unit      ==>         1\n",
            "tenth     ==>        10\n",
            "hundred   ==>       100\n"
          ]
        }
      ]
    }
  ]
}