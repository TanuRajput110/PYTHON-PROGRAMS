{
  "nbformat": 4,
  "nbformat_minor": 0,
  "metadata": {
    "colab": {
      "name": "tuple,setpractice.ipynb",
      "provenance": [],
      "collapsed_sections": [],
      "authorship_tag": "ABX9TyN3KX6g7BbXjit1BngGzDiY",
      "include_colab_link": true
    },
    "kernelspec": {
      "name": "python3",
      "display_name": "Python 3"
    },
    "language_info": {
      "name": "python"
    }
  },
  "cells": [
    {
      "cell_type": "markdown",
      "metadata": {
        "id": "view-in-github",
        "colab_type": "text"
      },
      "source": [
        "<a href=\"https://colab.research.google.com/github/TanuRajput110/PYTHON-PROGRAMS/blob/main/tuple%2Csetpractice.ipynb\" target=\"_parent\"><img src=\"https://colab.research.google.com/assets/colab-badge.svg\" alt=\"Open In Colab\"/></a>"
      ]
    },
    {
      "cell_type": "markdown",
      "metadata": {
        "id": "9pUFQibabK6N"
      },
      "source": [
        "####Tuple"
      ]
    },
    {
      "cell_type": "markdown",
      "metadata": {
        "id": "64ivjpT8bPw4"
      },
      "source": [
        "--it is similar to list,              --but unlike list they are mutable,means they cann't be change\n"
      ]
    },
    {
      "cell_type": "code",
      "metadata": {
        "colab": {
          "base_uri": "https://localhost:8080/"
        },
        "id": "UD2nFLPld7Ss",
        "outputId": "50a6df4c-7022-45b2-dade-53895587bb02"
      },
      "source": [
        "#as we know tuple contain ().but with commas\n",
        "tuple_1=(1,)\n",
        "print(tuple_1)\n",
        "#what happened if we remove comma\n",
        "tuple_2=(1)\n",
        "tuple_2"
      ],
      "execution_count": 5,
      "outputs": [
        {
          "output_type": "stream",
          "name": "stdout",
          "text": [
            "(1,)\n"
          ]
        },
        {
          "output_type": "execute_result",
          "data": {
            "text/plain": [
              "1"
            ]
          },
          "metadata": {},
          "execution_count": 5
        }
      ]
    },
    {
      "cell_type": "code",
      "metadata": {
        "colab": {
          "base_uri": "https://localhost:8080/"
        },
        "id": "fGDf6iRaguNI",
        "outputId": "4c121115-41f2-479d-8b1f-218bbbaab1ad"
      },
      "source": [
        "#you also don't need to specify parenthesis for printing tuples\n",
        "tuple_1=1,\n",
        "tuple_1"
      ],
      "execution_count": 7,
      "outputs": [
        {
          "output_type": "execute_result",
          "data": {
            "text/plain": [
              "(1,)"
            ]
          },
          "metadata": {},
          "execution_count": 7
        }
      ]
    },
    {
      "cell_type": "code",
      "metadata": {
        "colab": {
          "base_uri": "https://localhost:8080/"
        },
        "id": "eEa5XkxzhaoH",
        "outputId": "6785e3e6-6e1a-460b-e57f-0fdb464d4a86"
      },
      "source": [
        "#when you apply sorted on a tuple that will result to list\n",
        "tuple_4=(3,4,8,1,4)\n",
        "sorted(tuple_1)\n",
        "#so sorted doesnt work for tuple becoz tuples are immutable"
      ],
      "execution_count": 19,
      "outputs": [
        {
          "output_type": "execute_result",
          "data": {
            "text/plain": [
              "[3, 3, 3, 4, 4, 5, 6, 7]"
            ]
          },
          "metadata": {},
          "execution_count": 19
        }
      ]
    },
    {
      "cell_type": "code",
      "metadata": {
        "colab": {
          "base_uri": "https://localhost:8080/"
        },
        "id": "ljKW4Er6ie7f",
        "outputId": "04c6f5ae-6587-4c87-9346-6059f6ba83e7"
      },
      "source": [
        "#if we have many same element in a tuple then index method only given the index of \n",
        "#first occuracy of that element in given tuple.\n",
        "tuple_3=(3,4,3,3,5,6,4,7)\n",
        "print(tuple_1.count(4))\n",
        "#finding element on index(tuple indexing)\n",
        "print(tuple_1[3])\n",
        "print(tuple_1[6])\n",
        "print(tuple_1[0])\n",
        "#finding index of any elements\n",
        "print(tuple_1.index(3))"
      ],
      "execution_count": 36,
      "outputs": [
        {
          "output_type": "stream",
          "name": "stdout",
          "text": [
            "2\n",
            "3\n",
            "4\n",
            "3\n",
            "0\n"
          ]
        }
      ]
    },
    {
      "cell_type": "code",
      "metadata": {
        "colab": {
          "base_uri": "https://localhost:8080/"
        },
        "id": "67MPMNBpnaNJ",
        "outputId": "d2fdbce5-224c-4496-da61-6ab0e03024c5"
      },
      "source": [
        "#tuple_slicing\n",
        "print(tuple_1[1:4])\n",
        "print(tuple_1[:]) #it print all the elements\n",
        "print(tuple_1[:-1])\n",
        "print(tuple_1[::-1])#it will print reverse \n",
        "print(tuple_1[1:4:2])#it print element from 1 to 3 with stepsize 2"
      ],
      "execution_count": 35,
      "outputs": [
        {
          "output_type": "stream",
          "name": "stdout",
          "text": [
            "(4, 3, 3)\n",
            "(3, 4, 3, 3, 5, 6, 4, 7)\n",
            "(3, 4, 3, 3, 5, 6, 4)\n",
            "(7, 4, 6, 5, 3, 3, 4, 3)\n",
            "(4, 3)\n"
          ]
        }
      ]
    },
    {
      "cell_type": "markdown",
      "metadata": {
        "id": "rOCbl2kdoRXd"
      },
      "source": [
        "###tuple methods"
      ]
    },
    {
      "cell_type": "code",
      "metadata": {
        "colab": {
          "base_uri": "https://localhost:8080/"
        },
        "id": "W02US0gDjz-E",
        "outputId": "b806c1ec-7811-4e8c-a4b1-a4157004a75b"
      },
      "source": [
        "#zip()::it return n-paired tuples\n",
        "print(zip(tuple_3,tuple_4))\n",
        "print(tuple(zip(tuple_3,tuple_4)))\n"
      ],
      "execution_count": 25,
      "outputs": [
        {
          "output_type": "stream",
          "name": "stdout",
          "text": [
            "<zip object at 0x7f4b0239ca50>\n",
            "((3, 3), (4, 4), (3, 8), (3, 1), (5, 4))\n"
          ]
        }
      ]
    },
    {
      "cell_type": "code",
      "metadata": {
        "colab": {
          "base_uri": "https://localhost:8080/"
        },
        "id": "zvSkm-kpmCop",
        "outputId": "daee2e33-1f93-45a2-c2ea-cb3ebb603ac5"
      },
      "source": [
        "#index()\n",
        "tuple_1.index(5)"
      ],
      "execution_count": 37,
      "outputs": [
        {
          "output_type": "execute_result",
          "data": {
            "text/plain": [
              "4"
            ]
          },
          "metadata": {},
          "execution_count": 37
        }
      ]
    },
    {
      "cell_type": "code",
      "metadata": {
        "colab": {
          "base_uri": "https://localhost:8080/"
        },
        "id": "QPg8OwCIpOAq",
        "outputId": "90991329-4ae8-4574-f25e-1223241ddf0f"
      },
      "source": [
        "#count()\n",
        "tuple_1.count(3)"
      ],
      "execution_count": 38,
      "outputs": [
        {
          "output_type": "execute_result",
          "data": {
            "text/plain": [
              "3"
            ]
          },
          "metadata": {},
          "execution_count": 38
        }
      ]
    },
    {
      "cell_type": "markdown",
      "metadata": {
        "id": "uZ5KY5x4peiJ"
      },
      "source": [
        "##Sets"
      ]
    },
    {
      "cell_type": "markdown",
      "metadata": {
        "id": "KfoViKwcqLZb"
      },
      "source": [
        "set is not a sequence .it is unordered collection of unique elements we can construct them by set() function.set cann't have duplicate. they are mutable."
      ]
    },
    {
      "cell_type": "code",
      "metadata": {
        "colab": {
          "base_uri": "https://localhost:8080/"
        },
        "id": "2aGo_WMwphqe",
        "outputId": "60f98e46-50a3-422d-a62d-040b59810c5a"
      },
      "source": [
        "#empty set will written as\n",
        "set()\n"
      ],
      "execution_count": 43,
      "outputs": [
        {
          "output_type": "execute_result",
          "data": {
            "text/plain": [
              "set()"
            ]
          },
          "metadata": {},
          "execution_count": 43
        }
      ]
    },
    {
      "cell_type": "code",
      "metadata": {
        "colab": {
          "base_uri": "https://localhost:8080/"
        },
        "id": "veT_lfkrqwYF",
        "outputId": "a720b49d-38f7-4972-82ee-a97148460b71"
      },
      "source": [
        "#non empty set always represented with curly braces\n",
        "x={1,2,3}\n",
        "x"
      ],
      "execution_count": 44,
      "outputs": [
        {
          "output_type": "execute_result",
          "data": {
            "text/plain": [
              "{1, 2, 3}"
            ]
          },
          "metadata": {},
          "execution_count": 44
        }
      ]
    },
    {
      "cell_type": "code",
      "metadata": {
        "colab": {
          "base_uri": "https://localhost:8080/"
        },
        "id": "yyKvG_nZq_Bn",
        "outputId": "c07d71b8-33bb-49b4-c654-99074833bd72"
      },
      "source": [
        "#we can have sets of multiple datatype\n",
        "y={1.2,2,\"tanu\",True}\n",
        "y"
      ],
      "execution_count": 45,
      "outputs": [
        {
          "output_type": "execute_result",
          "data": {
            "text/plain": [
              "{1.2, 2, True, 'tanu'}"
            ]
          },
          "metadata": {},
          "execution_count": 45
        }
      ]
    },
    {
      "cell_type": "markdown",
      "metadata": {
        "id": "ihFgLQuurrCw"
      },
      "source": [
        "an empty set can't be represented as {}.it will be an empty dict"
      ]
    },
    {
      "cell_type": "code",
      "metadata": {
        "colab": {
          "base_uri": "https://localhost:8080/",
          "height": 229
        },
        "id": "sjjJtwV7r471",
        "outputId": "ed02bc7d-a704-42bb-d65b-c96fd9653731"
      },
      "source": [
        "#set can't contain mutable type like list,etc.\n",
        "#but set itself a mutable type\n",
        "my_set={1,2,3,[4,5,6]}\n",
        "my_set\n",
        "#it will give error as list is mutable"
      ],
      "execution_count": 49,
      "outputs": [
        {
          "output_type": "error",
          "ename": "TypeError",
          "evalue": "ignored",
          "traceback": [
            "\u001b[0;31m---------------------------------------------------------------------------\u001b[0m",
            "\u001b[0;31mTypeError\u001b[0m                                 Traceback (most recent call last)",
            "\u001b[0;32m<ipython-input-49-9832bdb26a74>\u001b[0m in \u001b[0;36m<module>\u001b[0;34m()\u001b[0m\n\u001b[1;32m      1\u001b[0m \u001b[0;31m#set can't contain mutable type like list,etc.\u001b[0m\u001b[0;34m\u001b[0m\u001b[0;34m\u001b[0m\u001b[0;34m\u001b[0m\u001b[0m\n\u001b[1;32m      2\u001b[0m \u001b[0;31m#but set itself a mutable type\u001b[0m\u001b[0;34m\u001b[0m\u001b[0;34m\u001b[0m\u001b[0;34m\u001b[0m\u001b[0m\n\u001b[0;32m----> 3\u001b[0;31m \u001b[0mmy_set\u001b[0m\u001b[0;34m=\u001b[0m\u001b[0;34m{\u001b[0m\u001b[0;36m1\u001b[0m\u001b[0;34m,\u001b[0m\u001b[0;36m2\u001b[0m\u001b[0;34m,\u001b[0m\u001b[0;36m3\u001b[0m\u001b[0;34m,\u001b[0m\u001b[0;34m[\u001b[0m\u001b[0;36m4\u001b[0m\u001b[0;34m,\u001b[0m\u001b[0;36m5\u001b[0m\u001b[0;34m,\u001b[0m\u001b[0;36m6\u001b[0m\u001b[0;34m]\u001b[0m\u001b[0;34m}\u001b[0m\u001b[0;34m\u001b[0m\u001b[0;34m\u001b[0m\u001b[0m\n\u001b[0m\u001b[1;32m      4\u001b[0m \u001b[0mmy_set\u001b[0m\u001b[0;34m\u001b[0m\u001b[0;34m\u001b[0m\u001b[0m\n\u001b[1;32m      5\u001b[0m \u001b[0;31m#it will give error as list is mutable\u001b[0m\u001b[0;34m\u001b[0m\u001b[0;34m\u001b[0m\u001b[0;34m\u001b[0m\u001b[0m\n",
            "\u001b[0;31mTypeError\u001b[0m: unhashable type: 'list'"
          ]
        }
      ]
    },
    {
      "cell_type": "code",
      "metadata": {
        "colab": {
          "base_uri": "https://localhost:8080/"
        },
        "id": "DxtRSM65suHM",
        "outputId": "fb78273e-a6e6-4065-d707-01741d1b4905"
      },
      "source": [
        "#we can put tuples inside a set because it is immutable\n",
        "my_set={1,2,3,(4,5,6)}\n",
        "my_set"
      ],
      "execution_count": 50,
      "outputs": [
        {
          "output_type": "execute_result",
          "data": {
            "text/plain": [
              "{(4, 5, 6), 1, 2, 3}"
            ]
          },
          "metadata": {},
          "execution_count": 50
        }
      ]
    },
    {
      "cell_type": "markdown",
      "metadata": {
        "id": "83N9ns7dtTPR"
      },
      "source": [
        "methods of set"
      ]
    },
    {
      "cell_type": "code",
      "metadata": {
        "colab": {
          "base_uri": "https://localhost:8080/"
        },
        "id": "5oyQ6fxqtVXX",
        "outputId": "96fcc25e-6e25-4757-b4bc-9dea0563d7e4"
      },
      "source": [
        "#add()\n",
        "#use to add single elements\n",
        "my_set=set()\n",
        "my_set.add('a')\n",
        "my_set.add('2')\n",
        "my_set"
      ],
      "execution_count": 56,
      "outputs": [
        {
          "output_type": "execute_result",
          "data": {
            "text/plain": [
              "{'2', 'a'}"
            ]
          },
          "metadata": {},
          "execution_count": 56
        }
      ]
    },
    {
      "cell_type": "code",
      "metadata": {
        "colab": {
          "base_uri": "https://localhost:8080/"
        },
        "id": "DFIKnIYHt-0q",
        "outputId": "83d25fa5-7042-4ddb-bb6a-cd87e427de5a"
      },
      "source": [
        "#update()\n",
        "#to add multiple elements\n",
        "my_set.update([2, 3, 4])\n",
        "my_set\n",
        "#order may vary that doesn't matter"
      ],
      "execution_count": 63,
      "outputs": [
        {
          "output_type": "execute_result",
          "data": {
            "text/plain": [
              "{2, '2', 3, 4}"
            ]
          },
          "metadata": {},
          "execution_count": 63
        }
      ]
    },
    {
      "cell_type": "code",
      "metadata": {
        "colab": {
          "base_uri": "https://localhost:8080/"
        },
        "id": "3SSGtzBpubtW",
        "outputId": "7ec36a1d-ffdc-4d4e-b6c8-23ceedcdd492"
      },
      "source": [
        "#remove()\n",
        "#use to remove an item from set\n",
        "my_set.remove(4)\n",
        "my_set.remove(3)\n",
        "my_set"
      ],
      "execution_count": 64,
      "outputs": [
        {
          "output_type": "execute_result",
          "data": {
            "text/plain": [
              "{2, '2'}"
            ]
          },
          "metadata": {},
          "execution_count": 64
        }
      ]
    },
    {
      "cell_type": "code",
      "metadata": {
        "colab": {
          "base_uri": "https://localhost:8080/"
        },
        "id": "yuxKb9P6vCSL",
        "outputId": "92331a35-85c3-4e71-c24a-7d4f0d33a4fe"
      },
      "source": [
        "#union\n",
        "A = {1, 2, 3, 4, 5}\n",
        "B = {4, 5, 6, 7, 8}\n",
        "print(A.union(B))\n",
        "print(A|B)"
      ],
      "execution_count": 67,
      "outputs": [
        {
          "output_type": "stream",
          "name": "stdout",
          "text": [
            "{1, 2, 3, 4, 5, 6, 7, 8}\n",
            "{1, 2, 3, 4, 5, 6, 7, 8}\n"
          ]
        }
      ]
    },
    {
      "cell_type": "code",
      "metadata": {
        "colab": {
          "base_uri": "https://localhost:8080/"
        },
        "id": "ARVPWZD-vMNk",
        "outputId": "26036278-40ed-4c1c-a3c0-7937b1344d73"
      },
      "source": [
        "#intersection\n",
        "print(A.intersection(B))\n",
        "print(A&B)"
      ],
      "execution_count": 68,
      "outputs": [
        {
          "output_type": "stream",
          "name": "stdout",
          "text": [
            "{4, 5}\n",
            "{4, 5}\n"
          ]
        }
      ]
    },
    {
      "cell_type": "code",
      "metadata": {
        "colab": {
          "base_uri": "https://localhost:8080/"
        },
        "id": "eScRcplhvj1v",
        "outputId": "b70db7b9-6960-43cb-d1ba-01a16ffe55ca"
      },
      "source": [
        "#difference()\n",
        "print(A.difference(B))\n",
        "print(A-B)"
      ],
      "execution_count": 69,
      "outputs": [
        {
          "output_type": "stream",
          "name": "stdout",
          "text": [
            "{1, 2, 3}\n",
            "{1, 2, 3}\n"
          ]
        }
      ]
    },
    {
      "cell_type": "code",
      "metadata": {
        "colab": {
          "base_uri": "https://localhost:8080/"
        },
        "id": "BJGSExRUvxYR",
        "outputId": "f78707d8-376d-4f88-b854-26a3d739e3b9"
      },
      "source": [
        "#SYMMETRIC_DIFFERENCE()\n",
        "#symmetric_difference() method returns the set of elements in A and B but not in both (excluding the intersection)\n",
        "#Also denoted by the operator ^\n",
        "print(A.symmetric_difference(B))\n",
        "print(A^B)"
      ],
      "execution_count": 71,
      "outputs": [
        {
          "output_type": "stream",
          "name": "stdout",
          "text": [
            "{1, 2, 3, 6, 7, 8}\n",
            "{1, 2, 3, 6, 7, 8}\n"
          ]
        }
      ]
    }
  ]
}