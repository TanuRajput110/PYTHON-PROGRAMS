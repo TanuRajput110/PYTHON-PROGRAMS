{
  "nbformat": 4,
  "nbformat_minor": 0,
  "metadata": {
    "colab": {
      "name": "python_p.ipynb",
      "provenance": [],
      "collapsed_sections": [],
      "authorship_tag": "ABX9TyOSoC4OaEfEIbJAbsHwSodf",
      "include_colab_link": true
    },
    "kernelspec": {
      "name": "python3",
      "display_name": "Python 3"
    },
    "language_info": {
      "name": "python"
    }
  },
  "cells": [
    {
      "cell_type": "markdown",
      "metadata": {
        "id": "view-in-github",
        "colab_type": "text"
      },
      "source": [
        "<a href=\"https://colab.research.google.com/github/TanuRajput110/PYTHON-PROGRAMS/blob/main/python_p.ipynb\" target=\"_parent\"><img src=\"https://colab.research.google.com/assets/colab-badge.svg\" alt=\"Open In Colab\"/></a>"
      ]
    },
    {
      "cell_type": "markdown",
      "metadata": {
        "id": "Bd0RfcauEGhf"
      },
      "source": [
        "Few python problems"
      ]
    },
    {
      "cell_type": "code",
      "metadata": {
        "id": "wWMhqI9qIFX0"
      },
      "source": [
        "#checking of perfect number\n",
        "def perfect_number(n):\n",
        "    sum = 0\n",
        "    for x in range(1, n):\n",
        "        if n % x == 0:\n",
        "            sum += x\n",
        "    return sum == n\n",
        "print(perfect_number(6))\n",
        " "
      ],
      "execution_count": null,
      "outputs": []
    },
    {
      "cell_type": "code",
      "metadata": {
        "colab": {
          "base_uri": "https://localhost:8080/"
        },
        "id": "g1qfeFIBIqdt",
        "outputId": "2c3deca2-114b-41f8-fc17-96476c5f5e2d"
      },
      "source": [
        "#input the number whic you want to check is it perfect or not?\n",
        "n = int(input(\"Enter any number: \"))\n",
        "#just initialize the sum=0 \n",
        "sum1 = 0\n",
        "#start a for loop wit variable x and range 1 to the inputted number\n",
        "for x in range(1, n):\n",
        "    if(n % x == 0):  #if number is totally divisible ny x variable\n",
        "        sum1+= x     #then sum up the variable x in each iteration\n",
        "if (sum1 == n):      #now check if sum1 is eual to our inputted number\n",
        "    print(\"The number is a Perfect number!\")   #if yes then it is a perfect number\n",
        "else:\n",
        "    print(\"The number is not a Perfect number!\")   #if not then it is not a perfect\n"
      ],
      "execution_count": 1,
      "outputs": [
        {
          "output_type": "stream",
          "name": "stdout",
          "text": [
            "Enter any number: 6\n",
            "The number is a Perfect number!\n"
          ]
        }
      ]
    },
    {
      "cell_type": "code",
      "metadata": {
        "colab": {
          "base_uri": "https://localhost:8080/"
        },
        "id": "_V8TtPjxFPUa",
        "outputId": "fbdb7677-fb7e-43de-8db9-71eb91e28db3"
      },
      "source": [
        "#variable assignment\n",
        "#in a python,a variable allows you to refer a value with a name. to create a variable use '='.\n",
        "#quetion:::create a variable 'savings' with the value 100.check out this variable by typing 'print(savings) in the script\n",
        "savings=100\n",
        "print(\"savings:\")\n",
        "print(savings)\n",
        "\n",
        "\n",
        "#create a variable 'growth_multiplier'equal to 1.1,create a variable 'result',equal to the amount of money you saved after 7 years. print the value of result\n",
        "growth_multiplier=1.1\n",
        "result=savings*growth_multiplier**7\n",
        "print(\"result::\")\n",
        "print(result)"
      ],
      "execution_count": 3,
      "outputs": [
        {
          "output_type": "stream",
          "name": "stdout",
          "text": [
            "savings:\n",
            "100\n",
            "result::\n",
            "194.87171000000012\n"
          ]
        }
      ]
    },
    {
      "cell_type": "markdown",
      "metadata": {
        "id": "kdjRN007XCbt"
      },
      "source": [
        "###INT,FLOAT,*`BOOLEAN`*"
      ]
    },
    {
      "cell_type": "code",
      "metadata": {
        "colab": {
          "base_uri": "https://localhost:8080/"
        },
        "id": "77Rtrc7HGyNY",
        "outputId": "a139430e-dd7c-4980-a696-5d45fed84fc3"
      },
      "source": [
        "#create a new string,'desc' with the value 'compound interest' . create a new boolean,'profitable' with the value True\n",
        "desc=\"compound interest\"\n",
        "profitable=True\n",
        "#assign product of growth_multiplier and savings to year1\n",
        "year1=growth_multiplier*savings\n",
        "#print  type of year1\n",
        "print(type(year1))\n",
        "print(year1)\n"
      ],
      "execution_count": 6,
      "outputs": [
        {
          "output_type": "stream",
          "name": "stdout",
          "text": [
            "<class 'float'>\n",
            "110.00000000000001\n"
          ]
        }
      ]
    },
    {
      "cell_type": "code",
      "metadata": {
        "colab": {
          "base_uri": "https://localhost:8080/"
        },
        "id": "ihRwwhvCIkzi",
        "outputId": "dec94d86-f29e-449f-d5e1-dc0b91f4f411"
      },
      "source": [
        "#type conversion\n",
        "pi=\"4.56565\"\n",
        "print(float(str(pi)))"
      ],
      "execution_count": 7,
      "outputs": [
        {
          "output_type": "stream",
          "name": "stdout",
          "text": [
            "4.56565\n"
          ]
        }
      ]
    },
    {
      "cell_type": "code",
      "metadata": {
        "colab": {
          "base_uri": "https://localhost:8080/"
        },
        "id": "qTNKonMeJvGW",
        "outputId": "1b0ae345-0a4a-422d-9dab-a9702a887139"
      },
      "source": [
        "\n",
        "print(\"i can add integer,like  \"+  str(5)+\"  to strings\")"
      ],
      "execution_count": 13,
      "outputs": [
        {
          "output_type": "stream",
          "name": "stdout",
          "text": [
            "i can add integer,like  5  to strings\n"
          ]
        }
      ]
    },
    {
      "cell_type": "code",
      "metadata": {
        "colab": {
          "base_uri": "https://localhost:8080/"
        },
        "id": "WD_fZSJ0KUee",
        "outputId": "19066870-b1fd-40c1-f468-a65fd4607be9"
      },
      "source": [
        "print(\"i said  \"+(\"hay  \"*2)+\"  hey\")"
      ],
      "execution_count": 14,
      "outputs": [
        {
          "output_type": "stream",
          "name": "stdout",
          "text": [
            "i said  hay  hay    hey\n"
          ]
        }
      ]
    },
    {
      "cell_type": "code",
      "metadata": {
        "colab": {
          "base_uri": "https://localhost:8080/"
        },
        "id": "oVugJyz5KkZ8",
        "outputId": "cc0f671f-fbc2-43f8-df3f-19bbd8b3abec"
      },
      "source": [
        "print(True+False)"
      ],
      "execution_count": 16,
      "outputs": [
        {
          "output_type": "stream",
          "name": "stdout",
          "text": [
            "1\n"
          ]
        }
      ]
    },
    {
      "cell_type": "markdown",
      "metadata": {
        "id": "T_ulUBpkRhuv"
      },
      "source": [
        "## *`Que:which of these true for python?`*\n",
        "\n",
        "1.variable do not allow you to refer a value with a name\n",
        "\n",
        "2.variable can be created by using = sign\n",
        "\n",
        "\n",
        "3.variable can't be used for calculation\n",
        "\n",
        "ans===2"
      ]
    },
    {
      "cell_type": "markdown",
      "metadata": {
        "id": "e_yA6mTOSILf"
      },
      "source": [
        "## *`Que:: which of the following statements checks the type of the number 5.0?`*\n",
        "\n",
        "1.type(5.0)\n",
        "\n",
        "   2.Type(5.0)\n",
        "\n",
        "3.typeof 5.0\n",
        "\n",
        "ans::1"
      ]
    },
    {
      "cell_type": "code",
      "metadata": {
        "colab": {
          "base_uri": "https://localhost:8080/"
        },
        "id": "bWmFWvHiSmkl",
        "outputId": "19f16c5e-df92-4ec9-d439-f258ea39067a"
      },
      "source": [
        "#que::complete the code to return the output? print(8+?(8.5))\n",
        "print(8+int(8.5))\n",
        "#so that answer come 16"
      ],
      "execution_count": 18,
      "outputs": [
        {
          "output_type": "stream",
          "name": "stdout",
          "text": [
            "16\n"
          ]
        }
      ]
    },
    {
      "cell_type": "markdown",
      "metadata": {
        "id": "dCnVuCb2S_pI"
      },
      "source": [
        "## *`Que::type() function is used to determine the data type of an object.`*"
      ]
    },
    {
      "cell_type": "code",
      "metadata": {
        "colab": {
          "base_uri": "https://localhost:8080/"
        },
        "id": "CgBc1eXTS9qy",
        "outputId": "9b5508bb-e53b-4a64-b348-08f8f9b5175c"
      },
      "source": [
        "#complete the code to return the output---?\n",
        "#?division\n",
        "#print(3/8)\n",
        "#division\n",
        "print(3/8)\n"
      ],
      "execution_count": 19,
      "outputs": [
        {
          "output_type": "stream",
          "name": "stdout",
          "text": [
            "0.375\n"
          ]
        }
      ]
    },
    {
      "cell_type": "markdown",
      "metadata": {
        "id": "oDzreCQVT2Fw"
      },
      "source": [
        "## *`Que::which of these is true for python comments?`*\n",
        "1.comments are used to run your python code\n",
        "\n",
        "2.comments can't be ignored duriong execution\n",
        "\n",
        "3.comments are run as python code\n",
        "\n",
        "4.comments can help other to understand your code\n",
        "\n",
        "ans:::4"
      ]
    },
    {
      "cell_type": "code",
      "metadata": {
        "colab": {
          "base_uri": "https://localhost:8080/"
        },
        "id": "0BKdeJp-UO-S",
        "outputId": "be20a379-f33c-459d-bd96-4d7ed1aad5d4"
      },
      "source": [
        "#select the code to return the output\n",
        "#<class'int'>\n",
        "p=\"1\"\n",
        "print(type(p))\n",
        "p=2\n",
        "print(type(p))\n",
        "p=True\n",
        "print(type(p))"
      ],
      "execution_count": 21,
      "outputs": [
        {
          "output_type": "stream",
          "name": "stdout",
          "text": [
            "<class 'str'>\n",
            "<class 'int'>\n",
            "<class 'bool'>\n"
          ]
        }
      ]
    },
    {
      "cell_type": "code",
      "metadata": {
        "colab": {
          "base_uri": "https://localhost:8080/"
        },
        "id": "wp0KspCgU3SF",
        "outputId": "690d7888-0a70-4acc-b5c0-3bbbb7bc1c73"
      },
      "source": [
        "#what is the output of this code?\n",
        "x=\"hey!\"\n",
        "print(x*2)"
      ],
      "execution_count": 23,
      "outputs": [
        {
          "output_type": "stream",
          "name": "stdout",
          "text": [
            "hey!hey!\n"
          ]
        }
      ]
    },
    {
      "cell_type": "markdown",
      "metadata": {
        "id": "ij45YBnhVKGT"
      },
      "source": [
        "## *`Que:which symbol marks the beginning of a comments in python?`*\n",
        "\n",
        "ans::  #"
      ]
    },
    {
      "cell_type": "code",
      "metadata": {
        "colab": {
          "base_uri": "https://localhost:8080/"
        },
        "id": "5QXXZxNHVUQr",
        "outputId": "935533f6-5908-4a64-efc3-80bdae9e6011"
      },
      "source": [
        "#what is the output of this code?\n",
        "x=4\n",
        "print(x%7+6)"
      ],
      "execution_count": 24,
      "outputs": [
        {
          "output_type": "stream",
          "name": "stdout",
          "text": [
            "10\n"
          ]
        }
      ]
    },
    {
      "cell_type": "markdown",
      "metadata": {
        "id": "PQKzWxv4XIr9"
      },
      "source": [
        "##*`LIST`*"
      ]
    },
    {
      "cell_type": "code",
      "metadata": {
        "colab": {
          "base_uri": "https://localhost:8080/"
        },
        "id": "f2YZer3XXLro",
        "outputId": "a1501e7e-eb7f-4c47-cea6-6971e53ebaa2"
      },
      "source": [
        "hall=11.25\n",
        "kit=18.0\n",
        "liv=20.0\n",
        "bed=10.75\n",
        "bath=9.50\n",
        "are=[\"area of my house is ::\",\"hall:\",hall,\"kit:\",kit,\"liv:\",liv,\"bed:\",bed,\"bath:\",bath]\n",
        "print(are)\n",
        "print(type(are))\n",
        "area=[[\"area of my house is ::\"],[\"hall:\",hall],[\"kit:\",kit],[\"liv:\",liv],[\"bed:\",bed],[\"bath:\",bath]]\n",
        "print(area)\n",
        "print(type(area))"
      ],
      "execution_count": 31,
      "outputs": [
        {
          "output_type": "stream",
          "name": "stdout",
          "text": [
            "['area of my house is ::', 'hall:', 11.25, 'kit:', 18.0, 'liv:', 20.0, 'bed:', 10.75, 'bath:', 9.5]\n",
            "<class 'list'>\n",
            "[['area of my house is ::'], ['hall:', 11.25], ['kit:', 18.0], ['liv:', 20.0], ['bed:', 10.75], ['bath:', 9.5]]\n",
            "<class 'list'>\n"
          ]
        }
      ]
    },
    {
      "cell_type": "code",
      "metadata": {
        "colab": {
          "base_uri": "https://localhost:8080/",
          "height": 195
        },
        "id": "hPvsDxUGYs66",
        "outputId": "0c6ee4f2-456c-414c-c1b8-984149a67562"
      },
      "source": [
        "#list can't contain undefined elements\n",
        "my_list=[el1,el2,el3]\n",
        "my_list"
      ],
      "execution_count": 27,
      "outputs": [
        {
          "output_type": "error",
          "ename": "NameError",
          "evalue": "ignored",
          "traceback": [
            "\u001b[0;31m---------------------------------------------------------------------------\u001b[0m",
            "\u001b[0;31mNameError\u001b[0m                                 Traceback (most recent call last)",
            "\u001b[0;32m<ipython-input-27-467223861626>\u001b[0m in \u001b[0;36m<module>\u001b[0;34m()\u001b[0m\n\u001b[1;32m      1\u001b[0m \u001b[0;31m#list can't contain undefined elements\u001b[0m\u001b[0;34m\u001b[0m\u001b[0;34m\u001b[0m\u001b[0;34m\u001b[0m\u001b[0m\n\u001b[0;32m----> 2\u001b[0;31m \u001b[0mmy_list\u001b[0m\u001b[0;34m=\u001b[0m\u001b[0;34m[\u001b[0m\u001b[0mel1\u001b[0m\u001b[0;34m,\u001b[0m\u001b[0mel2\u001b[0m\u001b[0;34m,\u001b[0m\u001b[0mel3\u001b[0m\u001b[0;34m]\u001b[0m\u001b[0;34m\u001b[0m\u001b[0;34m\u001b[0m\u001b[0m\n\u001b[0m\u001b[1;32m      3\u001b[0m \u001b[0mmy_list\u001b[0m\u001b[0;34m\u001b[0m\u001b[0;34m\u001b[0m\u001b[0m\n",
            "\u001b[0;31mNameError\u001b[0m: name 'el1' is not defined"
          ]
        }
      ]
    },
    {
      "cell_type": "code",
      "metadata": {
        "id": "A5s1c-d3ZLmY"
      },
      "source": [
        ""
      ],
      "execution_count": null,
      "outputs": []
    }
  ]
}