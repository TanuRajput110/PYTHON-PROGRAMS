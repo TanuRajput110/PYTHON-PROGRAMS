{
  "nbformat": 4,
  "nbformat_minor": 0,
  "metadata": {
    "colab": {
      "name": "practice of string.ipynb",
      "provenance": [],
      "collapsed_sections": [],
      "authorship_tag": "ABX9TyM8WyoWHUftiowBOLd0Supn",
      "include_colab_link": true
    },
    "kernelspec": {
      "name": "python3",
      "display_name": "Python 3"
    },
    "language_info": {
      "name": "python"
    }
  },
  "cells": [
    {
      "cell_type": "markdown",
      "metadata": {
        "id": "view-in-github",
        "colab_type": "text"
      },
      "source": [
        "<a href=\"https://colab.research.google.com/github/TanuRajput110/PYTHON-PROGRAMS/blob/main/practice_of_string.ipynb\" target=\"_parent\"><img src=\"https://colab.research.google.com/assets/colab-badge.svg\" alt=\"Open In Colab\"/></a>"
      ]
    },
    {
      "cell_type": "markdown",
      "metadata": {
        "id": "UevRdZWUnu0y"
      },
      "source": [
        "######how to create string?\n",
        "---To create a string you need to use either single quotes and double quotes."
      ]
    },
    {
      "cell_type": "code",
      "metadata": {
        "colab": {
          "base_uri": "https://localhost:8080/"
        },
        "id": "AyjRdyJEn8wR",
        "outputId": "63eef42c-8bf2-4f1d-d41f-4bd90d94aae5"
      },
      "source": [
        "x='ALGEBRA'\n",
        "x\n",
        "#if we use print the no quote will be come in output\n",
        "print(x)"
      ],
      "execution_count": 3,
      "outputs": [
        {
          "output_type": "stream",
          "name": "stdout",
          "text": [
            "ALGEBRA\n"
          ]
        }
      ]
    },
    {
      "cell_type": "markdown",
      "metadata": {
        "id": "bPebpsnIoSgn"
      },
      "source": [
        "######square is must important in string.In python we will recognize string in some sequence of letter ,once we have sequence then we can do anything with our sequence.\n",
        "this means giving indexing to them."
      ]
    },
    {
      "cell_type": "code",
      "metadata": {
        "colab": {
          "base_uri": "https://localhost:8080/"
        },
        "id": "Xr9Fo79lornO",
        "outputId": "518e5258-7bf4-42f6-f1d2-15e7b7c4c5bc"
      },
      "source": [
        "x='hy i m Tanu.'\n",
        "print(x)"
      ],
      "execution_count": 4,
      "outputs": [
        {
          "output_type": "stream",
          "name": "stdout",
          "text": [
            "hy i m Tanu.\n"
          ]
        }
      ]
    },
    {
      "cell_type": "code",
      "metadata": {
        "colab": {
          "base_uri": "https://localhost:8080/",
          "height": 35
        },
        "id": "dsk4lRqOo1Kj",
        "outputId": "85bc5d95-1c9c-400f-f512-a3aafe4b984a"
      },
      "source": [
        "#find the index 6..its gioving space\n",
        "x[6]\n"
      ],
      "execution_count": 6,
      "outputs": [
        {
          "output_type": "execute_result",
          "data": {
            "application/vnd.google.colaboratory.intrinsic+json": {
              "type": "string"
            },
            "text/plain": [
              "' '"
            ]
          },
          "metadata": {},
          "execution_count": 6
        }
      ]
    },
    {
      "cell_type": "code",
      "metadata": {
        "colab": {
          "base_uri": "https://localhost:8080/"
        },
        "id": "Niez-REspFmJ",
        "outputId": "5e7f05db-1b1a-4247-b311-3ec6c074d2b5"
      },
      "source": [
        "#find other indexes\n",
        "print(x[4])\n",
        "print(x[7])\n",
        "print(x[-1])#it will give indexing from reverse(-1=last index)(-2=last second index)\n",
        "print(x[-5])"
      ],
      "execution_count": 8,
      "outputs": [
        {
          "output_type": "stream",
          "name": "stdout",
          "text": [
            " \n",
            "T\n",
            ".\n",
            "T\n"
          ]
        }
      ]
    },
    {
      "cell_type": "markdown",
      "metadata": {
        "id": "ARxW0_9Epk3c"
      },
      "source": [
        "######we can use a built in function to count all string including space and punctuation.\n",
        "\n",
        "len()"
      ]
    },
    {
      "cell_type": "code",
      "metadata": {
        "colab": {
          "base_uri": "https://localhost:8080/"
        },
        "id": "rRKAaM2QpwoM",
        "outputId": "42e6ff30-72fc-4c44-82a2-3dafd868cf24"
      },
      "source": [
        "len(x)"
      ],
      "execution_count": 9,
      "outputs": [
        {
          "output_type": "execute_result",
          "data": {
            "text/plain": [
              "12"
            ]
          },
          "metadata": {},
          "execution_count": 9
        }
      ]
    },
    {
      "cell_type": "markdown",
      "metadata": {
        "id": "gKcIVYiNqBbD"
      },
      "source": [
        "######String indexing\n",
        "python can use a index to call its part of sequence .\n",
        "a string index refers to the lacation of an element present in a string"
      ]
    },
    {
      "cell_type": "code",
      "metadata": {
        "colab": {
          "base_uri": "https://localhost:8080/"
        },
        "id": "GHBcEBxCqogR",
        "outputId": "4987c322-bfab-4d91-98df-e61daa39af24"
      },
      "source": [
        "string=\"principal component analysis!\"\n",
        "print(string[15])\n",
        "print(len(string)-1)\n",
        "print(string[-1])"
      ],
      "execution_count": 13,
      "outputs": [
        {
          "output_type": "stream",
          "name": "stdout",
          "text": [
            "n\n",
            "28\n",
            "!\n"
          ]
        }
      ]
    },
    {
      "cell_type": "markdown",
      "metadata": {
        "id": "bCEZTiSTq2Ws"
      },
      "source": [
        "######Slicing "
      ]
    },
    {
      "cell_type": "code",
      "metadata": {
        "colab": {
          "base_uri": "https://localhost:8080/"
        },
        "id": "RTtm74Xor09x",
        "outputId": "bddb078b-b659-409b-f50e-640287053402"
      },
      "source": [
        "print(string[1:13])"
      ],
      "execution_count": 14,
      "outputs": [
        {
          "output_type": "stream",
          "name": "stdout",
          "text": [
            "rincipal com\n"
          ]
        }
      ]
    },
    {
      "cell_type": "code",
      "metadata": {
        "colab": {
          "base_uri": "https://localhost:8080/"
        },
        "id": "0WjLfLugr8Fy",
        "outputId": "9827ab8c-bc60-47f8-c576-e749d53d2fee"
      },
      "source": [
        "print(string[:4])"
      ],
      "execution_count": 15,
      "outputs": [
        {
          "output_type": "stream",
          "name": "stdout",
          "text": [
            "prin\n"
          ]
        }
      ]
    },
    {
      "cell_type": "code",
      "metadata": {
        "colab": {
          "base_uri": "https://localhost:8080/"
        },
        "id": "A1H1MlF5sLyR",
        "outputId": "48ab869b-0a26-48a1-eea8-86447de40db9"
      },
      "source": [
        "#print all string\n",
        "print(string[:])"
      ],
      "execution_count": 17,
      "outputs": [
        {
          "output_type": "stream",
          "name": "stdout",
          "text": [
            "principal component analysis!\n"
          ]
        }
      ]
    },
    {
      "cell_type": "code",
      "metadata": {
        "colab": {
          "base_uri": "https://localhost:8080/"
        },
        "id": "CtvLowMmsT2x",
        "outputId": "54918adb-5719-4b4b-9ff2-fee22a494a82"
      },
      "source": [
        "print(string[:0])\n",
        "print(string[0:])\n",
        "print(string[-4:])\n",
        "#grab everything but go in step size of 5\n",
        "print(string[5::5])\n",
        "#we can use this to print a string backward\n",
        "print(string[1::-1])\n",
        "#we can use this to print a string backward with steps\n",
        "print(string[4:8:-1])"
      ],
      "execution_count": 26,
      "outputs": [
        {
          "output_type": "stream",
          "name": "stdout",
          "text": [
            "\n",
            "principal component analysis!\n",
            "sis!\n",
            "icnas\n",
            "rp\n",
            "\n"
          ]
        }
      ]
    },
    {
      "cell_type": "code",
      "metadata": {
        "colab": {
          "base_uri": "https://localhost:8080/"
        },
        "id": "18PzXxtVty0K",
        "outputId": "611ca8bf-c0be-4bd1-acef-0c49ee2019b9"
      },
      "source": [
        "print(string[4:8:-1])"
      ],
      "execution_count": 27,
      "outputs": [
        {
          "output_type": "stream",
          "name": "stdout",
          "text": [
            "\n"
          ]
        }
      ]
    },
    {
      "cell_type": "code",
      "metadata": {
        "colab": {
          "base_uri": "https://localhost:8080/"
        },
        "id": "LmFcNEint5Ki",
        "outputId": "e6a667fa-fe03-48ea-d529-681299fcf501"
      },
      "source": [
        "print(string[-4:])"
      ],
      "execution_count": 28,
      "outputs": [
        {
          "output_type": "stream",
          "name": "stdout",
          "text": [
            "sis!\n"
          ]
        }
      ]
    },
    {
      "cell_type": "code",
      "metadata": {
        "colab": {
          "base_uri": "https://localhost:8080/"
        },
        "id": "ozMg7gWauGQz",
        "outputId": "9a44646b-ed5b-4019-aa77-eb0eb0e0c39d"
      },
      "source": [
        "print(string[::5])"
      ],
      "execution_count": 30,
      "outputs": [
        {
          "output_type": "stream",
          "name": "stdout",
          "text": [
            "picnas\n"
          ]
        }
      ]
    },
    {
      "cell_type": "code",
      "metadata": {
        "colab": {
          "base_uri": "https://localhost:8080/"
        },
        "id": "K-Ta9zUhu_bc",
        "outputId": "f47757a4-0d2f-4c56-a599-5e8347007ca1"
      },
      "source": [
        "print(string[::-5])"
      ],
      "execution_count": 31,
      "outputs": [
        {
          "output_type": "stream",
          "name": "stdout",
          "text": [
            "!ltpln\n"
          ]
        }
      ]
    },
    {
      "cell_type": "markdown",
      "metadata": {
        "id": "hGKcjZqMt-iR"
      },
      "source": [
        "###String Properties"
      ]
    },
    {
      "cell_type": "markdown",
      "metadata": {
        "id": "mH15Va05uXbI"
      },
      "source": [
        "--it's important to note that strings have an important property known as immutability\n",
        "--this means that once a string is created,the elements within it can not be changed or replaced via item assignment.we will see how we can do such operation using string method"
      ]
    },
    {
      "cell_type": "code",
      "metadata": {
        "colab": {
          "base_uri": "https://localhost:8080/",
          "height": 35
        },
        "id": "AZfR5QmyvwYc",
        "outputId": "bbd3873b-15aa-47ce-f425-5b8333dbad6b"
      },
      "source": [
        "# 1.concatenate string\n",
        "string1='abc'\n",
        "string2='def'\n",
        "num='4' #if we want to add a number with a string then we can put that in '' so that it beome string\n",
        "string1+string2+num"
      ],
      "execution_count": 33,
      "outputs": [
        {
          "output_type": "execute_result",
          "data": {
            "application/vnd.google.colaboratory.intrinsic+json": {
              "type": "string"
            },
            "text/plain": [
              "'abcdef4'"
            ]
          },
          "metadata": {},
          "execution_count": 33
        }
      ]
    },
    {
      "cell_type": "code",
      "metadata": {
        "colab": {
          "base_uri": "https://localhost:8080/",
          "height": 35
        },
        "id": "Ohz3a_PdwSHN",
        "outputId": "6e1c3239-1edf-4290-923d-d13bf7949c3f"
      },
      "source": [
        "#but if we print original string then there wil no change into it\n",
        "#so we will assign that change into an variable\n",
        "string1=string1+string2+num\n",
        "string1"
      ],
      "execution_count": 35,
      "outputs": [
        {
          "output_type": "execute_result",
          "data": {
            "application/vnd.google.colaboratory.intrinsic+json": {
              "type": "string"
            },
            "text/plain": [
              "'abcdef4def4'"
            ]
          },
          "metadata": {},
          "execution_count": 35
        }
      ]
    },
    {
      "cell_type": "code",
      "metadata": {
        "colab": {
          "base_uri": "https://localhost:8080/",
          "height": 35
        },
        "id": "EhDPAi57wrd1",
        "outputId": "bce0e955-54b9-4ad8-9fa5-f37a984aebf4"
      },
      "source": [
        "#if we want string  double,tripple,etc so multiply with that number\n",
        "y=string1*3\n",
        "y"
      ],
      "execution_count": 40,
      "outputs": [
        {
          "output_type": "execute_result",
          "data": {
            "application/vnd.google.colaboratory.intrinsic+json": {
              "type": "string"
            },
            "text/plain": [
              "'abcdef4def4abcdef4def4abcdef4def4'"
            ]
          },
          "metadata": {},
          "execution_count": 40
        }
      ]
    },
    {
      "cell_type": "markdown",
      "metadata": {
        "id": "hMLFUbcwxE2F"
      },
      "source": [
        "###String function and methods"
      ]
    },
    {
      "cell_type": "code",
      "metadata": {
        "colab": {
          "base_uri": "https://localhost:8080/"
        },
        "id": "OjqBhdW9xKFI",
        "outputId": "aa86ceeb-96c2-46d9-a51c-924661e9bddb"
      },
      "source": [
        "#len()--to extract the length of our string.\n",
        "len(y)"
      ],
      "execution_count": 41,
      "outputs": [
        {
          "output_type": "execute_result",
          "data": {
            "text/plain": [
              "33"
            ]
          },
          "metadata": {},
          "execution_count": 41
        }
      ]
    },
    {
      "cell_type": "code",
      "metadata": {
        "colab": {
          "base_uri": "https://localhost:8080/",
          "height": 35
        },
        "id": "VSmThei1xcLI",
        "outputId": "699eac6b-b498-43f5-d3c9-858d79f85831"
      },
      "source": [
        "#lower()--to convert into lowercase\n",
        "y.lower()"
      ],
      "execution_count": 42,
      "outputs": [
        {
          "output_type": "execute_result",
          "data": {
            "application/vnd.google.colaboratory.intrinsic+json": {
              "type": "string"
            },
            "text/plain": [
              "'abcdef4def4abcdef4def4abcdef4def4'"
            ]
          },
          "metadata": {},
          "execution_count": 42
        }
      ]
    },
    {
      "cell_type": "code",
      "metadata": {
        "colab": {
          "base_uri": "https://localhost:8080/",
          "height": 35
        },
        "id": "WeC2Gr_GxqRc",
        "outputId": "e39b0c86-1008-498b-d10b-e230e0587412"
      },
      "source": [
        "#upper()--to convert into uppercase\n",
        "y.upper()"
      ],
      "execution_count": 43,
      "outputs": [
        {
          "output_type": "execute_result",
          "data": {
            "application/vnd.google.colaboratory.intrinsic+json": {
              "type": "string"
            },
            "text/plain": [
              "'ABCDEF4DEF4ABCDEF4DEF4ABCDEF4DEF4'"
            ]
          },
          "metadata": {},
          "execution_count": 43
        }
      ]
    },
    {
      "cell_type": "code",
      "metadata": {
        "colab": {
          "base_uri": "https://localhost:8080/"
        },
        "id": "GceYzw4jx0CO",
        "outputId": "20c8e473-7268-494d-d708-23915ab5d149"
      },
      "source": [
        "#count()--it count all sequence of a string..or total number of elements in a string\n",
        "print(y.count(\" \"))#it will count space and we can count any digit of any index\n",
        "y.count(\"eu\")"
      ],
      "execution_count": 46,
      "outputs": [
        {
          "output_type": "stream",
          "name": "stdout",
          "text": [
            "0\n"
          ]
        },
        {
          "output_type": "execute_result",
          "data": {
            "text/plain": [
              "0"
            ]
          },
          "metadata": {},
          "execution_count": 46
        }
      ]
    },
    {
      "cell_type": "code",
      "metadata": {
        "colab": {
          "base_uri": "https://localhost:8080/"
        },
        "id": "GJ_TVet6yM5M",
        "outputId": "f47e59fe-8579-435d-9498-4689a44664d2"
      },
      "source": [
        "#find()--it find first index of occurance of any word,letter or apace or anything which is present..if not present then gives none\n",
        "y.find('e')"
      ],
      "execution_count": 48,
      "outputs": [
        {
          "output_type": "execute_result",
          "data": {
            "text/plain": [
              "4"
            ]
          },
          "metadata": {},
          "execution_count": 48
        }
      ]
    },
    {
      "cell_type": "code",
      "metadata": {
        "colab": {
          "base_uri": "https://localhost:8080/",
          "height": 35
        },
        "id": "PA-r4O_7yfUn",
        "outputId": "6fd6263f-01c9-44ec-f6af-3a083ba59bab"
      },
      "source": [
        "#replace()--we can replace our string with another..it may be word letter or anything\n",
        "y.replace('','-')"
      ],
      "execution_count": 50,
      "outputs": [
        {
          "output_type": "execute_result",
          "data": {
            "application/vnd.google.colaboratory.intrinsic+json": {
              "type": "string"
            },
            "text/plain": [
              "'-a-b-c-d-e-f-4-d-e-f-4-a-b-c-d-e-f-4-d-e-f-4-a-b-c-d-e-f-4-d-e-f-4-'"
            ]
          },
          "metadata": {},
          "execution_count": 50
        }
      ]
    },
    {
      "cell_type": "code",
      "metadata": {
        "colab": {
          "base_uri": "https://localhost:8080/"
        },
        "id": "a5KTVhNQyzFN",
        "outputId": "caac64b4-1e3d-4f66-87a1-388946e8aefd"
      },
      "source": [
        "#check if a string contain a particular word or string\n",
        "z='i m tany'\n",
        "'tany' in z"
      ],
      "execution_count": 51,
      "outputs": [
        {
          "output_type": "execute_result",
          "data": {
            "text/plain": [
              "True"
            ]
          },
          "metadata": {},
          "execution_count": 51
        }
      ]
    },
    {
      "cell_type": "markdown",
      "metadata": {
        "id": "ONR7RDnzzF9n"
      },
      "source": [
        "##QUIZ QUESTIONS"
      ]
    },
    {
      "cell_type": "code",
      "metadata": {
        "colab": {
          "base_uri": "https://localhost:8080/"
        },
        "id": "rF_G1LMZzbEd",
        "outputId": "65ef1274-da95-47ca-f7e2-64558c0069a2"
      },
      "source": [
        "#1.what is the datatype of the variable y defined as y='True'?\n",
        "type(y)"
      ],
      "execution_count": 55,
      "outputs": [
        {
          "output_type": "execute_result",
          "data": {
            "text/plain": [
              "str"
            ]
          },
          "metadata": {},
          "execution_count": 55
        }
      ]
    },
    {
      "cell_type": "code",
      "metadata": {
        "colab": {
          "base_uri": "https://localhost:8080/",
          "height": 35
        },
        "id": "hF9kJt7rz7Ht",
        "outputId": "086df6bc-40db-41cb-fd61-6c741610f0b0"
      },
      "source": [
        "#2.you have a variable named my_string ='artificial intelligence'.what will be the output of   my_string[4:12]?\n",
        "y[4:12]"
      ],
      "execution_count": 56,
      "outputs": [
        {
          "output_type": "execute_result",
          "data": {
            "application/vnd.google.colaboratory.intrinsic+json": {
              "type": "string"
            },
            "text/plain": [
              "'ef4def4a'"
            ]
          },
          "metadata": {},
          "execution_count": 56
        }
      ]
    },
    {
      "cell_type": "code",
      "metadata": {
        "colab": {
          "base_uri": "https://localhost:8080/",
          "height": 35
        },
        "id": "kNSYttSizJZD",
        "outputId": "6fe7f978-65b3-4350-b24d-a82b472a5744"
      },
      "source": [
        "#3.YOU ARE GIVEN A STRING ,S='foobar'.HAT WILL BE THE OUTPUT OF THE STATEMENT s[::-5]\n",
        "s='foobar'\n",
        "s[::-5]\n"
      ],
      "execution_count": 57,
      "outputs": [
        {
          "output_type": "execute_result",
          "data": {
            "application/vnd.google.colaboratory.intrinsic+json": {
              "type": "string"
            },
            "text/plain": [
              "'rf'"
            ]
          },
          "metadata": {},
          "execution_count": 57
        }
      ]
    },
    {
      "cell_type": "code",
      "metadata": {
        "colab": {
          "base_uri": "https://localhost:8080/",
          "height": 35
        },
        "id": "ylPBEi8T0nH_",
        "outputId": "3576ca62-50b2-4009-afb5-062a64089af2"
      },
      "source": [
        "#4.which index does the value -1 correspond to?\n",
        "s[-1]\n",
        "#ans:last elements"
      ],
      "execution_count": 58,
      "outputs": [
        {
          "output_type": "execute_result",
          "data": {
            "application/vnd.google.colaboratory.intrinsic+json": {
              "type": "string"
            },
            "text/plain": [
              "'r'"
            ]
          },
          "metadata": {},
          "execution_count": 58
        }
      ]
    },
    {
      "cell_type": "code",
      "metadata": {
        "id": "0X_4VA-i05aA"
      },
      "source": [
        "#we have a string variable,random_string='random'.what will be the output of \n",
        "#random_string[-1]='mo'?\n",
        "random_string='random'\n",
        "random_string[-1]='mo'\n",
        "#it will throw error 'str'object doesnt support item assignment"
      ],
      "execution_count": null,
      "outputs": []
    },
    {
      "cell_type": "code",
      "metadata": {
        "id": "oni75nls19_u"
      },
      "source": [
        "#7.strings are immutable"
      ],
      "execution_count": null,
      "outputs": []
    },
    {
      "cell_type": "code",
      "metadata": {
        "colab": {
          "base_uri": "https://localhost:8080/"
        },
        "id": "WIcJiYyI2DJG",
        "outputId": "c42b0588-4311-4e1a-f90c-fd1f81c6525f"
      },
      "source": [
        "#you are given a string s ='mississippi'.order the given options based on their output in their ascending order\n",
        "s='Mississippi'\n",
        "print(s.count('p'))\n",
        "print(s.count('z'))\n",
        "print(s.find('i'))\n",
        "print(s.count('s')) \n",
        "#ascending order is=\n",
        "#s.count('s')\n",
        "#s.count('p')\n",
        "#s.find('i')\n",
        "#s.count('z')"
      ],
      "execution_count": 62,
      "outputs": [
        {
          "output_type": "stream",
          "name": "stdout",
          "text": [
            "2\n",
            "0\n",
            "1\n",
            "4\n"
          ]
        }
      ]
    },
    {
      "cell_type": "code",
      "metadata": {
        "colab": {
          "base_uri": "https://localhost:8080/"
        },
        "id": "s6gjEbJk3Wy1",
        "outputId": "fc52b338-36c6-4406-fcd5-3e7a2c8607ea"
      },
      "source": [
        "#what is the output of print function call\n",
        "s='foo'\n",
        "t='bar'\n",
        "print('barf' in 2*(s+t))"
      ],
      "execution_count": 63,
      "outputs": [
        {
          "output_type": "stream",
          "name": "stdout",
          "text": [
            "True\n"
          ]
        }
      ]
    }
  ]
}