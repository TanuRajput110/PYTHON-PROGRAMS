{
  "nbformat": 4,
  "nbformat_minor": 0,
  "metadata": {
    "colab": {
      "name": "PYTHONNN.ipynb",
      "provenance": [],
      "collapsed_sections": [],
      "authorship_tag": "ABX9TyNMXufuA2ji+vyBEr1HZ2Sz",
      "include_colab_link": true
    },
    "kernelspec": {
      "name": "python3",
      "display_name": "Python 3"
    },
    "language_info": {
      "name": "python"
    }
  },
  "cells": [
    {
      "cell_type": "markdown",
      "metadata": {
        "id": "view-in-github",
        "colab_type": "text"
      },
      "source": [
        "<a href=\"https://colab.research.google.com/github/TanuRajput110/PYTHON-PROGRAMS/blob/main/PYTHONNN.ipynb\" target=\"_parent\"><img src=\"https://colab.research.google.com/assets/colab-badge.svg\" alt=\"Open In Colab\"/></a>"
      ]
    },
    {
      "cell_type": "markdown",
      "metadata": {
        "id": "PILGt-IUbDPb"
      },
      "source": [
        "!.BASIC AIRTHMETIC.."
      ]
    },
    {
      "cell_type": "code",
      "metadata": {
        "colab": {
          "base_uri": "https://localhost:8080/"
        },
        "id": "x_prYIwgbJHN",
        "outputId": "af86e742-c773-4dd8-a781-ec856d9690b8"
      },
      "source": [
        "#ADDITION\n",
        "print(\"input first number:\")\n",
        "a=int(input())\n",
        "print(\"input second number:\")\n",
        "b=int(input())\n",
        "print(\"sum of a and b :\")\n",
        "c=a+b\n",
        "print(c)\n"
      ],
      "execution_count": null,
      "outputs": [
        {
          "output_type": "stream",
          "name": "stdout",
          "text": [
            "input first number:\n",
            "45\n",
            "input second number:\n",
            "7\n",
            "sum of a and b :\n",
            "52\n"
          ]
        }
      ]
    },
    {
      "cell_type": "code",
      "metadata": {
        "colab": {
          "base_uri": "https://localhost:8080/"
        },
        "id": "LCrooqnIeIWR",
        "outputId": "bab3c160-4ae6-43b3-83ea-ac47e9fe038f"
      },
      "source": [
        "#SUBSTRACTION\n",
        "print(\"input first number:\")\n",
        "a=int(input())\n",
        "print(\"input second number:\")\n",
        "b=int(input())\n",
        "print(\"sUB of a and b :\")\n",
        "c=a-b\n",
        "print(c)\n"
      ],
      "execution_count": null,
      "outputs": [
        {
          "output_type": "stream",
          "name": "stdout",
          "text": [
            "input first number:\n",
            "66\n",
            "input second number:\n",
            "5\n",
            "sUB of a and b :\n",
            "61\n"
          ]
        }
      ]
    },
    {
      "cell_type": "code",
      "metadata": {
        "colab": {
          "base_uri": "https://localhost:8080/"
        },
        "id": "XrtPUrpDeQL6",
        "outputId": "c1a37774-4428-426c-bb31-540c69e948b9"
      },
      "source": [
        "#MULTIPLICATION\n",
        "print(\"input first number:\")\n",
        "a=int(input())\n",
        "print(\"input second number:\")\n",
        "b=int(input())\n",
        "print(\"MUL of a and b :\")\n",
        "c=a*b\n",
        "print(c)\n"
      ],
      "execution_count": null,
      "outputs": [
        {
          "output_type": "stream",
          "name": "stdout",
          "text": [
            "input first number:\n",
            "56\n",
            "input second number:\n",
            "6\n",
            "MUL of a and b :\n",
            "336\n"
          ]
        }
      ]
    },
    {
      "cell_type": "code",
      "metadata": {
        "colab": {
          "base_uri": "https://localhost:8080/"
        },
        "id": "tAeXet8veV3p",
        "outputId": "a4e8f279-3aa0-41d3-9101-bff99baf136a"
      },
      "source": [
        "#DIVISION7\n",
        "print(\"input first number:\")\n",
        "a=int(input())\n",
        "print(\"input second number:\")\n",
        "b=int(input())\n",
        "print(\"DIVISION of a and b :\")\n",
        "c=a/b\n",
        "print(c)\n"
      ],
      "execution_count": null,
      "outputs": [
        {
          "output_type": "stream",
          "name": "stdout",
          "text": [
            "input first number:\n",
            "56\n",
            "input second number:\n",
            "8\n",
            "DIVISION of a and b :\n",
            "7.0\n"
          ]
        }
      ]
    },
    {
      "cell_type": "code",
      "metadata": {
        "colab": {
          "base_uri": "https://localhost:8080/"
        },
        "id": "fV5Kc9JIedP4",
        "outputId": "75b84da3-fac6-4107-869e-2f57d0e73534"
      },
      "source": [
        "#FLOOR DIVISION\n",
        "print(\"input first number:\")\n",
        "a=int(input())\n",
        "print(\"input second number:\")\n",
        "b=int(input())\n",
        "print(\"FLOORDIVISION of a and b :\")\n",
        "c=a//b\n",
        "print(c)\n"
      ],
      "execution_count": null,
      "outputs": [
        {
          "output_type": "stream",
          "name": "stdout",
          "text": [
            "input first number:\n",
            "56\n",
            "input second number:\n",
            "78\n",
            "FLOORDIVISION of a and b :\n",
            "0\n"
          ]
        }
      ]
    },
    {
      "cell_type": "markdown",
      "metadata": {
        "id": "-uznc9cLd92c"
      },
      "source": [
        "!.VARIABLE ASSIGNMENTS"
      ]
    },
    {
      "cell_type": "code",
      "metadata": {
        "colab": {
          "base_uri": "https://localhost:8080/"
        },
        "id": "E1BPbp_beEsw",
        "outputId": "d0696741-1add-4c98-b3b7-ca95e3b333c5"
      },
      "source": [
        "a=7\n",
        "print(a)\n",
        "print(a+a)\n",
        "print(a/7)\n",
        "print(a-2)\n",
        "\n"
      ],
      "execution_count": null,
      "outputs": [
        {
          "output_type": "stream",
          "name": "stdout",
          "text": [
            "7\n",
            "14\n",
            "1.0\n",
            "5\n"
          ]
        }
      ]
    },
    {
      "cell_type": "markdown",
      "metadata": {
        "id": "PLHOug8Ihzfl"
      },
      "source": [
        "!.Determining variable type with type()"
      ]
    },
    {
      "cell_type": "code",
      "metadata": {
        "colab": {
          "base_uri": "https://localhost:8080/"
        },
        "id": "upK2EKYLh7Oi",
        "outputId": "3f966fbc-535f-49c0-e8b7-8d5bd5b0e90e"
      },
      "source": [
        "#determining variable type with type()\n",
        "type(a)\n",
        "b=7.7\n",
        "print(type(b))\n",
        "c='hello'\n",
        "print(type(c))\n",
        "d=[1,2,3,4]\n",
        "print(type(d))\n",
        "e=(1,2,3)\n",
        "print(type(e))\n",
        "f={1:\"one\",2:\"two\"}\n",
        "print(type(f))\n",
        "g={1,2,3}\n",
        "print(type(g))\n",
        "i=True\n",
        "print(type(i))"
      ],
      "execution_count": null,
      "outputs": [
        {
          "output_type": "stream",
          "name": "stdout",
          "text": [
            "<class 'float'>\n",
            "<class 'str'>\n",
            "<class 'list'>\n",
            "<class 'tuple'>\n",
            "<class 'dict'>\n",
            "<class 'set'>\n",
            "<class 'bool'>\n"
          ]
        }
      ]
    },
    {
      "cell_type": "markdown",
      "metadata": {
        "id": "I-ix1KzkkxE6"
      },
      "source": [
        "!.Static Basics"
      ]
    },
    {
      "cell_type": "code",
      "metadata": {
        "colab": {
          "base_uri": "https://localhost:8080/"
        },
        "id": "Wy5xC9syk0mp",
        "outputId": "053a78ff-8402-4cf7-d499-323fcdde22fa"
      },
      "source": [
        "s='python_codes'\n",
        "s\n",
        "'python_codes'\n",
        "print(\"(1).length of code::\")\n",
        "print(len(s))\n",
        "print(\"(2).0th index:\")\n",
        "print(s[0])\n",
        "print(\"(3).print this indexing  s[1:0]:\")\n",
        "print(s[1:])\n",
        "print([\"(4).print s:\"])\n",
        "print(s)\n",
        "print(\"(5).print this indexing  s[:7]:\")\n",
        "print(s[:7])\n",
        "print(\"(6).print this indexing  s[:]:\")\n",
        "print(s[:])\n",
        "print(\"(7).print this indexing  s[::1]:\")\n",
        "print(s[::1])\n",
        "print(\"(8).print this indexing s[::-1]:\")\n",
        "print(s[::-1])\n",
        "print(\"(9).print this :::var*10(var=a):\")\n",
        "var=\"a\"\n",
        "var*10\n",
        "print('print this term--s=s+ \"python channel\"::::: ')\n",
        "s=s+\"python channel\"\n",
        "print(s)\n",
        "print(\"s.upper()::\")\n",
        "s.upper()\n",
        "print(\"s.lower()\")\n",
        "s.lower()\n",
        "print(\"s.split('codes'):::\")\n",
        "s.split('codes')\n",
        "\n"
      ],
      "execution_count": null,
      "outputs": [
        {
          "output_type": "stream",
          "name": "stdout",
          "text": [
            "(1).length of code::\n",
            "12\n",
            "(2).0th index:\n",
            "p\n",
            "(3).print this indexing  s[1:0]:\n",
            "ython_codes\n",
            "['(4).print s:']\n",
            "python_codes\n",
            "(5).print this indexing  s[:7]:\n",
            "python_\n",
            "(6).print this indexing  s[:]:\n",
            "python_codes\n",
            "(7).print this indexing  s[::1]:\n",
            "python_codes\n",
            "(8).print this indexing s[::-1]:\n",
            "sedoc_nohtyp\n",
            "(9).print this :::var*10(var=a):\n",
            "print this term--s=s+ \"python channel\"::::: \n",
            "python_codespython channel\n",
            "s.upper()::\n",
            "s.lower()\n",
            "s.split('codes'):::\n"
          ]
        },
        {
          "output_type": "execute_result",
          "data": {
            "text/plain": [
              "['python_', 'python channel']"
            ]
          },
          "metadata": {},
          "execution_count": 53
        }
      ]
    },
    {
      "cell_type": "markdown",
      "metadata": {
        "id": "wvSlg2sPsk5y"
      },
      "source": [
        "!.LIST"
      ]
    },
    {
      "cell_type": "code",
      "metadata": {
        "colab": {
          "base_uri": "https://localhost:8080/"
        },
        "id": "j4W4KP1ksniY",
        "outputId": "d0564297-56fa-4f99-939d-3648068acfa2"
      },
      "source": [
        "#list making\n",
        "list=[8,0,5,1]\n",
        "print(list)\n",
        "len(list)\n",
        "\n",
        "list_2=['string','8065','p']\n",
        "print(list_2)\n",
        "print(len(list_2))\n",
        "#indexing and slicing\n",
        "list=['one','ox','ok']\n",
        "print(list[0])\n",
        "print(list[1:])\n",
        "print(list[2:])\n",
        "print(list[-1])\n",
        "print(list[::-1])\n",
        "print(list + [1233])\n",
        "print(list*2)\n",
        "\n",
        "#Basic list methods\n",
        "list=[4,0,1,3]\n",
        "print(list.append(\"new\"))\n",
        "print(list.pop())\n",
        "print(list)\n",
        "print(list.reverse())\n",
        "\n",
        "#nesting list\n",
        "list_1=[1,2,34]\n",
        "list_2=[4,6,7]\n",
        "list_3=[4,5,7]\n",
        "matrix=[list_2,list_2,list_3]\n",
        "print(matrix)\n",
        "print(matrix[1])\n",
        "print(matrix[0][1])"
      ],
      "execution_count": null,
      "outputs": [
        {
          "output_type": "stream",
          "name": "stdout",
          "text": [
            "[8, 0, 5, 1]\n",
            "['string', '8065', 'p']\n",
            "3\n",
            "one\n",
            "['ox', 'ok']\n",
            "['ok']\n",
            "ok\n",
            "['ok', 'ox', 'one']\n",
            "['one', 'ox', 'ok', 1233]\n",
            "['one', 'ox', 'ok', 'one', 'ox', 'ok']\n",
            "None\n",
            "new\n",
            "[4, 0, 1, 3]\n",
            "None\n",
            "[[4, 6, 7], [4, 6, 7], [4, 5, 7]]\n",
            "[4, 6, 7]\n",
            "6\n"
          ]
        }
      ]
    },
    {
      "cell_type": "markdown",
      "metadata": {
        "id": "qaE9QGfyvQGK"
      },
      "source": [
        "!.PROGRAMS"
      ]
    },
    {
      "cell_type": "code",
      "metadata": {
        "id": "RVvIpzcDvTL1",
        "colab": {
          "base_uri": "https://localhost:8080/"
        },
        "outputId": "0e7e3b93-e967-45a3-ea67-0a8e9f258320"
      },
      "source": [
        "#program to print the largest of the three number\n",
        "a=int(input(\"enter a  \"))\n",
        "b=int(input(\"enter b \"))\n",
        "c=int(input(\"enter c \"))\n",
        "if a>b and a>c:\n",
        "  print(\"a is largest\")\n",
        "if b>a and b>c:\n",
        "  print(\"b is largest\")  \n",
        "if c>a and c>b:\n",
        "  print(\"c is the largest\")  "
      ],
      "execution_count": null,
      "outputs": [
        {
          "output_type": "stream",
          "name": "stdout",
          "text": [
            "enter a  34\n",
            "enter b 45\n",
            "enter c 55\n",
            "c is the largest\n"
          ]
        }
      ]
    },
    {
      "cell_type": "code",
      "metadata": {
        "colab": {
          "base_uri": "https://localhost:8080/"
        },
        "id": "DTi18FqAT21G",
        "outputId": "db43657f-2583-41f3-babe-fd5e1706e2c8"
      },
      "source": [
        "#create a program that asks the users to enter their name and their age.\n",
        "#Print out a message addressed to them the year that they will turn 100 years old\n",
        "import datetime\n",
        "import datetime\n",
        "name=input(\"Type your name:\")\n",
        "age=input(\"type your age:\")\n",
        "now=datetime.datetime.now()\n",
        "diff=100-int(age)\n",
        "print('hi'+\" \"+ name +\" \"+'you will complete 100 years in',(now.year+diff))"
      ],
      "execution_count": null,
      "outputs": [
        {
          "output_type": "stream",
          "name": "stdout",
          "text": [
            "Type your name:Tanu\n",
            "type your age:21\n",
            "hi Tanu you will complete 100 years in 2100\n"
          ]
        }
      ]
    },
    {
      "cell_type": "code",
      "metadata": {
        "colab": {
          "base_uri": "https://localhost:8080/"
        },
        "id": "Ald2vAVeV077",
        "outputId": "1daadf70-9d48-4cb7-e3f5-e698f02b110a"
      },
      "source": [
        "#ask the user for a number.depending on whether the number is even or odd.\n",
        "#print out an appropriate message to the user.\n",
        "number = int(input(\"Number:\"))\n",
        "if number%2==0 and number%4!=0:\n",
        "  print(\"your number is even\")\n",
        "elif number%4==0:\n",
        "  print(\"your number is multiple of 4\")\n",
        "else:\n",
        "  print(\"your number is odd\")    "
      ],
      "execution_count": null,
      "outputs": [
        {
          "output_type": "stream",
          "name": "stdout",
          "text": [
            "Number:45\n",
            "your number is odd\n"
          ]
        }
      ]
    },
    {
      "cell_type": "code",
      "metadata": {
        "colab": {
          "base_uri": "https://localhost:8080/"
        },
        "id": "O8nLy3K_aI4Z",
        "outputId": "79f5c247-661b-4661-8188-383cadd0bab3"
      },
      "source": [
        "#Python Program to Find the Square Root:\n",
        "# Python Program to calculate the square root\n",
        "\n",
        "# Note: change this value for a different result\n",
        "num = 8 \n",
        "\n",
        "# To take the input from the user\n",
        "#num = float(input('Enter a number: '))\n",
        "\n",
        "num_sqrt = num ** 0.5\n",
        "print('The square root of %0.3f is %0.3f'%(num ,num_sqrt))\n",
        "Out"
      ],
      "execution_count": null,
      "outputs": [
        {
          "output_type": "stream",
          "name": "stdout",
          "text": [
            "The square root of 8.000 is 2.828\n"
          ]
        },
        {
          "output_type": "execute_result",
          "data": {
            "text/plain": [
              "{1: '5',\n",
              " 2: '5',\n",
              " 4: '45',\n",
              " 5: '3',\n",
              " 8: '7',\n",
              " 10: '4',\n",
              " 31: 7,\n",
              " 32: 7,\n",
              " 35: bool,\n",
              " 40: 'aaaaaaaaaa',\n",
              " 43: 'aaaaaaaaaa',\n",
              " 46: 'aaaaaaaaaa',\n",
              " 47: 'aaaaaaaaaa',\n",
              " 48: 'aaaaaaaaaa',\n",
              " 50: 'aaaaaaaaaa',\n",
              " 51: 'aaaaaaaaaa',\n",
              " 52: ['python_', 'python channel'],\n",
              " 53: ['python_', 'python channel']}"
            ]
          },
          "metadata": {},
          "execution_count": 63
        }
      ]
    },
    {
      "cell_type": "markdown",
      "metadata": {
        "id": "lru5rwBI99Oc"
      },
      "source": [
        "#Topicwise exercise"
      ]
    },
    {
      "cell_type": "markdown",
      "metadata": {
        "id": "55Nd2JnV-FSR"
      },
      "source": [
        "python basic (part-1)"
      ]
    },
    {
      "cell_type": "code",
      "metadata": {
        "colab": {
          "base_uri": "https://localhost:8080/"
        },
        "id": "02viKEGY9Vlg",
        "outputId": "8ef67357-638f-4e73-a3f8-2a3807c68e7a"
      },
      "source": [
        "#Write a Python program to print the following string in a specific format\n",
        "#Sample String : \"Twinkle, twinkle, little star, \n",
        "#How I wonder what you are! \n",
        "#Up above the world so high, Like a diamond in the sky.\n",
        "# Twinkle, twinkle, little star, How I wonder what you are\"\n",
        "\n",
        "print('''       Twinkle, twinkle, little star,\n",
        "         How I wonder what you are!   \n",
        "         Up above the world so high, \n",
        "         Like a diamond in the sky. \n",
        "        Twinkle, twinkle, little star,\n",
        "         How I wonder what you are''')\n",
        "#other way to print this string\n",
        "print(\"\\n\")\n",
        "print(\"Twinkle, twinkle, little star, \\n\\tHow I wonder what you are! \\n\\t\\tUp above the world so high, \\n\\t\\tLike a diamond in the sky. \\nTwinkle, twinkle, little star, \\n\\tHow I wonder what you are!\")\n"
      ],
      "execution_count": 8,
      "outputs": [
        {
          "output_type": "stream",
          "name": "stdout",
          "text": [
            "       Twinkle, twinkle, little star,\n",
            "         How I wonder what you are!   \n",
            "         Up above the world so high, \n",
            "         Like a diamond in the sky. \n",
            "        Twinkle, twinkle, little star,\n",
            "         How I wonder what you are\n",
            "\n",
            "\n",
            "Twinkle, twinkle, little star, \n",
            "\tHow I wonder what you are! \n",
            "\t\tUp above the world so high, \n",
            "\t\tLike a diamond in the sky. \n",
            "Twinkle, twinkle, little star, \n",
            "\tHow I wonder what you are!\n"
          ]
        }
      ]
    },
    {
      "cell_type": "code",
      "metadata": {
        "colab": {
          "base_uri": "https://localhost:8080/"
        },
        "id": "zfRS1BidAzfA",
        "outputId": "8e8f5809-3aad-46c9-fab0-d08188cd900c"
      },
      "source": [
        "#Write a Python program to get the Python version you are using.\n",
        "import sys\n",
        "print(\"Python version\")\n",
        "print (sys.version)\n",
        "print(\"Version info.\")\n",
        "print (sys.version_info)\n"
      ],
      "execution_count": 9,
      "outputs": [
        {
          "output_type": "stream",
          "name": "stdout",
          "text": [
            "Python version\n",
            "3.7.12 (default, Sep 10 2021, 00:21:48) \n",
            "[GCC 7.5.0]\n",
            "Version info.\n",
            "sys.version_info(major=3, minor=7, micro=12, releaselevel='final', serial=0)\n"
          ]
        }
      ]
    },
    {
      "cell_type": "code",
      "metadata": {
        "colab": {
          "base_uri": "https://localhost:8080/"
        },
        "id": "yrsNSl64BLyb",
        "outputId": "ec71d993-2257-4e65-e2ca-04189c2eb1f6"
      },
      "source": [
        "#Write a Python program to display the current date and time.\n",
        "import datetime\n",
        "now = datetime.datetime.now()\n",
        "print (\"Current date and time : \")\n",
        "print (now.strftime(\"%Y-%m-%d %H:%M:%S\"))\n"
      ],
      "execution_count": 10,
      "outputs": [
        {
          "output_type": "stream",
          "name": "stdout",
          "text": [
            "Current date and time : \n",
            "2021-09-28 15:28:14\n"
          ]
        }
      ]
    },
    {
      "cell_type": "code",
      "metadata": {
        "colab": {
          "base_uri": "https://localhost:8080/"
        },
        "id": "MJszvpc9Bx9U",
        "outputId": "3dcbe694-675e-4c87-8e6f-f2b82d88e69d"
      },
      "source": [
        "#Write a Python program which accepts the radius of a circle from the user and compute the area.\n",
        "print(\"enter the radius of circle\")\n",
        "radius=float(input())\n",
        "area=3.14*radius*radius\n",
        "print(\"area of circle\")\n",
        "print(area)\n",
        "\n",
        "#other way to find\n",
        "print(\"\\n\")\n",
        "from math import pi\n",
        "r = float(input (\"Input the radius of the circle : \"))\n",
        "print (\"The area of the circle with radius \" + str(r) + \" is: \" + str(pi * r**2))\n"
      ],
      "execution_count": 12,
      "outputs": [
        {
          "output_type": "stream",
          "name": "stdout",
          "text": [
            "enter the radius of circle\n",
            "1.1\n",
            "area of circle\n",
            "3.7994000000000008\n",
            "\n",
            "\n",
            "Input the radius of the circle : 1.1\n",
            "The area of the circle with radius 1.1 is: 3.8013271108436504\n"
          ]
        }
      ]
    },
    {
      "cell_type": "code",
      "metadata": {
        "colab": {
          "base_uri": "https://localhost:8080/"
        },
        "id": "nWI06IRfCrzw",
        "outputId": "73fd4fa4-6ae5-4613-8aa8-553636d4c985"
      },
      "source": [
        "#Write a Python program which accepts the user's first and last name and print them \n",
        "#in reverse order with a space between them.\n",
        "x=str(input(\"enter the user's first and last name:\"))\n",
        "print(x)\n",
        "print(\"reverse of entered username\")\n",
        "print(x[::-1])  #print it reverse\n"
      ],
      "execution_count": 17,
      "outputs": [
        {
          "output_type": "stream",
          "name": "stdout",
          "text": [
            "enter the user's first and last name:TANU RAJPUT\n",
            "TANU RAJPUT\n",
            "reverse of entered username\n",
            "TUPJAR UNAT\n"
          ]
        }
      ]
    },
    {
      "cell_type": "code",
      "metadata": {
        "colab": {
          "base_uri": "https://localhost:8080/"
        },
        "id": "SuvI9x86D1iE",
        "outputId": "4a945de3-13ed-4a40-c66c-541de3a5ff47"
      },
      "source": [
        "#Write a Python program which accepts a sequence of comma-separated numbers from user \n",
        "#and generate a list and a tuple with those numbers\n",
        "values=input(\"sequence of comma seperated number::\")\n",
        "list = values.split(\",\")\n",
        "tuple = tuple(list)\n",
        "print('List : ',list)\n",
        "print('Tuple : ',tuple)\n"
      ],
      "execution_count": 24,
      "outputs": [
        {
          "output_type": "stream",
          "name": "stdout",
          "text": [
            "sequence of comma seperated number::3 4 5 6 7\n",
            "List :  ['3 4 5 6 7']\n",
            "Tuple :  ('3 4 5 6 7',)\n"
          ]
        }
      ]
    },
    {
      "cell_type": "code",
      "metadata": {
        "colab": {
          "base_uri": "https://localhost:8080/"
        },
        "id": "t-cZ8rLnFdhE",
        "outputId": "633d8446-4efd-4342-d425-7c592310a529"
      },
      "source": [
        "#Write a Python program to accept a filename from the user and print the\n",
        "# extension of that\n",
        "filename = input(\"Input the Filename: \")\n",
        "f_extns = filename.split(\".\")\n",
        "print (\"The extension of the file is : \" + repr(f_extns[-1]))\n"
      ],
      "execution_count": 26,
      "outputs": [
        {
          "output_type": "stream",
          "name": "stdout",
          "text": [
            "Input the Filename: hy.java\n",
            "The extension of the file is : 'java'\n"
          ]
        }
      ]
    }
  ]
}