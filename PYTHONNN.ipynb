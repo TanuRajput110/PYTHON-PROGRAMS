{
  "nbformat": 4,
  "nbformat_minor": 0,
  "metadata": {
    "colab": {
      "name": "PYTHONNN.ipynb",
      "provenance": [],
      "collapsed_sections": [],
      "authorship_tag": "ABX9TyPpqmRy74WsKVoMC8WeiArm",
      "include_colab_link": true
    },
    "kernelspec": {
      "name": "python3",
      "display_name": "Python 3"
    },
    "language_info": {
      "name": "python"
    }
  },
  "cells": [
    {
      "cell_type": "markdown",
      "metadata": {
        "id": "view-in-github",
        "colab_type": "text"
      },
      "source": [
        "<a href=\"https://colab.research.google.com/github/TanuRajput110/PYTHON-PROGRAMS/blob/main/PYTHONNN.ipynb\" target=\"_parent\"><img src=\"https://colab.research.google.com/assets/colab-badge.svg\" alt=\"Open In Colab\"/></a>"
      ]
    },
    {
      "cell_type": "markdown",
      "metadata": {
        "id": "PILGt-IUbDPb"
      },
      "source": [
        "!.BASIC AIRTHMETIC.."
      ]
    },
    {
      "cell_type": "code",
      "metadata": {
        "colab": {
          "base_uri": "https://localhost:8080/"
        },
        "id": "x_prYIwgbJHN",
        "outputId": "af86e742-c773-4dd8-a781-ec856d9690b8"
      },
      "source": [
        "#ADDITION\n",
        "print(\"input first number:\")\n",
        "a=int(input())\n",
        "print(\"input second number:\")\n",
        "b=int(input())\n",
        "print(\"sum of a and b :\")\n",
        "c=a+b\n",
        "print(c)\n"
      ],
      "execution_count": 18,
      "outputs": [
        {
          "output_type": "stream",
          "name": "stdout",
          "text": [
            "input first number:\n",
            "45\n",
            "input second number:\n",
            "7\n",
            "sum of a and b :\n",
            "52\n"
          ]
        }
      ]
    },
    {
      "cell_type": "code",
      "metadata": {
        "colab": {
          "base_uri": "https://localhost:8080/"
        },
        "id": "LCrooqnIeIWR",
        "outputId": "bab3c160-4ae6-43b3-83ea-ac47e9fe038f"
      },
      "source": [
        "#SUBSTRACTION\n",
        "print(\"input first number:\")\n",
        "a=int(input())\n",
        "print(\"input second number:\")\n",
        "b=int(input())\n",
        "print(\"sUB of a and b :\")\n",
        "c=a-b\n",
        "print(c)\n"
      ],
      "execution_count": 26,
      "outputs": [
        {
          "output_type": "stream",
          "name": "stdout",
          "text": [
            "input first number:\n",
            "66\n",
            "input second number:\n",
            "5\n",
            "sUB of a and b :\n",
            "61\n"
          ]
        }
      ]
    },
    {
      "cell_type": "code",
      "metadata": {
        "colab": {
          "base_uri": "https://localhost:8080/"
        },
        "id": "XrtPUrpDeQL6",
        "outputId": "c1a37774-4428-426c-bb31-540c69e948b9"
      },
      "source": [
        "#MULTIPLICATION\n",
        "print(\"input first number:\")\n",
        "a=int(input())\n",
        "print(\"input second number:\")\n",
        "b=int(input())\n",
        "print(\"MUL of a and b :\")\n",
        "c=a*b\n",
        "print(c)\n"
      ],
      "execution_count": 27,
      "outputs": [
        {
          "output_type": "stream",
          "name": "stdout",
          "text": [
            "input first number:\n",
            "56\n",
            "input second number:\n",
            "6\n",
            "MUL of a and b :\n",
            "336\n"
          ]
        }
      ]
    },
    {
      "cell_type": "code",
      "metadata": {
        "colab": {
          "base_uri": "https://localhost:8080/"
        },
        "id": "tAeXet8veV3p",
        "outputId": "a4e8f279-3aa0-41d3-9101-bff99baf136a"
      },
      "source": [
        "#DIVISION7\n",
        "print(\"input first number:\")\n",
        "a=int(input())\n",
        "print(\"input second number:\")\n",
        "b=int(input())\n",
        "print(\"DIVISION of a and b :\")\n",
        "c=a/b\n",
        "print(c)\n"
      ],
      "execution_count": 29,
      "outputs": [
        {
          "output_type": "stream",
          "name": "stdout",
          "text": [
            "input first number:\n",
            "56\n",
            "input second number:\n",
            "8\n",
            "DIVISION of a and b :\n",
            "7.0\n"
          ]
        }
      ]
    },
    {
      "cell_type": "code",
      "metadata": {
        "colab": {
          "base_uri": "https://localhost:8080/"
        },
        "id": "fV5Kc9JIedP4",
        "outputId": "75b84da3-fac6-4107-869e-2f57d0e73534"
      },
      "source": [
        "#FLOOR DIVISION\n",
        "print(\"input first number:\")\n",
        "a=int(input())\n",
        "print(\"input second number:\")\n",
        "b=int(input())\n",
        "print(\"FLOORDIVISION of a and b :\")\n",
        "c=a//b\n",
        "print(c)\n"
      ],
      "execution_count": 30,
      "outputs": [
        {
          "output_type": "stream",
          "name": "stdout",
          "text": [
            "input first number:\n",
            "56\n",
            "input second number:\n",
            "78\n",
            "FLOORDIVISION of a and b :\n",
            "0\n"
          ]
        }
      ]
    },
    {
      "cell_type": "markdown",
      "metadata": {
        "id": "-uznc9cLd92c"
      },
      "source": [
        "!.VARIABLE ASSIGNMENTS"
      ]
    },
    {
      "cell_type": "code",
      "metadata": {
        "colab": {
          "base_uri": "https://localhost:8080/"
        },
        "id": "E1BPbp_beEsw",
        "outputId": "d0696741-1add-4c98-b3b7-ca95e3b333c5"
      },
      "source": [
        "a=7\n",
        "print(a)\n",
        "print(a+a)\n",
        "print(a/7)\n",
        "print(a-2)\n",
        "\n"
      ],
      "execution_count": 34,
      "outputs": [
        {
          "output_type": "stream",
          "name": "stdout",
          "text": [
            "7\n",
            "14\n",
            "1.0\n",
            "5\n"
          ]
        }
      ]
    },
    {
      "cell_type": "markdown",
      "metadata": {
        "id": "PLHOug8Ihzfl"
      },
      "source": [
        "!.Determining variable type with type()"
      ]
    },
    {
      "cell_type": "code",
      "metadata": {
        "colab": {
          "base_uri": "https://localhost:8080/"
        },
        "id": "upK2EKYLh7Oi",
        "outputId": "3f966fbc-535f-49c0-e8b7-8d5bd5b0e90e"
      },
      "source": [
        "#determining variable type with type()\n",
        "type(a)\n",
        "b=7.7\n",
        "print(type(b))\n",
        "c='hello'\n",
        "print(type(c))\n",
        "d=[1,2,3,4]\n",
        "print(type(d))\n",
        "e=(1,2,3)\n",
        "print(type(e))\n",
        "f={1:\"one\",2:\"two\"}\n",
        "print(type(f))\n",
        "g={1,2,3}\n",
        "print(type(g))\n",
        "i=True\n",
        "print(type(i))"
      ],
      "execution_count": 37,
      "outputs": [
        {
          "output_type": "stream",
          "name": "stdout",
          "text": [
            "<class 'float'>\n",
            "<class 'str'>\n",
            "<class 'list'>\n",
            "<class 'tuple'>\n",
            "<class 'dict'>\n",
            "<class 'set'>\n",
            "<class 'bool'>\n"
          ]
        }
      ]
    },
    {
      "cell_type": "markdown",
      "metadata": {
        "id": "I-ix1KzkkxE6"
      },
      "source": [
        "!.Static Basics"
      ]
    },
    {
      "cell_type": "code",
      "metadata": {
        "colab": {
          "base_uri": "https://localhost:8080/"
        },
        "id": "Wy5xC9syk0mp",
        "outputId": "053a78ff-8402-4cf7-d499-323fcdde22fa"
      },
      "source": [
        "s='python_codes'\n",
        "s\n",
        "'python_codes'\n",
        "print(\"(1).length of code::\")\n",
        "print(len(s))\n",
        "print(\"(2).0th index:\")\n",
        "print(s[0])\n",
        "print(\"(3).print this indexing  s[1:0]:\")\n",
        "print(s[1:])\n",
        "print([\"(4).print s:\"])\n",
        "print(s)\n",
        "print(\"(5).print this indexing  s[:7]:\")\n",
        "print(s[:7])\n",
        "print(\"(6).print this indexing  s[:]:\")\n",
        "print(s[:])\n",
        "print(\"(7).print this indexing  s[::1]:\")\n",
        "print(s[::1])\n",
        "print(\"(8).print this indexing s[::-1]:\")\n",
        "print(s[::-1])\n",
        "print(\"(9).print this :::var*10(var=a):\")\n",
        "var=\"a\"\n",
        "var*10\n",
        "print('print this term--s=s+ \"python channel\"::::: ')\n",
        "s=s+\"python channel\"\n",
        "print(s)\n",
        "print(\"s.upper()::\")\n",
        "s.upper()\n",
        "print(\"s.lower()\")\n",
        "s.lower()\n",
        "print(\"s.split('codes'):::\")\n",
        "s.split('codes')\n",
        "\n"
      ],
      "execution_count": 53,
      "outputs": [
        {
          "output_type": "stream",
          "name": "stdout",
          "text": [
            "(1).length of code::\n",
            "12\n",
            "(2).0th index:\n",
            "p\n",
            "(3).print this indexing  s[1:0]:\n",
            "ython_codes\n",
            "['(4).print s:']\n",
            "python_codes\n",
            "(5).print this indexing  s[:7]:\n",
            "python_\n",
            "(6).print this indexing  s[:]:\n",
            "python_codes\n",
            "(7).print this indexing  s[::1]:\n",
            "python_codes\n",
            "(8).print this indexing s[::-1]:\n",
            "sedoc_nohtyp\n",
            "(9).print this :::var*10(var=a):\n",
            "print this term--s=s+ \"python channel\"::::: \n",
            "python_codespython channel\n",
            "s.upper()::\n",
            "s.lower()\n",
            "s.split('codes'):::\n"
          ]
        },
        {
          "output_type": "execute_result",
          "data": {
            "text/plain": [
              "['python_', 'python channel']"
            ]
          },
          "metadata": {},
          "execution_count": 53
        }
      ]
    },
    {
      "cell_type": "markdown",
      "metadata": {
        "id": "wvSlg2sPsk5y"
      },
      "source": [
        "!.LIST"
      ]
    },
    {
      "cell_type": "code",
      "metadata": {
        "colab": {
          "base_uri": "https://localhost:8080/"
        },
        "id": "j4W4KP1ksniY",
        "outputId": "d0564297-56fa-4f99-939d-3648068acfa2"
      },
      "source": [
        "#list making\n",
        "list=[8,0,5,1]\n",
        "print(list)\n",
        "len(list)\n",
        "\n",
        "list_2=['string','8065','p']\n",
        "print(list_2)\n",
        "print(len(list_2))\n",
        "#indexing and slicing\n",
        "list=['one','ox','ok']\n",
        "print(list[0])\n",
        "print(list[1:])\n",
        "print(list[2:])\n",
        "print(list[-1])\n",
        "print(list[::-1])\n",
        "print(list + [1233])\n",
        "print(list*2)\n",
        "\n",
        "#Basic list methods\n",
        "list=[4,0,1,3]\n",
        "print(list.append(\"new\"))\n",
        "print(list.pop())\n",
        "print(list)\n",
        "print(list.reverse())\n",
        "\n",
        "#nesting list\n",
        "list_1=[1,2,34]\n",
        "list_2=[4,6,7]\n",
        "list_3=[4,5,7]\n",
        "matrix=[list_2,list_2,list_3]\n",
        "print(matrix)\n",
        "print(matrix[1])\n",
        "print(matrix[0][1])"
      ],
      "execution_count": 55,
      "outputs": [
        {
          "output_type": "stream",
          "name": "stdout",
          "text": [
            "[8, 0, 5, 1]\n",
            "['string', '8065', 'p']\n",
            "3\n",
            "one\n",
            "['ox', 'ok']\n",
            "['ok']\n",
            "ok\n",
            "['ok', 'ox', 'one']\n",
            "['one', 'ox', 'ok', 1233]\n",
            "['one', 'ox', 'ok', 'one', 'ox', 'ok']\n",
            "None\n",
            "new\n",
            "[4, 0, 1, 3]\n",
            "None\n",
            "[[4, 6, 7], [4, 6, 7], [4, 5, 7]]\n",
            "[4, 6, 7]\n",
            "6\n"
          ]
        }
      ]
    },
    {
      "cell_type": "markdown",
      "metadata": {
        "id": "qaE9QGfyvQGK"
      },
      "source": [
        "!.PROGRAMS"
      ]
    },
    {
      "cell_type": "code",
      "metadata": {
        "id": "RVvIpzcDvTL1"
      },
      "source": [
        ""
      ],
      "execution_count": null,
      "outputs": []
    }
  ]
}